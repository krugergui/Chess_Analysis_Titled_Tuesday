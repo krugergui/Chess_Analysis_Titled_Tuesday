{
 "cells": [
  {
   "cell_type": "code",
   "execution_count": 1,
   "id": "66b0a506-44d5-4b91-b718-cea185ffde66",
   "metadata": {},
   "outputs": [
    {
     "name": "stderr",
     "output_type": "stream",
     "text": [
      "24/02/29 02:04:11 WARN NativeCodeLoader: Unable to load native-hadoop library for your platform... using builtin-java classes where applicable\n",
      "Setting default log level to \"WARN\".\n",
      "To adjust logging level use sc.setLogLevel(newLevel). For SparkR, use setLogLevel(newLevel).\n",
      "[Stage 0:>                                                        (0 + 10) / 10]\r"
     ]
    },
    {
     "name": "stdout",
     "output_type": "stream",
     "text": [
      "Approximate sum: 45.0\n"
     ]
    },
    {
     "name": "stderr",
     "output_type": "stream",
     "text": [
      "[Stage 0:=======================>                                  (4 + 6) / 10]\r"
     ]
    }
   ],
   "source": [
    "from operator import add\n",
    "import nltk\n",
    "from pyspark.ml.feature import Tokenizer, StopWordsRemover\n",
    "from pyspark.sql import SQLContext\n",
    "import pyspark\n",
    "import pyspark.sql.functions as f\n",
    "\n",
    "conf = pyspark.SparkConf()\n",
    "conf.setMaster(\"k8s://https://kubernetes.default:443\")\n",
    "conf.set(\"spark.kubernetes.container.image\", \"spark-k8s-jupyter:v3.5.0\")\n",
    "\n",
    "conf.set(\"spark.kubernetes.container.image.pullPolicy\", \"Never\")\n",
    "\n",
    "conf.set(\n",
    "    \"spark.kubernetes.authenticate.caCertFile\",\n",
    "    \"/var/run/secrets/kubernetes.io/serviceaccount/ca.crt\",\n",
    ")\n",
    "\n",
    "conf.set(\n",
    "    \"spark.kubernetes.authenticate.oauthTokenFile\",\n",
    "    \"/var/run/secrets/kubernetes.io/serviceaccount/token\",\n",
    ")\n",
    "\n",
    "conf.set(\"spark.kubernetes.authenticate.driver.serviceAccountName\", \"spark-driver\")\n",
    "\n",
    "conf.set(\"spark.jars\", \"/opt/spark/jars/postgresql-42.7.2.jar\")\n",
    "\n",
    "# 2 pods/workers will be created. Can be expanded for larger workloads.\n",
    "conf.set(\"spark.executor.instances\", \"2\")\n",
    "conf.set(\"spark.executor.cores\", \"4\")\n",
    "conf.set(\"spark.executor.memory\", \"8g\")\n",
    "\n",
    "# The DNS alias for the Spark driver. Required by executors to report status.\n",
    "conf.set(\"spark.driver.host\", \"jupyter-pod\")\n",
    "\n",
    "# Port which the Spark shell should bind to and to which executors will report progress\n",
    "# conf.set(\"spark.driver.port\", \"20200\")\n",
    "\n",
    "# Initialize spark context, create executors\n",
    "sc = pyspark.SparkContext(conf=conf)\n",
    "\n",
    "# Create a distributed data set to test to the session\n",
    "t = sc.parallelize(range(10))\n",
    "\n",
    "# Calculate the approximate sum of values in the dataset\n",
    "r = t.sumApprox(3)\n",
    "print(\"Approximate sum: %s\" % r)"
   ]
  },
  {
   "cell_type": "code",
   "execution_count": 2,
   "id": "925bf7ed-96c7-4c01-9c8e-6b306bb1b10b",
   "metadata": {},
   "outputs": [
    {
     "name": "stderr",
     "output_type": "stream",
     "text": [
      "/usr/local/lib/python3.10/dist-packages/pyspark/sql/context.py:113: FutureWarning: Deprecated in 3.0.0. Use SparkSession.builder.getOrCreate() instead.\n",
      "  warnings.warn(\n"
     ]
    }
   ],
   "source": [
    "sqlctx = SQLContext(sc)\n",
    "df = (\n",
    "    sqlctx.read.format(\"jdbc\")\n",
    "    .options(\n",
    "        url=\"jdbc:postgresql://aws-0-eu-central-1.pooler.supabase.com:5432/postgres?user=postgres.wespevtgopktsywbvwyk&password=10SaPUB5pHAh8QYA\",\n",
    "        dbtable=\"public.tweets\",\n",
    "        numPartitions=24,\n",
    "        partitionColumn=\"tweet_id\",\n",
    "        lowerBound=1_000,\n",
    "        upperBound=100_000,\n",
    "    )\n",
    "    .load()\n",
    ")"
   ]
  },
  {
   "cell_type": "code",
   "execution_count": 3,
   "id": "b94986da-c7e9-4e41-beca-d5e2648340a9",
   "metadata": {},
   "outputs": [
    {
     "name": "stderr",
     "output_type": "stream",
     "text": [
      "                                                                                \r"
     ]
    },
    {
     "data": {
      "text/plain": [
       "656555"
      ]
     },
     "execution_count": 3,
     "metadata": {},
     "output_type": "execute_result"
    }
   ],
   "source": [
    "df.count()"
   ]
  },
  {
   "cell_type": "code",
   "execution_count": 4,
   "id": "31c482b4-7ed5-496d-8119-c4e7150be1a1",
   "metadata": {},
   "outputs": [
    {
     "name": "stdout",
     "output_type": "stream",
     "text": [
      "root\n",
      " |-- external_author_id: long (nullable = true)\n",
      " |-- author: string (nullable = true)\n",
      " |-- content: string (nullable = true)\n",
      " |-- region: string (nullable = true)\n",
      " |-- language: string (nullable = true)\n",
      " |-- publish_date: string (nullable = true)\n",
      " |-- harvested_date: string (nullable = true)\n",
      " |-- following: string (nullable = true)\n",
      " |-- followers: string (nullable = true)\n",
      " |-- updates: long (nullable = true)\n",
      " |-- post_type: string (nullable = true)\n",
      " |-- account_type: string (nullable = true)\n",
      " |-- retweet: string (nullable = true)\n",
      " |-- account_category: string (nullable = true)\n",
      " |-- new_june_2018: string (nullable = true)\n",
      " |-- alt_external_id: long (nullable = true)\n",
      " |-- tweet_id: long (nullable = true)\n",
      " |-- article_url: string (nullable = true)\n",
      " |-- tco1_step1: string (nullable = true)\n",
      " |-- tco2_step1: string (nullable = true)\n",
      " |-- tco3_step1: string (nullable = true)\n",
      "\n"
     ]
    }
   ],
   "source": [
    "df.printSchema()"
   ]
  },
  {
   "cell_type": "code",
   "execution_count": 5,
   "id": "a1a21d17-037b-45fe-a999-21dfb3a032e2",
   "metadata": {},
   "outputs": [
    {
     "name": "stderr",
     "output_type": "stream",
     "text": [
      "                                                                                \r"
     ]
    },
    {
     "name": "stdout",
     "output_type": "stream",
     "text": [
      "+------------------+------+--------------------+-------+--------+---------------+---------------+---------+---------+-------+---------+------------+-------+----------------+-------------+------------------+------------------+--------------------+--------------------+----------+----------+\n",
      "|external_author_id|author|             content| region|language|   publish_date| harvested_date|following|followers|updates|post_type|account_type|retweet|account_category|new_june_2018|   alt_external_id|          tweet_id|         article_url|          tco1_step1|tco2_step1|tco3_step1|\n",
      "+------------------+------+--------------------+-------+--------+---------------+---------------+---------+---------+-------+---------+------------+-------+----------------+-------------+------------------+------------------+--------------------+--------------------+----------+----------+\n",
      "|906000000000000000|10_GOP|\"We have a sittin...|Unknown| English|10/1/2017 19:58|10/1/2017 19:59|     1052|     9636|    253|     NULL|       Right|      0|      RightTroll|            0|905874659358453760|914580356430536707|http://twitter.co...|https://twitter.c...|      NULL|      NULL|\n",
      "|906000000000000000|10_GOP|Marshawn Lynch ar...|Unknown| English|10/1/2017 22:43|10/1/2017 22:43|     1054|     9637|    254|     NULL|       Right|      0|      RightTroll|            0|905874659358453760|914621840496189440|http://twitter.co...|https://twitter.c...|      NULL|      NULL|\n",
      "|906000000000000000|10_GOP|Daughter of falle...|Unknown| English|10/1/2017 22:50|10/1/2017 22:51|     1054|     9637|    255|  RETWEET|       Right|      1|      RightTroll|            0|905874659358453760|914623490375979008|http://twitter.co...|https://twitter.c...|      NULL|      NULL|\n",
      "|906000000000000000|10_GOP|JUST IN: Presiden...|Unknown| English|10/1/2017 23:52|10/1/2017 23:52|     1062|     9642|    256|     NULL|       Right|      0|      RightTroll|            0|905874659358453760|914639143690555392|http://twitter.co...|https://twitter.c...|      NULL|      NULL|\n",
      "|906000000000000000|10_GOP|19,000 RESPECTING...|Unknown| English| 10/1/2017 2:13| 10/1/2017 2:13|     1050|     9645|    246|  RETWEET|       Right|      1|      RightTroll|            0|905874659358453760|914312219952861184|http://twitter.co...|https://twitter.c...|      NULL|      NULL|\n",
      "|906000000000000000|10_GOP|Dan Bongino: \"Nob...|Unknown| English| 10/1/2017 2:47| 10/1/2017 2:47|     1050|     9644|    247|     NULL|       Right|      0|      RightTroll|            0|905874659358453760|914320835325853696|http://twitter.co...|https://twitter.c...|      NULL|      NULL|\n",
      "|906000000000000000|10_GOP|🐝🐝🐝 https://t....|Unknown| English| 10/1/2017 2:48| 10/1/2017 2:48|     1050|     9644|    248|  RETWEET|       Right|      1|      RightTroll|            0|905874659358453760|914321156466933760|http://twitter.co...|https://twitter.c...|      NULL|      NULL|\n",
      "|906000000000000000|10_GOP|'@SenatorMenendez...|Unknown| English| 10/1/2017 2:52| 10/1/2017 2:53|     1050|     9644|    249|     NULL|       Right|      0|      RightTroll|            0|905874659358453760|914322215537119234|http://twitter.co...|                NULL|      NULL|      NULL|\n",
      "|906000000000000000|10_GOP|As much as I hate...|Unknown| English| 10/1/2017 3:47| 10/1/2017 3:47|     1050|     9646|    250|     NULL|       Right|      0|      RightTroll|            0|905874659358453760|914335818503933957|http://twitter.co...|http://www.cnn.co...|      NULL|      NULL|\n",
      "|906000000000000000|10_GOP|After the 'genoci...|Unknown| English| 10/1/2017 3:51| 10/1/2017 3:51|     1050|     9646|    251|     NULL|       Right|      0|      RightTroll|            0|905874659358453760|914336862730375170|http://twitter.co...|                NULL|      NULL|      NULL|\n",
      "+------------------+------+--------------------+-------+--------+---------------+---------------+---------+---------+-------+---------+------------+-------+----------------+-------------+------------------+------------------+--------------------+--------------------+----------+----------+\n",
      "\n"
     ]
    }
   ],
   "source": [
    "df.limit(10).show()"
   ]
  },
  {
   "cell_type": "code",
   "execution_count": 6,
   "id": "5711587a-03e7-4a84-8301-20d9f1e54a8a",
   "metadata": {},
   "outputs": [
    {
     "name": "stdout",
     "output_type": "stream",
     "text": [
      "############ most used words in the Tweets are:\n"
     ]
    },
    {
     "name": "stderr",
     "output_type": "stream",
     "text": [
      "[Stage 8:======================================================>  (23 + 1) / 24]\r"
     ]
    },
    {
     "name": "stdout",
     "output_type": "stream",
     "text": [
      "+--------+------+\n",
      "|    word| count|\n",
      "+--------+------+\n",
      "|        |173633|\n",
      "|   trump| 55020|\n",
      "|      rt| 42997|\n",
      "|       в| 41261|\n",
      "|    news| 25028|\n",
      "|     new| 17243|\n",
      "|      на| 16471|\n",
      "|     amp| 16168|\n",
      "|  police| 15789|\n",
      "|     man| 15216|\n",
      "|breaking| 15156|\n",
      "|  people| 14824|\n",
      "|   obama| 14672|\n",
      "|       и| 13608|\n",
      "|   video| 12536|\n",
      "|      us| 12318|\n",
      "|       2| 12270|\n",
      "|    like| 12237|\n",
      "|     one| 12142|\n",
      "|     get| 12038|\n",
      "+--------+------+\n",
      "only showing top 20 rows\n",
      "\n"
     ]
    },
    {
     "name": "stderr",
     "output_type": "stream",
     "text": [
      "                                                                                \r"
     ]
    }
   ],
   "source": [
    "regex_remove_urls = r\"https?:\\/\\/(www\\.)?[-a-zA-Z0-9@:%._\\+~#=]{1,256}\\.[a-zA-Z0-9()]{1,6}\\b([-a-zA-Z0-9()@:%_\\+.~#?&//=]*)\"\n",
    "regex_remove_special_characters = r\"[^A-Za-z0-9 ЁёА-я]\"\n",
    "\n",
    "df_no_special_characters = (\n",
    "    df.withColumn(\"clean_content\", f.regexp_replace(\"content\", regex_remove_urls, \" \"))\n",
    "    .withColumn(\n",
    "        \"clean_content\", f.regexp_replace(\"clean_content\", regex_remove_special_characters, \" \")\n",
    "    )\n",
    "    .withColumn(\"clean_content\", f.regexp_replace(\"clean_content\", \" +\", \" \"))\n",
    "    .select(\"clean_content\")\n",
    ")\n",
    "\n",
    "tokenizer = Tokenizer(inputCol=\"clean_content\", outputCol=\"words_token\")\n",
    "tokenized = tokenizer.transform(\n",
    "    df_no_special_characters.filter(f.col(\"clean_content\").rlike(\"[^0-9A-Za-z]\"))\n",
    ").select(\"clean_content\", \"words_token\")\n",
    "\n",
    "# Once in arrays, we can use the Apache Spark function StopWordsRemover\n",
    "# A new column \"words_clean\" is here as an output\n",
    "remover = StopWordsRemover(inputCol=\"words_token\", outputCol=\"words_clean\")\n",
    "data_clean = remover.transform(tokenized).select(\"clean_content\", \"words_clean\")\n",
    "data_clean.cache()\n",
    "\n",
    "# Final step : like in the beginning, we can group again words and sort them by the most used\n",
    "result = (\n",
    "    data_clean.withColumn(\"word\", f.explode(f.col(\"words_clean\")))\n",
    "    .groupBy(\"word\")\n",
    "    .count()\n",
    "    .sort(\"count\", ascending=False)\n",
    ")\n",
    "\n",
    "print(\"############ most used words in the Tweets are:\")\n",
    "result.show()"
   ]
  },
  {
   "cell_type": "code",
   "execution_count": 7,
   "id": "2618c8a6-9bd4-4781-befd-3f5c6601fff3",
   "metadata": {},
   "outputs": [
    {
     "name": "stderr",
     "output_type": "stream",
     "text": [
      "[Stage 11:=====================================================>  (23 + 1) / 24]\r"
     ]
    },
    {
     "name": "stdout",
     "output_type": "stream",
     "text": [
      "+---------+-----+\n",
      "|     word|count|\n",
      "+---------+-----+\n",
      "|    trump|55020|\n",
      "|       rt|42997|\n",
      "|     news|25028|\n",
      "|      new|17243|\n",
      "|      amp|16168|\n",
      "|   police|15789|\n",
      "|      man|15216|\n",
      "| breaking|15156|\n",
      "|   people|14824|\n",
      "|    obama|14672|\n",
      "|    video|12536|\n",
      "|       us|12318|\n",
      "|     like|12237|\n",
      "|      one|12142|\n",
      "|      get|12038|\n",
      "|  hillary|11303|\n",
      "|        m|10287|\n",
      "|president|10255|\n",
      "| politics| 9619|\n",
      "|    black| 9579|\n",
      "+---------+-----+\n",
      "only showing top 20 rows\n",
      "\n"
     ]
    },
    {
     "name": "stderr",
     "output_type": "stream",
     "text": [
      "                                                                                \r"
     ]
    }
   ],
   "source": [
    " result.filter(~f.col(\"word\").rlike(\"[^A-Za-z]|^$\")).show()"
   ]
  },
  {
   "cell_type": "markdown",
   "id": "69f61a9d-2109-45be-a074-c6a543cb122a",
   "metadata": {},
   "source": [
    "# Vader Sentiment Analysis\n"
   ]
  },
  {
   "cell_type": "code",
   "execution_count": 8,
   "id": "d40cc90a-dc6a-4e97-b282-a8a68a58b913",
   "metadata": {},
   "outputs": [
    {
     "data": {
      "text/html": [
       "<div>\n",
       "<style scoped>\n",
       "    .dataframe tbody tr th:only-of-type {\n",
       "        vertical-align: middle;\n",
       "    }\n",
       "\n",
       "    .dataframe tbody tr th {\n",
       "        vertical-align: top;\n",
       "    }\n",
       "\n",
       "    .dataframe thead th {\n",
       "        text-align: right;\n",
       "    }\n",
       "</style>\n",
       "<table border=\"1\" class=\"dataframe\">\n",
       "  <thead>\n",
       "    <tr style=\"text-align: right;\">\n",
       "      <th></th>\n",
       "      <th>clean_content</th>\n",
       "      <th>words_clean</th>\n",
       "    </tr>\n",
       "  </thead>\n",
       "  <tbody>\n",
       "    <tr>\n",
       "      <th>0</th>\n",
       "      <td>We have a sitting Democrat US Senator on trial for corruption and you ve barely heard a peep from the mainstream media nedryun</td>\n",
       "      <td>[, sitting, democrat, us, senator, trial, corruption, ve, barely, heard, peep, mainstream, media, nedryun]</td>\n",
       "    </tr>\n",
       "    <tr>\n",
       "      <th>1</th>\n",
       "      <td>Marshawn Lynch arrives to game in anti Trump shirt Judging by his sagging pants the shirt should say Lynch vs belt</td>\n",
       "      <td>[marshawn, lynch, arrives, game, anti, trump, shirt, judging, sagging, pants, shirt, say, lynch, vs, belt]</td>\n",
       "    </tr>\n",
       "    <tr>\n",
       "      <th>2</th>\n",
       "      <td>Daughter of fallen Navy Sailor delivers powerful monologue on anthem protests burns her NFL packers gear BoycottNFL</td>\n",
       "      <td>[daughter, fallen, navy, sailor, delivers, powerful, monologue, anthem, protests, burns, nfl, packers, gear, boycottnfl]</td>\n",
       "    </tr>\n",
       "    <tr>\n",
       "      <th>3</th>\n",
       "      <td>JUST IN President Trump dedicates Presidents Cup golf tournament trophy to the people of Florida Texas and Puerto Rico</td>\n",
       "      <td>[president, trump, dedicates, presidents, cup, golf, tournament, trophy, people, florida, texas, puerto, rico]</td>\n",
       "    </tr>\n",
       "    <tr>\n",
       "      <th>4</th>\n",
       "      <td>19 000 RESPECTING our National Anthem StandForOurAnthem</td>\n",
       "      <td>[19, 000, respecting, national, anthem, standforouranthem]</td>\n",
       "    </tr>\n",
       "    <tr>\n",
       "      <th>5</th>\n",
       "      <td>Dan Bongino Nobody trolls liberals better than Donald Trump Exactly</td>\n",
       "      <td>[dan, bongino, nobody, trolls, liberals, better, donald, trump, exactly]</td>\n",
       "    </tr>\n",
       "    <tr>\n",
       "      <th>6</th>\n",
       "      <td></td>\n",
       "      <td>[]</td>\n",
       "    </tr>\n",
       "    <tr>\n",
       "      <th>7</th>\n",
       "      <td>SenatorMenendez CarmenYulinCruz Doesn t matter that CNN doesn t report on your crimes This won t change the fact that you re going down</td>\n",
       "      <td>[, senatormenendez, carmenyulincruz, doesn, matter, cnn, doesn, report, crimes, won, change, fact, re, going]</td>\n",
       "    </tr>\n",
       "    <tr>\n",
       "      <th>8</th>\n",
       "      <td>As much as I hate promoting CNN article here they are admitting EVERYTHING Trump said about PR relief two days ago</td>\n",
       "      <td>[much, hate, promoting, cnn, article, admitting, everything, trump, said, pr, relief, two, days, ago]</td>\n",
       "    </tr>\n",
       "    <tr>\n",
       "      <th>9</th>\n",
       "      <td>After the genocide remark from San Juan Mayor the narrative has changed though CNN fixes it s reporting constantly</td>\n",
       "      <td>[genocide, remark, san, juan, mayor, narrative, changed, though, cnn, fixes, reporting, constantly]</td>\n",
       "    </tr>\n",
       "  </tbody>\n",
       "</table>\n",
       "</div>"
      ],
      "text/plain": [
       "                                                                                                                               clean_content  \\\n",
       "0            We have a sitting Democrat US Senator on trial for corruption and you ve barely heard a peep from the mainstream media nedryun    \n",
       "1                        Marshawn Lynch arrives to game in anti Trump shirt Judging by his sagging pants the shirt should say Lynch vs belt    \n",
       "2                       Daughter of fallen Navy Sailor delivers powerful monologue on anthem protests burns her NFL packers gear BoycottNFL    \n",
       "3                    JUST IN President Trump dedicates Presidents Cup golf tournament trophy to the people of Florida Texas and Puerto Rico    \n",
       "4                                                                                   19 000 RESPECTING our National Anthem StandForOurAnthem    \n",
       "5                                                                       Dan Bongino Nobody trolls liberals better than Donald Trump Exactly    \n",
       "6                                                                                                                                              \n",
       "7   SenatorMenendez CarmenYulinCruz Doesn t matter that CNN doesn t report on your crimes This won t change the fact that you re going down    \n",
       "8                        As much as I hate promoting CNN article here they are admitting EVERYTHING Trump said about PR relief two days ago    \n",
       "9                        After the genocide remark from San Juan Mayor the narrative has changed though CNN fixes it s reporting constantly    \n",
       "\n",
       "                                                                                                                words_clean  \n",
       "0                [, sitting, democrat, us, senator, trial, corruption, ve, barely, heard, peep, mainstream, media, nedryun]  \n",
       "1                [marshawn, lynch, arrives, game, anti, trump, shirt, judging, sagging, pants, shirt, say, lynch, vs, belt]  \n",
       "2  [daughter, fallen, navy, sailor, delivers, powerful, monologue, anthem, protests, burns, nfl, packers, gear, boycottnfl]  \n",
       "3            [president, trump, dedicates, presidents, cup, golf, tournament, trophy, people, florida, texas, puerto, rico]  \n",
       "4                                                                [19, 000, respecting, national, anthem, standforouranthem]  \n",
       "5                                                  [dan, bongino, nobody, trolls, liberals, better, donald, trump, exactly]  \n",
       "6                                                                                                                        []  \n",
       "7             [, senatormenendez, carmenyulincruz, doesn, matter, cnn, doesn, report, crimes, won, change, fact, re, going]  \n",
       "8                     [much, hate, promoting, cnn, article, admitting, everything, trump, said, pr, relief, two, days, ago]  \n",
       "9                       [genocide, remark, san, juan, mayor, narrative, changed, though, cnn, fixes, reporting, constantly]  "
      ]
     },
     "execution_count": 8,
     "metadata": {},
     "output_type": "execute_result"
    }
   ],
   "source": [
    "import pandas as pd\n",
    "\n",
    "pd.set_option(\"max_colwidth\", None)\n",
    "\n",
    "df_pd = data_clean.limit(10).toPandas()\n",
    "df_pd"
   ]
  },
  {
   "cell_type": "code",
   "execution_count": 9,
   "id": "96a1d91c-29f8-4440-b6cc-a31e26c773e7",
   "metadata": {},
   "outputs": [],
   "source": [
    "from nltk.sentiment import SentimentIntensityAnalyzer\n",
    "from pyspark.sql.functions import udf\n",
    "from pyspark.sql.types import StringType, FloatType, IntegerType\n",
    "\n",
    "\n",
    "def getSentimentScore(tweetText):\n",
    "    analyzer = SentimentIntensityAnalyzer()\n",
    "    vs = analyzer.polarity_scores(tweetText)\n",
    "    return float(vs[\"compound\"])\n",
    "\n",
    "\n",
    "def getSentiment(score):\n",
    "    return 1 if score > 0 else 0\n",
    "\n",
    "\n",
    "def getCleanTweetText(filteredTweetText):\n",
    "    return \" \".join(filteredTweetText)"
   ]
  },
  {
   "cell_type": "code",
   "execution_count": 10,
   "id": "fe0e34b3-4b36-41a2-bb11-6ca709d27940",
   "metadata": {},
   "outputs": [
    {
     "name": "stderr",
     "output_type": "stream",
     "text": [
      "[Stage 19:================================>                       (11 + 7) / 19]\r"
     ]
    },
    {
     "name": "stdout",
     "output_type": "stream",
     "text": [
      "+--------------------+\n",
      "|joined_clean_content|\n",
      "+--------------------+\n",
      "| sitting democrat...|\n",
      "|marshawn lynch ar...|\n",
      "|daughter fallen n...|\n",
      "|president trump d...|\n",
      "|19 000 respecting...|\n",
      "+--------------------+\n",
      "only showing top 5 rows\n",
      "\n"
     ]
    },
    {
     "name": "stderr",
     "output_type": "stream",
     "text": [
      "                                                                                \r"
     ]
    }
   ],
   "source": [
    "udfCleanTweetText = udf(getCleanTweetText, StringType())\n",
    "dfFilteredCleanedTweet = data_clean.withColumn(\n",
    "    \"joined_clean_content\", udfCleanTweetText(\"words_clean\")\n",
    ")\n",
    "dfFilteredCleanedTweet.select(\"joined_clean_content\").show(5)"
   ]
  },
  {
   "cell_type": "code",
   "execution_count": 11,
   "id": "82e3fa8f-c9e2-4635-93d2-15e487b953e2",
   "metadata": {},
   "outputs": [
    {
     "name": "stderr",
     "output_type": "stream",
     "text": [
      "[Stage 22:==================>                                      (6 + 7) / 19]\r"
     ]
    },
    {
     "name": "stdout",
     "output_type": "stream",
     "text": [
      "+--------------------+--------------+\n",
      "|joined_clean_content|sentimentScore|\n",
      "+--------------------+--------------+\n",
      "| sitting democrat...|           0.0|\n",
      "|marshawn lynch ar...|       -0.3182|\n",
      "|daughter fallen n...|       -0.1531|\n",
      "|president trump d...|           0.0|\n",
      "|19 000 respecting...|        0.4939|\n",
      "+--------------------+--------------+\n",
      "only showing top 5 rows\n",
      "\n"
     ]
    },
    {
     "name": "stderr",
     "output_type": "stream",
     "text": [
      "                                                                                \r"
     ]
    }
   ],
   "source": [
    "udfSentimentScore = udf(getSentimentScore, FloatType())\n",
    "dfSentimentScore = dfFilteredCleanedTweet.withColumn(\n",
    "    \"sentimentScore\", udfSentimentScore(\"joined_clean_content\")\n",
    ")\n",
    "dfSentimentScore.select(\"joined_clean_content\", \"sentimentScore\").show(5)"
   ]
  },
  {
   "cell_type": "code",
   "execution_count": 12,
   "id": "f1cfc4d5-8666-4396-868b-c0aec4239a0e",
   "metadata": {
    "scrolled": true
   },
   "outputs": [
    {
     "name": "stderr",
     "output_type": "stream",
     "text": [
      "[Stage 25:==================================================>     (17 + 1) / 19]\r"
     ]
    },
    {
     "name": "stdout",
     "output_type": "stream",
     "text": [
      "+--------------------+--------------+---------+\n",
      "|joined_clean_content|sentimentScore|sentiment|\n",
      "+--------------------+--------------+---------+\n",
      "| sitting democrat...|           0.0|        0|\n",
      "|marshawn lynch ar...|       -0.3182|        0|\n",
      "|daughter fallen n...|       -0.1531|        0|\n",
      "|president trump d...|           0.0|        0|\n",
      "|19 000 respecting...|        0.4939|        1|\n",
      "+--------------------+--------------+---------+\n",
      "only showing top 5 rows\n",
      "\n"
     ]
    },
    {
     "name": "stderr",
     "output_type": "stream",
     "text": [
      "                                                                                \r"
     ]
    }
   ],
   "source": [
    "udfSentiment = udf(getSentiment, IntegerType())\n",
    "dfSentiment = dfSentimentScore.withColumn(\"sentiment\", udfSentiment(\"sentimentScore\"))\n",
    "dfSentiment.select(\"joined_clean_content\", \"sentimentScore\", \"sentiment\").show(5)"
   ]
  },
  {
   "cell_type": "code",
   "execution_count": 13,
   "id": "0ef54204-73a9-4515-990c-1fb3d5c23dcc",
   "metadata": {},
   "outputs": [
    {
     "name": "stderr",
     "output_type": "stream",
     "text": [
      "                                                                                \r"
     ]
    },
    {
     "data": {
      "text/html": [
       "<div>\n",
       "<style scoped>\n",
       "    .dataframe tbody tr th:only-of-type {\n",
       "        vertical-align: middle;\n",
       "    }\n",
       "\n",
       "    .dataframe tbody tr th {\n",
       "        vertical-align: top;\n",
       "    }\n",
       "\n",
       "    .dataframe thead th {\n",
       "        text-align: right;\n",
       "    }\n",
       "</style>\n",
       "<table border=\"1\" class=\"dataframe\">\n",
       "  <thead>\n",
       "    <tr style=\"text-align: right;\">\n",
       "      <th></th>\n",
       "      <th>sentiment</th>\n",
       "      <th>count</th>\n",
       "    </tr>\n",
       "  </thead>\n",
       "  <tbody>\n",
       "    <tr>\n",
       "      <th>0</th>\n",
       "      <td>0</td>\n",
       "      <td>8009</td>\n",
       "    </tr>\n",
       "    <tr>\n",
       "      <th>1</th>\n",
       "      <td>1</td>\n",
       "      <td>1991</td>\n",
       "    </tr>\n",
       "  </tbody>\n",
       "</table>\n",
       "</div>"
      ],
      "text/plain": [
       "   sentiment  count\n",
       "0          0   8009\n",
       "1          1   1991"
      ]
     },
     "execution_count": 13,
     "metadata": {},
     "output_type": "execute_result"
    }
   ],
   "source": [
    "df_small_sentimet = dfSentiment.limit(10_000)\n",
    "dfPlotVaderSentiment = df_small_sentimet.groupBy(\"sentiment\").count().toPandas()\n",
    "dfPlotVaderSentiment"
   ]
  }
 ],
 "metadata": {
  "kernelspec": {
   "display_name": "Python 3 (ipykernel)",
   "language": "python",
   "name": "python3"
  },
  "language_info": {
   "codemirror_mode": {
    "name": "ipython",
    "version": 3
   },
   "file_extension": ".py",
   "mimetype": "text/x-python",
   "name": "python",
   "nbconvert_exporter": "python",
   "pygments_lexer": "ipython3",
   "version": "3.10.12"
  }
 },
 "nbformat": 4,
 "nbformat_minor": 5
}
