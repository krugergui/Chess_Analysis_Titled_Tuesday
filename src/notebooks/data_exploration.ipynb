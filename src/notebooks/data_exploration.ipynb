{
 "cells": [
  {
   "cell_type": "code",
   "execution_count": 3,
   "metadata": {},
   "outputs": [],
   "source": [
    "import os\n",
    "import pymongo\n",
    "import pandas as pd\n",
    "from dotenv import load_dotenv\n",
    "from datetime import datetime\n",
    "\n",
    "load_dotenv()\n",
    "\n",
    "MONGO_DB_USER = os.environ[\"MONGO_DB_USER\"]\n",
    "MONGO_DB_PASSWORD = os.environ[\"MONGO_DB_PASSWORD\"]\n",
    "MONGO_DB_HOST = os.environ[\"MONGO_DB_HOST\"]\n",
    "MONGO_DB_PORT = os.environ[\"MONGO_DB_PORT\"]\n",
    "\n",
    "client = pymongo.MongoClient(\n",
    "    f\"mongodb://{MONGO_DB_USER}:{MONGO_DB_PASSWORD}@{MONGO_DB_HOST}:{MONGO_DB_PORT}/\"\n",
    ")\n",
    "\n",
    "silver_db = client.silver\n",
    "silver_events = silver_db.events\n",
    "silver_games = silver_db.games"
   ]
  },
  {
   "cell_type": "code",
   "execution_count": 351,
   "metadata": {},
   "outputs": [
    {
     "name": "stdout",
     "output_type": "stream",
     "text": [
      "Most recent event in the Database:\n",
      "2024-07-09 00:00:00\n"
     ]
    }
   ],
   "source": [
    "print(\"Most recent event in the Database:\")\n",
    "\n",
    "most_recent_event = silver_events.find_one(sort=[(\"Date\", -1)])\n",
    "\n",
    "print(most_recent_event[\"Date\"])"
   ]
  },
  {
   "cell_type": "markdown",
   "metadata": {},
   "source": [
    "## Biggest Winners\n",
    "\n",
    "We'll be analysing the Double Tournament era here, which stated in 01.02.2024 according to Chess.com.\n",
    "\n",
    "Source: https://www.chess.com/article/view/titled-tuesday"
   ]
  },
  {
   "cell_type": "code",
   "execution_count": 354,
   "metadata": {},
   "outputs": [
    {
     "name": "stdout",
     "output_type": "stream",
     "text": [
      "Number of Events: 244\n",
      "\n",
      "Players with most wins\n",
      "      Nakamura, Hikaru: 55\n",
      "     Andreikin, Dmitry: 16\n",
      "       Carlsen, Magnus: 16\n",
      "         Dubov, Daniil: 11\n",
      "     Firouzja, Alireza: 9\n",
      "        Sarana, Alexey: 8\n",
      "   Duda, Jan-Krzysztof: 8\n",
      "    Fedoseev, Vladimir: 6\n",
      "     Bortnyk, Olexandr: 6\n",
      "        Xiong, Jeffery: 5\n"
     ]
    }
   ],
   "source": [
    "match_double_elimination_era = {\n",
    "    \"$match\": {\n",
    "        \"Date\": {\"$gte\": datetime(2022, 1, 31)},\n",
    "    }\n",
    "}\n",
    "\n",
    "winners = silver_events.aggregate(\n",
    "    [\n",
    "        match_double_elimination_era,\n",
    "        {\n",
    "            \"$project\": {\n",
    "                \"results\": {\n",
    "                    \"$filter\": {\n",
    "                        \"input\": \"$results\",\n",
    "                        \"as\": \"r\",\n",
    "                        \"cond\": {\"$eq\": [\"$$r.position\", 1]},\n",
    "                    }\n",
    "                }\n",
    "            }\n",
    "        },\n",
    "    ]\n",
    ")\n",
    "\n",
    "dict_winners = {}\n",
    "\n",
    "for i in winners:\n",
    "    for winner in i[\"results\"]:\n",
    "        dict_winners.setdefault(winner[\"player\"], 0)\n",
    "        dict_winners[winner[\"player\"]] += 1\n",
    "\n",
    "print(f\"Number of Events: {sum(dict_winners.values())}\\n\")\n",
    "\n",
    "print(f\"Players with most wins\")\n",
    "for key, value in sorted(dict_winners.items(), key=lambda item: item[1], reverse=True)[:10]:\n",
    "    print(f\"{key:>22}: {value}\")"
   ]
  },
  {
   "cell_type": "markdown",
   "metadata": {},
   "source": [
    "During the first data exploration of this dataset it has been found that some players have multiple accounts in the database, this has been corrected during the silver ETL phase and left here for reference.\n",
    "\n",
    "```python\n",
    "dict_multiple_accounts = {\n",
    "    \"Nakamura, Hikaru\": \"Hikaru\",\n",
    "    \"Carlsen, Magnus\": \"MagnusCarlsen\",\n",
    "    \"Firouzja, Alireza\": \"Firouzja2003\",\n",
    "    \"Sarana, Alexey\": \"mishanick\",\n",
    "    \"Andreikin, Dmitry\": \"FairChess_on_YouTube\",\n",
    "    \"Duda, Jan-Krzysztof\": \"Polish_fighter3000\",\n",
    "}\n",
    "\n",
    "for key, value in dict_multiple_accounts.items():\n",
    "    dict_winners[key] += dict_winners[value]\n",
    "    del dict_winners[value]\n",
    "\n",
    "print(f\"Players with most wins\")\n",
    "for key, value in sorted(dict_winners.items(), key=lambda item: item[1], reverse=True)[:10]:\n",
    "    print(f\"{key:>22}: {value}\")\n",
    "```"
   ]
  },
  {
   "cell_type": "code",
   "execution_count": 395,
   "metadata": {},
   "outputs": [
    {
     "name": "stdout",
     "output_type": "stream",
     "text": [
      "Player: magnus\n",
      "Games: 758 - Player: Carlsen, Magnus\n",
      "Games: 5 - Player: CarlMagnuson\n",
      "Games: 2 - Player: Magnuson, Carl F\n",
      "\n",
      "\n",
      "Player: carlsen\n",
      "Games: 758 - Player: Carlsen, Magnus\n",
      "Games: 31 - Player: carlsenCamacho\n",
      "Games: 11 - Player: carlsen1001\n",
      "Games: 7 - Player: BetonCarlsen\n",
      "\n",
      "\n",
      "Player: hikaru\n",
      "Games: 1999 - Player: Nakamura, Hikaru\n",
      "Games: 18 - Player: hikaruchija\n",
      "\n",
      "\n",
      "Player: nakamura\n",
      "Games: 1999 - Player: Nakamura, Hikaru\n",
      "\n",
      "\n"
     ]
    }
   ],
   "source": [
    "# Searching if there's any other accounts that may belong to the top players\n",
    "\n",
    "players_to_search = [\"magnus\", \"carlsen\", \"hikaru\", \"nakamura\"]\n",
    "\n",
    "for player in players_to_search:\n",
    "    total_games_per_player = silver_games.aggregate(\n",
    "        [\n",
    "            match_double_elimination_era,\n",
    "            {\"$project\": {\"White\": 1, \"Black\": 1, \"_id\": 0}},\n",
    "            {\"$project\": {\"values\": {\"$objectToArray\": \"$$ROOT\"}}},\n",
    "            {\"$unwind\": \"$values\"},\n",
    "            {\"$group\": {\"_id\": \"$values.v\", \"count\": {\"$sum\": 1}}},\n",
    "            {\"$sort\": {\"count\": -1}},\n",
    "            {\"$match\": {\"_id\": {\"$regex\": player, \"$options\": \"i\"}}},\n",
    "        ]\n",
    "    )\n",
    "\n",
    "    print(f\"Player: {player}\")\n",
    "    for i in total_games_per_player:\n",
    "        print(f\"Games: {i['count']} - Player: {i['_id']}\")\n",
    "    print(\"\\n\")"
   ]
  },
  {
   "cell_type": "markdown",
   "metadata": {},
   "source": [
    "### Notes\n",
    "\n",
    "No other accounts were found that belong to the top players."
   ]
  },
  {
   "cell_type": "markdown",
   "metadata": {},
   "source": [
    "## Biggest upsets\n",
    "\n",
    "An upset is when one player's rating is lower than the other player's.\n",
    "\n",
    "Here we'll be looking into which were the biggest upsets in the Double-Tournament Era."
   ]
  },
  {
   "cell_type": "code",
   "execution_count": 355,
   "metadata": {},
   "outputs": [
    {
     "data": {
      "text/html": [
       "<style type=\"text/css\">\n",
       "</style>\n",
       "<table id=\"T_a1a11\">\n",
       "  <thead>\n",
       "    <tr>\n",
       "      <th class=\"blank level0\" >&nbsp;</th>\n",
       "      <th id=\"T_a1a11_level0_col0\" class=\"col_heading level0 col0\" >Event</th>\n",
       "      <th id=\"T_a1a11_level0_col1\" class=\"col_heading level0 col1\" >Upset</th>\n",
       "      <th id=\"T_a1a11_level0_col2\" class=\"col_heading level0 col2\" >White</th>\n",
       "      <th id=\"T_a1a11_level0_col3\" class=\"col_heading level0 col3\" >WhiteElo</th>\n",
       "      <th id=\"T_a1a11_level0_col4\" class=\"col_heading level0 col4\" >Black</th>\n",
       "      <th id=\"T_a1a11_level0_col5\" class=\"col_heading level0 col5\" >BlackElo</th>\n",
       "      <th id=\"T_a1a11_level0_col6\" class=\"col_heading level0 col6\" >Chances of Upset %</th>\n",
       "    </tr>\n",
       "  </thead>\n",
       "  <tbody>\n",
       "    <tr>\n",
       "      <th id=\"T_a1a11_level0_row0\" class=\"row_heading level0 row0\" >0</th>\n",
       "      <td id=\"T_a1a11_row0_col0\" class=\"data row0 col0\" >Titled Tuesday Blitz December 20 Early 2022</td>\n",
       "      <td id=\"T_a1a11_row0_col1\" class=\"data row0 col1\" >-1619</td>\n",
       "      <td id=\"T_a1a11_row0_col2\" class=\"data row0 col2\" >Susal_De_Silva</td>\n",
       "      <td id=\"T_a1a11_row0_col3\" class=\"data row0 col3\" >2808</td>\n",
       "      <td id=\"T_a1a11_row0_col4\" class=\"data row0 col4\" >Kazgildy, Fariza</td>\n",
       "      <td id=\"T_a1a11_row0_col5\" class=\"data row0 col5\" >1189</td>\n",
       "      <td id=\"T_a1a11_row0_col6\" class=\"data row0 col6\" >0.0090%</td>\n",
       "    </tr>\n",
       "    <tr>\n",
       "      <th id=\"T_a1a11_level0_row1\" class=\"row_heading level0 row1\" >1</th>\n",
       "      <td id=\"T_a1a11_row1_col0\" class=\"data row1 col0\" >Titled Tuesday Blitz October 18 Late 2022</td>\n",
       "      <td id=\"T_a1a11_row1_col1\" class=\"data row1 col1\" >-1546</td>\n",
       "      <td id=\"T_a1a11_row1_col2\" class=\"data row1 col2\" >Eisa Mohmood, Alkhoori</td>\n",
       "      <td id=\"T_a1a11_row1_col3\" class=\"data row1 col3\" >1245</td>\n",
       "      <td id=\"T_a1a11_row1_col4\" class=\"data row1 col4\" >Bordi, Kevin</td>\n",
       "      <td id=\"T_a1a11_row1_col5\" class=\"data row1 col5\" >2791</td>\n",
       "      <td id=\"T_a1a11_row1_col6\" class=\"data row1 col6\" >0.0136%</td>\n",
       "    </tr>\n",
       "    <tr>\n",
       "      <th id=\"T_a1a11_level0_row2\" class=\"row_heading level0 row2\" >2</th>\n",
       "      <td id=\"T_a1a11_row2_col0\" class=\"data row2 col0\" >Titled Tuesday Blitz December 20 Early 2022</td>\n",
       "      <td id=\"T_a1a11_row2_col1\" class=\"data row2 col1\" >-1536</td>\n",
       "      <td id=\"T_a1a11_row2_col2\" class=\"data row2 col2\" >Kopylov_Alex</td>\n",
       "      <td id=\"T_a1a11_row2_col3\" class=\"data row2 col3\" >2790</td>\n",
       "      <td id=\"T_a1a11_row2_col4\" class=\"data row2 col4\" >Mone, Ved</td>\n",
       "      <td id=\"T_a1a11_row2_col5\" class=\"data row2 col5\" >1254</td>\n",
       "      <td id=\"T_a1a11_row2_col6\" class=\"data row2 col6\" >0.0145%</td>\n",
       "    </tr>\n",
       "    <tr>\n",
       "      <th id=\"T_a1a11_level0_row3\" class=\"row_heading level0 row3\" >3</th>\n",
       "      <td id=\"T_a1a11_row3_col0\" class=\"data row3 col0\" >Titled Tuesday Blitz December 20 Early 2022</td>\n",
       "      <td id=\"T_a1a11_row3_col1\" class=\"data row3 col1\" >-1463</td>\n",
       "      <td id=\"T_a1a11_row3_col2\" class=\"data row3 col2\" >The_Machine04</td>\n",
       "      <td id=\"T_a1a11_row3_col3\" class=\"data row3 col3\" >2652</td>\n",
       "      <td id=\"T_a1a11_row3_col4\" class=\"data row3 col4\" >Kazgildy, Fariza</td>\n",
       "      <td id=\"T_a1a11_row3_col5\" class=\"data row3 col5\" >1189</td>\n",
       "      <td id=\"T_a1a11_row3_col6\" class=\"data row3 col6\" >0.0220%</td>\n",
       "    </tr>\n",
       "    <tr>\n",
       "      <th id=\"T_a1a11_level0_row4\" class=\"row_heading level0 row4\" >4</th>\n",
       "      <td id=\"T_a1a11_row4_col0\" class=\"data row4 col0\" >Titled Tuesday Blitz April 26 Early 2022</td>\n",
       "      <td id=\"T_a1a11_row4_col1\" class=\"data row4 col1\" >-1414</td>\n",
       "      <td id=\"T_a1a11_row4_col2\" class=\"data row4 col2\" >Bashirli, Saadat</td>\n",
       "      <td id=\"T_a1a11_row4_col3\" class=\"data row4 col3\" >1173</td>\n",
       "      <td id=\"T_a1a11_row4_col4\" class=\"data row4 col4\" >Bachmann, Axel</td>\n",
       "      <td id=\"T_a1a11_row4_col5\" class=\"data row4 col5\" >2587</td>\n",
       "      <td id=\"T_a1a11_row4_col6\" class=\"data row4 col6\" >0.0292%</td>\n",
       "    </tr>\n",
       "    <tr>\n",
       "      <th id=\"T_a1a11_level0_row5\" class=\"row_heading level0 row5\" >5</th>\n",
       "      <td id=\"T_a1a11_row5_col0\" class=\"data row5 col0\" >Titled Tuesday Blitz December 20 Early 2022</td>\n",
       "      <td id=\"T_a1a11_row5_col1\" class=\"data row5 col1\" >-1393</td>\n",
       "      <td id=\"T_a1a11_row5_col2\" class=\"data row5 col2\" >Benamar, Benious</td>\n",
       "      <td id=\"T_a1a11_row5_col3\" class=\"data row5 col3\" >1136</td>\n",
       "      <td id=\"T_a1a11_row5_col4\" class=\"data row5 col4\" >lemayvega</td>\n",
       "      <td id=\"T_a1a11_row5_col5\" class=\"data row5 col5\" >2529</td>\n",
       "      <td id=\"T_a1a11_row5_col6\" class=\"data row5 col6\" >0.0329%</td>\n",
       "    </tr>\n",
       "    <tr>\n",
       "      <th id=\"T_a1a11_level0_row6\" class=\"row_heading level0 row6\" >6</th>\n",
       "      <td id=\"T_a1a11_row6_col0\" class=\"data row6 col0\" >Titled Tuesday Blitz December 20 Early 2022</td>\n",
       "      <td id=\"T_a1a11_row6_col1\" class=\"data row6 col1\" >-1350</td>\n",
       "      <td id=\"T_a1a11_row6_col2\" class=\"data row6 col2\" >CDOEspiao</td>\n",
       "      <td id=\"T_a1a11_row6_col3\" class=\"data row6 col3\" >2486</td>\n",
       "      <td id=\"T_a1a11_row6_col4\" class=\"data row6 col4\" >Benamar, Benious</td>\n",
       "      <td id=\"T_a1a11_row6_col5\" class=\"data row6 col5\" >1136</td>\n",
       "      <td id=\"T_a1a11_row6_col6\" class=\"data row6 col6\" >0.0422%</td>\n",
       "    </tr>\n",
       "    <tr>\n",
       "      <th id=\"T_a1a11_level0_row7\" class=\"row_heading level0 row7\" >7</th>\n",
       "      <td id=\"T_a1a11_row7_col0\" class=\"data row7 col0\" >Titled Tuesday Blitz December 20 Early 2022</td>\n",
       "      <td id=\"T_a1a11_row7_col1\" class=\"data row7 col1\" >-1328</td>\n",
       "      <td id=\"T_a1a11_row7_col2\" class=\"data row7 col2\" >Castro Andrade, Seirbert Cristian</td>\n",
       "      <td id=\"T_a1a11_row7_col3\" class=\"data row7 col3\" >1364</td>\n",
       "      <td id=\"T_a1a11_row7_col4\" class=\"data row7 col4\" >Xiong, Jeffery</td>\n",
       "      <td id=\"T_a1a11_row7_col5\" class=\"data row7 col5\" >2692</td>\n",
       "      <td id=\"T_a1a11_row7_col6\" class=\"data row7 col6\" >0.0478%</td>\n",
       "    </tr>\n",
       "    <tr>\n",
       "      <th id=\"T_a1a11_level0_row8\" class=\"row_heading level0 row8\" >8</th>\n",
       "      <td id=\"T_a1a11_row8_col0\" class=\"data row8 col0\" >Titled Tuesday Blitz December 20 Early 2022</td>\n",
       "      <td id=\"T_a1a11_row8_col1\" class=\"data row8 col1\" >-1311</td>\n",
       "      <td id=\"T_a1a11_row8_col2\" class=\"data row8 col2\" >Yildiz, Ayse Emek</td>\n",
       "      <td id=\"T_a1a11_row8_col3\" class=\"data row8 col3\" >1702</td>\n",
       "      <td id=\"T_a1a11_row8_col4\" class=\"data row8 col4\" >OparinGrigoriy</td>\n",
       "      <td id=\"T_a1a11_row8_col5\" class=\"data row8 col5\" >3013</td>\n",
       "      <td id=\"T_a1a11_row8_col6\" class=\"data row8 col6\" >0.0528%</td>\n",
       "    </tr>\n",
       "    <tr>\n",
       "      <th id=\"T_a1a11_level0_row9\" class=\"row_heading level0 row9\" >9</th>\n",
       "      <td id=\"T_a1a11_row9_col0\" class=\"data row9 col0\" >Titled Tuesday Blitz January 03 Late 2023</td>\n",
       "      <td id=\"T_a1a11_row9_col1\" class=\"data row9 col1\" >-1309</td>\n",
       "      <td id=\"T_a1a11_row9_col2\" class=\"data row9 col2\" >Gaehwiler, Gabriel</td>\n",
       "      <td id=\"T_a1a11_row9_col3\" class=\"data row9 col3\" >2404</td>\n",
       "      <td id=\"T_a1a11_row9_col4\" class=\"data row9 col4\" >Eisa Mohmood, Alkhoori</td>\n",
       "      <td id=\"T_a1a11_row9_col5\" class=\"data row9 col5\" >1095</td>\n",
       "      <td id=\"T_a1a11_row9_col6\" class=\"data row9 col6\" >0.0534%</td>\n",
       "    </tr>\n",
       "  </tbody>\n",
       "</table>\n"
      ],
      "text/plain": [
       "<pandas.io.formats.style.Styler at 0x7a0bdff0e5c0>"
      ]
     },
     "execution_count": 355,
     "metadata": {},
     "output_type": "execute_result"
    }
   ],
   "source": [
    "upsets = (\n",
    "    silver_games.find(\n",
    "        {\n",
    "            \"WhiteElo\": {\"$gt\": 1000},\n",
    "            \"BlackElo\": {\"$gt\": 1000},\n",
    "            \"Date\": {\"$gte\": datetime(2022, 1, 1)},\n",
    "        }\n",
    "    )\n",
    "    .limit(10)\n",
    "    .sort({\"Upset\": 1})\n",
    ")\n",
    "\n",
    "upsets = pd.DataFrame(upsets)[[\"Event\", \"Upset\", \"White\", \"WhiteElo\", \"Black\", \"BlackElo\"]]\n",
    "\n",
    "upsets.loc[:, \"Chances of Upset %\"] = 1 / (1 + 10 ** (-upsets[\"Upset\"] / 400))\n",
    "\n",
    "upsets.style.format({\"Chances of Upset %\": \"{:.4%}\", \"Upset\": \"{:.0f}\"})"
   ]
  },
  {
   "cell_type": "markdown",
   "metadata": {},
   "source": [
    "### Notes\n",
    "\n",
    "In the tables above we can see that the biggest upset in this tournament had an elo difference of 1619, this had a chance of happening of just 0.009% ([Source](https://fivethirtyeight.com/features/introducing-nfl-elo-ratings/))."
   ]
  },
  {
   "cell_type": "markdown",
   "metadata": {},
   "source": [
    "### Carlsen and Nakamura Upsets"
   ]
  },
  {
   "cell_type": "code",
   "execution_count": 356,
   "metadata": {},
   "outputs": [
    {
     "name": "stdout",
     "output_type": "stream",
     "text": [
      "Number of games player by Carlsen: 787\n"
     ]
    },
    {
     "data": {
      "text/html": [
       "<style type=\"text/css\">\n",
       "</style>\n",
       "<table id=\"T_134ed\">\n",
       "  <thead>\n",
       "    <tr>\n",
       "      <th class=\"blank level0\" >&nbsp;</th>\n",
       "      <th id=\"T_134ed_level0_col0\" class=\"col_heading level0 col0\" >Event</th>\n",
       "      <th id=\"T_134ed_level0_col1\" class=\"col_heading level0 col1\" >Upset</th>\n",
       "      <th id=\"T_134ed_level0_col2\" class=\"col_heading level0 col2\" >White</th>\n",
       "      <th id=\"T_134ed_level0_col3\" class=\"col_heading level0 col3\" >WhiteElo</th>\n",
       "      <th id=\"T_134ed_level0_col4\" class=\"col_heading level0 col4\" >Black</th>\n",
       "      <th id=\"T_134ed_level0_col5\" class=\"col_heading level0 col5\" >BlackElo</th>\n",
       "      <th id=\"T_134ed_level0_col6\" class=\"col_heading level0 col6\" >Chances of Upset %</th>\n",
       "    </tr>\n",
       "  </thead>\n",
       "  <tbody>\n",
       "    <tr>\n",
       "      <th id=\"T_134ed_level0_row0\" class=\"row_heading level0 row0\" >0</th>\n",
       "      <td id=\"T_134ed_row0_col0\" class=\"data row0 col0\" >Late-Titled-Tuesday-Blitz-June-25-2024</td>\n",
       "      <td id=\"T_134ed_row0_col1\" class=\"data row0 col1\" >-616</td>\n",
       "      <td id=\"T_134ed_row0_col2\" class=\"data row0 col2\" >Carlsen, Magnus</td>\n",
       "      <td id=\"T_134ed_row0_col3\" class=\"data row0 col3\" >3164</td>\n",
       "      <td id=\"T_134ed_row0_col4\" class=\"data row0 col4\" >WPWPWP-2015</td>\n",
       "      <td id=\"T_134ed_row0_col5\" class=\"data row0 col5\" >2548</td>\n",
       "      <td id=\"T_134ed_row0_col6\" class=\"data row0 col6\" >2.8032%</td>\n",
       "    </tr>\n",
       "    <tr>\n",
       "      <th id=\"T_134ed_level0_row1\" class=\"row_heading level0 row1\" >1</th>\n",
       "      <td id=\"T_134ed_row1_col0\" class=\"data row1 col0\" >Late-Titled-Tuesday-Blitz-July-02-2024</td>\n",
       "      <td id=\"T_134ed_row1_col1\" class=\"data row1 col1\" >-612</td>\n",
       "      <td id=\"T_134ed_row1_col2\" class=\"data row1 col2\" >subham777</td>\n",
       "      <td id=\"T_134ed_row1_col3\" class=\"data row1 col3\" >2545</td>\n",
       "      <td id=\"T_134ed_row1_col4\" class=\"data row1 col4\" >Carlsen, Magnus</td>\n",
       "      <td id=\"T_134ed_row1_col5\" class=\"data row1 col5\" >3157</td>\n",
       "      <td id=\"T_134ed_row1_col6\" class=\"data row1 col6\" >2.8666%</td>\n",
       "    </tr>\n",
       "    <tr>\n",
       "      <th id=\"T_134ed_level0_row2\" class=\"row_heading level0 row2\" >2</th>\n",
       "      <td id=\"T_134ed_row2_col0\" class=\"data row2 col0\" >Titled Tuesday Blitz March 21 Early 2023</td>\n",
       "      <td id=\"T_134ed_row2_col1\" class=\"data row2 col1\" >-475</td>\n",
       "      <td id=\"T_134ed_row2_col2\" class=\"data row2 col2\" >Carlsen, Magnus</td>\n",
       "      <td id=\"T_134ed_row2_col3\" class=\"data row2 col3\" >2852</td>\n",
       "      <td id=\"T_134ed_row2_col4\" class=\"data row2 col4\" >Tillyaev, Ulugbek</td>\n",
       "      <td id=\"T_134ed_row2_col5\" class=\"data row2 col5\" >2377</td>\n",
       "      <td id=\"T_134ed_row2_col6\" class=\"data row2 col6\" >6.0978%</td>\n",
       "    </tr>\n",
       "    <tr>\n",
       "      <th id=\"T_134ed_level0_row3\" class=\"row_heading level0 row3\" >3</th>\n",
       "      <td id=\"T_134ed_row3_col0\" class=\"data row3 col0\" >Late-Titled-Tuesday-Blitz-February-20-2024</td>\n",
       "      <td id=\"T_134ed_row3_col1\" class=\"data row3 col1\" >-465</td>\n",
       "      <td id=\"T_134ed_row3_col2\" class=\"data row3 col2\" >ProphetReborn</td>\n",
       "      <td id=\"T_134ed_row3_col3\" class=\"data row3 col3\" >2860</td>\n",
       "      <td id=\"T_134ed_row3_col4\" class=\"data row3 col4\" >Carlsen, Magnus</td>\n",
       "      <td id=\"T_134ed_row3_col5\" class=\"data row3 col5\" >3325</td>\n",
       "      <td id=\"T_134ed_row3_col6\" class=\"data row3 col6\" >6.4359%</td>\n",
       "    </tr>\n",
       "    <tr>\n",
       "      <th id=\"T_134ed_level0_row4\" class=\"row_heading level0 row4\" >4</th>\n",
       "      <td id=\"T_134ed_row4_col0\" class=\"data row4 col0\" >Titled Tuesday Blitz January 31 Late 2023</td>\n",
       "      <td id=\"T_134ed_row4_col1\" class=\"data row4 col1\" >-440</td>\n",
       "      <td id=\"T_134ed_row4_col2\" class=\"data row4 col2\" >Erdogdu, Mert</td>\n",
       "      <td id=\"T_134ed_row4_col3\" class=\"data row4 col3\" >2413</td>\n",
       "      <td id=\"T_134ed_row4_col4\" class=\"data row4 col4\" >Carlsen, Magnus</td>\n",
       "      <td id=\"T_134ed_row4_col5\" class=\"data row4 col5\" >2853</td>\n",
       "      <td id=\"T_134ed_row4_col6\" class=\"data row4 col6\" >7.3588%</td>\n",
       "    </tr>\n",
       "  </tbody>\n",
       "</table>\n"
      ],
      "text/plain": [
       "<pandas.io.formats.style.Styler at 0x7a0bdff0d840>"
      ]
     },
     "execution_count": 356,
     "metadata": {},
     "output_type": "execute_result"
    }
   ],
   "source": [
    "print(\n",
    "    f\"Number of games player by Carlsen: {silver_games.count_documents({'$or': [{'White': 'Carlsen, Magnus'}, {'Black': 'Carlsen, Magnus'}]})}\"\n",
    ")\n",
    "\n",
    "upsets = (\n",
    "    silver_games.find(\n",
    "        {\n",
    "            \"$or\": [\n",
    "                {\"White\": {\"$in\": [\"Carlsen, Magnus\"]}},\n",
    "                {\"Black\": {\"$in\": [\"Carlsen, Magnus\"]}},\n",
    "            ],\n",
    "            \"WhiteElo\": {\"$gt\": 1000},\n",
    "            \"BlackElo\": {\"$gt\": 1000},\n",
    "        }\n",
    "    )\n",
    "    .limit(5)\n",
    "    .sort({\"Upset\": 1})\n",
    ")\n",
    "\n",
    "carlsen_upsets = pd.DataFrame(upsets)[[\"Event\", \"Upset\", \"White\", \"WhiteElo\", \"Black\", \"BlackElo\"]]\n",
    "\n",
    "carlsen_upsets.loc[:, \"Chances of Upset %\"] = 1 / (1 + 10 ** (-carlsen_upsets[\"Upset\"] / 400))\n",
    "\n",
    "carlsen_upsets.style.format({\"Chances of Upset %\": \"{:.4%}\", \"Upset\": \"{:.0f}\"})"
   ]
  },
  {
   "cell_type": "code",
   "execution_count": 358,
   "metadata": {},
   "outputs": [
    {
     "name": "stdout",
     "output_type": "stream",
     "text": [
      "Number of games player by Hikaru Nakamura: 3127\n"
     ]
    },
    {
     "data": {
      "text/html": [
       "<style type=\"text/css\">\n",
       "</style>\n",
       "<table id=\"T_b4ec9\">\n",
       "  <thead>\n",
       "    <tr>\n",
       "      <th class=\"blank level0\" >&nbsp;</th>\n",
       "      <th id=\"T_b4ec9_level0_col0\" class=\"col_heading level0 col0\" >Event</th>\n",
       "      <th id=\"T_b4ec9_level0_col1\" class=\"col_heading level0 col1\" >Upset</th>\n",
       "      <th id=\"T_b4ec9_level0_col2\" class=\"col_heading level0 col2\" >White</th>\n",
       "      <th id=\"T_b4ec9_level0_col3\" class=\"col_heading level0 col3\" >WhiteElo</th>\n",
       "      <th id=\"T_b4ec9_level0_col4\" class=\"col_heading level0 col4\" >Black</th>\n",
       "      <th id=\"T_b4ec9_level0_col5\" class=\"col_heading level0 col5\" >BlackElo</th>\n",
       "      <th id=\"T_b4ec9_level0_col6\" class=\"col_heading level0 col6\" >Chances of Upset %</th>\n",
       "    </tr>\n",
       "  </thead>\n",
       "  <tbody>\n",
       "    <tr>\n",
       "      <th id=\"T_b4ec9_level0_row0\" class=\"row_heading level0 row0\" >0</th>\n",
       "      <td id=\"T_b4ec9_row0_col0\" class=\"data row0 col0\" >Titled Tuesday Blitz August 15 Early 2023</td>\n",
       "      <td id=\"T_b4ec9_row0_col1\" class=\"data row0 col1\" >-1180</td>\n",
       "      <td id=\"T_b4ec9_row0_col2\" class=\"data row0 col2\" >Nakamura, Hikaru</td>\n",
       "      <td id=\"T_b4ec9_row0_col3\" class=\"data row0 col3\" >3255</td>\n",
       "      <td id=\"T_b4ec9_row0_col4\" class=\"data row0 col4\" >Nugumanov, Bakhtiyar</td>\n",
       "      <td id=\"T_b4ec9_row0_col5\" class=\"data row0 col5\" >2075</td>\n",
       "      <td id=\"T_b4ec9_row0_col6\" class=\"data row0 col6\" >0.1121%</td>\n",
       "    </tr>\n",
       "    <tr>\n",
       "      <th id=\"T_b4ec9_level0_row1\" class=\"row_heading level0 row1\" >1</th>\n",
       "      <td id=\"T_b4ec9_row1_col0\" class=\"data row1 col0\" >Titled Tuesday Blitz May 10 Early 2022</td>\n",
       "      <td id=\"T_b4ec9_row1_col1\" class=\"data row1 col1\" >-1054</td>\n",
       "      <td id=\"T_b4ec9_row1_col2\" class=\"data row1 col2\" >Nakamura, Hikaru</td>\n",
       "      <td id=\"T_b4ec9_row1_col3\" class=\"data row1 col3\" >2850</td>\n",
       "      <td id=\"T_b4ec9_row1_col4\" class=\"data row1 col4\" >Aslanov, Umid</td>\n",
       "      <td id=\"T_b4ec9_row1_col5\" class=\"data row1 col5\" >1796</td>\n",
       "      <td id=\"T_b4ec9_row1_col6\" class=\"data row1 col6\" >0.2312%</td>\n",
       "    </tr>\n",
       "    <tr>\n",
       "      <th id=\"T_b4ec9_level0_row2\" class=\"row_heading level0 row2\" >2</th>\n",
       "      <td id=\"T_b4ec9_row2_col0\" class=\"data row2 col0\" >*** Titled Tuesday Blitz AM</td>\n",
       "      <td id=\"T_b4ec9_row2_col1\" class=\"data row2 col1\" >-964</td>\n",
       "      <td id=\"T_b4ec9_row2_col2\" class=\"data row2 col2\" >Nakamura, Hikaru</td>\n",
       "      <td id=\"T_b4ec9_row2_col3\" class=\"data row2 col3\" >3134</td>\n",
       "      <td id=\"T_b4ec9_row2_col4\" class=\"data row2 col4\" >politeplayer</td>\n",
       "      <td id=\"T_b4ec9_row2_col5\" class=\"data row2 col5\" >2170</td>\n",
       "      <td id=\"T_b4ec9_row2_col6\" class=\"data row2 col6\" >0.3875%</td>\n",
       "    </tr>\n",
       "    <tr>\n",
       "      <th id=\"T_b4ec9_level0_row3\" class=\"row_heading level0 row3\" >3</th>\n",
       "      <td id=\"T_b4ec9_row3_col0\" class=\"data row3 col0\" >***Titled Tuesday 3|2 Blitz</td>\n",
       "      <td id=\"T_b4ec9_row3_col1\" class=\"data row3 col1\" >-793</td>\n",
       "      <td id=\"T_b4ec9_row3_col2\" class=\"data row3 col2\" >Nakamura, Hikaru</td>\n",
       "      <td id=\"T_b4ec9_row3_col3\" class=\"data row3 col3\" >2890</td>\n",
       "      <td id=\"T_b4ec9_row3_col4\" class=\"data row3 col4\" >proxy6</td>\n",
       "      <td id=\"T_b4ec9_row3_col5\" class=\"data row3 col5\" >2097</td>\n",
       "      <td id=\"T_b4ec9_row3_col6\" class=\"data row3 col6\" >1.0304%</td>\n",
       "    </tr>\n",
       "    <tr>\n",
       "      <th id=\"T_b4ec9_level0_row4\" class=\"row_heading level0 row4\" >4</th>\n",
       "      <td id=\"T_b4ec9_row4_col0\" class=\"data row4 col0\" >Titled Tuesday Blitz August 15 Early 2023</td>\n",
       "      <td id=\"T_b4ec9_row4_col1\" class=\"data row4 col1\" >-761</td>\n",
       "      <td id=\"T_b4ec9_row4_col2\" class=\"data row4 col2\" >Benedetti, Julio</td>\n",
       "      <td id=\"T_b4ec9_row4_col3\" class=\"data row4 col3\" >2510</td>\n",
       "      <td id=\"T_b4ec9_row4_col4\" class=\"data row4 col4\" >Nakamura, Hikaru</td>\n",
       "      <td id=\"T_b4ec9_row4_col5\" class=\"data row4 col5\" >3271</td>\n",
       "      <td id=\"T_b4ec9_row4_col6\" class=\"data row4 col6\" >1.2362%</td>\n",
       "    </tr>\n",
       "  </tbody>\n",
       "</table>\n"
      ],
      "text/plain": [
       "<pandas.io.formats.style.Styler at 0x7a0be40b86d0>"
      ]
     },
     "execution_count": 358,
     "metadata": {},
     "output_type": "execute_result"
    }
   ],
   "source": [
    "print(\n",
    "    f\"Number of games player by Hikaru Nakamura: {silver_games.count_documents({'$or': [{'White': 'Nakamura, Hikaru'}, {'Black': 'Nakamura, Hikaru'}]})}\"\n",
    ")\n",
    "\n",
    "upsets = (\n",
    "    silver_games.find(\n",
    "        {\n",
    "            \"$or\": [\n",
    "                {\"White\": {\"$in\": [\"Nakamura, Hikaru\"]}},\n",
    "                {\"Black\": {\"$in\": [\"Nakamura, Hikaru\"]}},\n",
    "            ],\n",
    "            \"WhiteElo\": {\"$gt\": 1000},\n",
    "            \"BlackElo\": {\"$gt\": 1000},\n",
    "        }\n",
    "    )\n",
    "    .limit(5)\n",
    "    .sort({\"Upset\": 1})\n",
    ")\n",
    "\n",
    "nakamura_upsets = pd.DataFrame(upsets)[[\"Event\", \"Upset\", \"White\", \"WhiteElo\", \"Black\", \"BlackElo\"]]\n",
    "\n",
    "nakamura_upsets.loc[:, \"Chances of Upset %\"] = 1 / (1 + 10 ** (-nakamura_upsets[\"Upset\"] / 400))\n",
    "\n",
    "nakamura_upsets.style.format({\"Chances of Upset %\": \"{:.4%}\", \"Upset\": \"{:.0f}\"})"
   ]
  },
  {
   "cell_type": "markdown",
   "metadata": {},
   "source": [
    "### Notes on Nakamura and Carlsen Upsets\n",
    "\n",
    "Magnus Carlsen never had a huge upset, having lost to someone with a rating difference of 475 and a chance of upset of 6%.\n",
    "\n",
    "Hikaru Nakamura had more upsets, losing many times to players with over 500 difference in rating and a couple of times with chances of upsets below 1%."
   ]
  },
  {
   "cell_type": "markdown",
   "metadata": {},
   "source": [
    "## Who played the most games"
   ]
  },
  {
   "cell_type": "code",
   "execution_count": 359,
   "metadata": {},
   "outputs": [
    {
     "name": "stdout",
     "output_type": "stream",
     "text": [
      "Number of games played in the 2022 Double Elimination era: 430825\n"
     ]
    }
   ],
   "source": [
    "total_games = silver_games.aggregate([match_double_elimination_era, {\"$count\": \"total_games\"}])\n",
    "\n",
    "print(\n",
    "    \"Number of games played in the 2022 Double Elimination era:\", total_games.next()[\"total_games\"]\n",
    ")"
   ]
  },
  {
   "cell_type": "code",
   "execution_count": 396,
   "metadata": {},
   "outputs": [
    {
     "name": "stdout",
     "output_type": "stream",
     "text": [
      "Players who played the most games in the 2022 Double Elimination era:\n",
      "Games: 2236 - Player: Andreikin, Dmitry\n",
      "Games: 2032 - Player: Sarana, Alexey\n",
      "Games: 1999 - Player: Nakamura, Hikaru\n",
      "Games: 1686 - Player: Zhigalko, Sergei\n",
      "Games: 1655 - Player: Kamsky, Gata\n",
      "Games: 1580 - Player: Bortnyk, Olexandr\n",
      "Games: 1503 - Player: Martinez Alcantara, Jose Eduardo\n",
      "Games: 1456 - Player: Rustemov, Alexander\n",
      "Games: 1445 - Player: Paravyan, David\n",
      "Games: 1438 - Player: Vlassov, Nikolai\n"
     ]
    }
   ],
   "source": [
    "total_games_per_player = silver_games.aggregate(\n",
    "    [\n",
    "        match_double_elimination_era,\n",
    "        {\"$project\": {\"White\": 1, \"Black\": 1, \"_id\": 0}},\n",
    "        {\"$project\": {\"values\": {\"$objectToArray\": \"$$ROOT\"}}},\n",
    "        {\"$unwind\": \"$values\"},\n",
    "        {\"$group\": {\"_id\": \"$values.v\", \"count\": {\"$sum\": 1}}},\n",
    "        {\"$sort\": {\"count\": -1}},\n",
    "        {\"$limit\": 10},\n",
    "    ]\n",
    ")\n",
    "\n",
    "print(\"Players who played the most games in the 2022 Double Elimination era:\")\n",
    "for i in total_games_per_player:\n",
    "    print(f\"Games: {i['count']} - Player: {i['_id']}\")"
   ]
  },
  {
   "cell_type": "markdown",
   "metadata": {},
   "source": [
    "## Who played the most editions"
   ]
  },
  {
   "cell_type": "code",
   "execution_count": 517,
   "metadata": {},
   "outputs": [
    {
     "name": "stdout",
     "output_type": "stream",
     "text": [
      "Players who played the most Titled Tuesday Editions in the 2022 Double Elimination era:\n",
      "Editions: 248 - Player: Andreikin, Dmitry\n",
      "Editions: 229 - Player: Nakamura, Hikaru\n",
      "Editions: 219 - Player: Sarana, Alexey\n",
      "Editions: 189 - Player: Zhigalko, Sergei\n",
      "Editions: 186 - Player: Kamsky, Gata\n",
      "Editions: 180 - Player: Janaszak, Dawid\n",
      "Editions: 179 - Player: Bortnyk, Olexandr\n",
      "Editions: 177 - Player: Rustemov, Alexander\n",
      "Editions: 174 - Player: Vlassov, Nikolai\n",
      "Editions: 170 - Player: Martinez Alcantara, Jose Eduardo\n"
     ]
    }
   ],
   "source": [
    "total_games_per_player = silver_games.aggregate(\n",
    "    [\n",
    "        {\n",
    "            \"$project\": {\n",
    "                \"Event\": 1,\n",
    "                \"White\": {\"Event\": \"$Event\", \"player\": \"$White\"},\n",
    "                \"Black\": {\"Event\": \"$Event\", \"player\": \"$Black\"},\n",
    "            }\n",
    "        },\n",
    "        {\"$project\": {\"Event\": 1, \"players\": {\"$setUnion\": [[\"$White\"], [\"$Black\"]]}}},\n",
    "        {\"$unwind\": \"$players\"},\n",
    "        {\"$replaceRoot\": {\"newRoot\": \"$players\"}},\n",
    "        {\n",
    "            \"$group\": {\n",
    "                \"_id\": {\"event\": \"$Event\", \"player\": \"$player\"},\n",
    "            }\n",
    "        },\n",
    "        {\"$replaceRoot\": {\"newRoot\": \"$_id\"}},\n",
    "        {\"$group\": {\"_id\": \"$player\", \"count\": {\"$sum\": 1}}},\n",
    "        {\"$sort\": {\"count\": -1}},\n",
    "        {\"$limit\": 10},\n",
    "    ]\n",
    ")\n",
    "\n",
    "print(\"Players who played the most Titled Tuesday Editions in the 2022 Double Elimination era:\")\n",
    "for i in total_games_per_player:\n",
    "    print(f\"Editions: {i['count']} - Player: {i['_id']}\")"
   ]
  }
 ],
 "metadata": {
  "kernelspec": {
   "display_name": "Python 3 (ipykernel)",
   "language": "python",
   "name": "python3"
  },
  "language_info": {
   "codemirror_mode": {
    "name": "ipython",
    "version": 3
   },
   "file_extension": ".py",
   "mimetype": "text/x-python",
   "name": "python",
   "nbconvert_exporter": "python",
   "pygments_lexer": "ipython3",
   "version": "3.10.13"
  }
 },
 "nbformat": 4,
 "nbformat_minor": 2
}
