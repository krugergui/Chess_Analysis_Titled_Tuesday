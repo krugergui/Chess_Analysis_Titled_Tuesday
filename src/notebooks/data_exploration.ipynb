{
 "cells": [
  {
   "cell_type": "code",
   "execution_count": 28,
   "metadata": {},
   "outputs": [],
   "source": [
    "import os\n",
    "import pymongo\n",
    "import pandas as pd\n",
    "from dotenv import load_dotenv\n",
    "from datetime import datetime\n",
    "import seaborn as sns\n",
    "from matplotlib import pyplot as plt\n",
    "from plotly import express as px\n",
    "from plotly.subplots import make_subplots\n",
    "\n",
    "load_dotenv()\n",
    "\n",
    "MONGO_DB_USER = os.environ[\"MONGO_DB_USER\"]\n",
    "MONGO_DB_PASSWORD = os.environ[\"MONGO_DB_PASSWORD\"]\n",
    "MONGO_DB_HOST = os.environ[\"MONGO_DB_HOST\"]\n",
    "MONGO_DB_PORT = os.environ[\"MONGO_DB_PORT\"]\n",
    "\n",
    "client = pymongo.MongoClient(\n",
    "    f\"mongodb://{MONGO_DB_USER}:{MONGO_DB_PASSWORD}@{MONGO_DB_HOST}:{MONGO_DB_PORT}/\"\n",
    ")\n",
    "\n",
    "silver_db = client.silver\n",
    "silver_events = silver_db.events\n",
    "silver_games = silver_db.games"
   ]
  },
  {
   "cell_type": "code",
   "execution_count": 4,
   "metadata": {},
   "outputs": [
    {
     "name": "stdout",
     "output_type": "stream",
     "text": [
      "Most recent event in the Database:\n",
      "2024-07-09 00:00:00\n"
     ]
    }
   ],
   "source": [
    "print(\"Most recent event in the Database:\")\n",
    "\n",
    "most_recent_event = silver_events.find_one(sort=[(\"Date\", -1)])\n",
    "\n",
    "print(most_recent_event[\"Date\"])"
   ]
  },
  {
   "cell_type": "markdown",
   "metadata": {},
   "source": [
    "## Biggest Winners\n",
    "\n",
    "We'll be analysing the Double Tournament era here, which stated in 01.02.2024 according to Chess.com.\n",
    "\n",
    "Source: https://www.chess.com/article/view/titled-tuesday\n"
   ]
  },
  {
   "cell_type": "code",
   "execution_count": 5,
   "metadata": {},
   "outputs": [
    {
     "name": "stdout",
     "output_type": "stream",
     "text": [
      "Number of Events: 244\n",
      "\n",
      "Players with most wins\n",
      "      Nakamura, Hikaru: 55\n",
      "     Andreikin, Dmitry: 16\n",
      "       Carlsen, Magnus: 16\n",
      "         Dubov, Daniil: 11\n",
      "     Firouzja, Alireza: 9\n",
      "        Sarana, Alexey: 8\n",
      "   Duda, Jan-Krzysztof: 8\n",
      "    Fedoseev, Vladimir: 6\n",
      "     Bortnyk, Olexandr: 6\n",
      "        Xiong, Jeffery: 5\n"
     ]
    }
   ],
   "source": [
    "match_double_elimination_era = {\n",
    "    \"$match\": {\n",
    "        \"Date\": {\"$gte\": datetime(2022, 1, 31)},\n",
    "    }\n",
    "}\n",
    "\n",
    "winners = silver_events.aggregate(\n",
    "    [\n",
    "        match_double_elimination_era,\n",
    "        {\n",
    "            \"$project\": {\n",
    "                \"results\": {\n",
    "                    \"$filter\": {\n",
    "                        \"input\": \"$results\",\n",
    "                        \"as\": \"r\",\n",
    "                        \"cond\": {\"$eq\": [\"$$r.position\", 1]},\n",
    "                    }\n",
    "                }\n",
    "            }\n",
    "        },\n",
    "    ]\n",
    ")\n",
    "\n",
    "dict_winners = {}\n",
    "\n",
    "for i in winners:\n",
    "    for winner in i[\"results\"]:\n",
    "        dict_winners.setdefault(winner[\"player\"], 0)\n",
    "        dict_winners[winner[\"player\"]] += 1\n",
    "\n",
    "print(f\"Number of Events: {sum(dict_winners.values())}\\n\")\n",
    "\n",
    "print(f\"Players with most wins\")\n",
    "for key, value in sorted(dict_winners.items(), key=lambda item: item[1], reverse=True)[:10]:\n",
    "    print(f\"{key:>22}: {value}\")"
   ]
  },
  {
   "cell_type": "markdown",
   "metadata": {},
   "source": [
    "During the first data exploration of this dataset it has been found that some players have multiple accounts in the database, this has been corrected during the silver ETL phase and left here for reference.\n",
    "\n",
    "```python\n",
    "dict_multiple_accounts = {\n",
    "    \"Nakamura, Hikaru\": \"Hikaru\",\n",
    "    \"Carlsen, Magnus\": \"MagnusCarlsen\",\n",
    "    \"Firouzja, Alireza\": \"Firouzja2003\",\n",
    "    \"Sarana, Alexey\": \"mishanick\",\n",
    "    \"Andreikin, Dmitry\": \"FairChess_on_YouTube\",\n",
    "    \"Duda, Jan-Krzysztof\": \"Polish_fighter3000\",\n",
    "}\n",
    "\n",
    "for key, value in dict_multiple_accounts.items():\n",
    "    dict_winners[key] += dict_winners[value]\n",
    "    del dict_winners[value]\n",
    "\n",
    "print(f\"Players with most wins\")\n",
    "for key, value in sorted(dict_winners.items(), key=lambda item: item[1], reverse=True)[:10]:\n",
    "    print(f\"{key:>22}: {value}\")\n",
    "```\n"
   ]
  },
  {
   "cell_type": "code",
   "execution_count": 6,
   "metadata": {},
   "outputs": [
    {
     "name": "stdout",
     "output_type": "stream",
     "text": [
      "Player: magnus\n",
      "Games: 758 - Player: Carlsen, Magnus\n",
      "Games: 5 - Player: CarlMagnuson\n",
      "Games: 2 - Player: Magnuson, Carl F\n",
      "\n",
      "\n",
      "Player: carlsen\n",
      "Games: 758 - Player: Carlsen, Magnus\n",
      "Games: 31 - Player: carlsenCamacho\n",
      "Games: 11 - Player: carlsen1001\n",
      "Games: 7 - Player: BetonCarlsen\n",
      "\n",
      "\n",
      "Player: hikaru\n",
      "Games: 1999 - Player: Nakamura, Hikaru\n",
      "Games: 18 - Player: hikaruchija\n",
      "\n",
      "\n",
      "Player: nakamura\n",
      "Games: 1999 - Player: Nakamura, Hikaru\n",
      "\n",
      "\n"
     ]
    }
   ],
   "source": [
    "# Searching if there's any other accounts that may belong to the top players\n",
    "\n",
    "players_to_search = [\"magnus\", \"carlsen\", \"hikaru\", \"nakamura\"]\n",
    "\n",
    "for player in players_to_search:\n",
    "    total_games_per_player = silver_games.aggregate(\n",
    "        [\n",
    "            match_double_elimination_era,\n",
    "            {\"$project\": {\"White\": 1, \"Black\": 1, \"_id\": 0}},\n",
    "            {\"$project\": {\"values\": {\"$objectToArray\": \"$$ROOT\"}}},\n",
    "            {\"$unwind\": \"$values\"},\n",
    "            {\"$group\": {\"_id\": \"$values.v\", \"count\": {\"$sum\": 1}}},\n",
    "            {\"$sort\": {\"count\": -1}},\n",
    "            {\"$match\": {\"_id\": {\"$regex\": player, \"$options\": \"i\"}}},\n",
    "        ]\n",
    "    )\n",
    "\n",
    "    print(f\"Player: {player}\")\n",
    "    for i in total_games_per_player:\n",
    "        print(f\"Games: {i['count']} - Player: {i['_id']}\")\n",
    "    print(\"\\n\")"
   ]
  },
  {
   "cell_type": "markdown",
   "metadata": {},
   "source": [
    "### Notes\n",
    "\n",
    "No other accounts were found that belong to the top players.\n"
   ]
  },
  {
   "cell_type": "markdown",
   "metadata": {},
   "source": [
    "## Biggest upsets\n",
    "\n",
    "An upset is when one player's rating is lower than the other player's.\n",
    "\n",
    "Here we'll be looking into which were the biggest upsets in the Double-Tournament Era.\n"
   ]
  },
  {
   "cell_type": "code",
   "execution_count": 7,
   "metadata": {},
   "outputs": [
    {
     "data": {
      "text/html": [
       "<style type=\"text/css\">\n",
       "</style>\n",
       "<table id=\"T_98090\">\n",
       "  <thead>\n",
       "    <tr>\n",
       "      <th class=\"blank level0\" >&nbsp;</th>\n",
       "      <th id=\"T_98090_level0_col0\" class=\"col_heading level0 col0\" >Event</th>\n",
       "      <th id=\"T_98090_level0_col1\" class=\"col_heading level0 col1\" >Upset</th>\n",
       "      <th id=\"T_98090_level0_col2\" class=\"col_heading level0 col2\" >White</th>\n",
       "      <th id=\"T_98090_level0_col3\" class=\"col_heading level0 col3\" >WhiteElo</th>\n",
       "      <th id=\"T_98090_level0_col4\" class=\"col_heading level0 col4\" >Black</th>\n",
       "      <th id=\"T_98090_level0_col5\" class=\"col_heading level0 col5\" >BlackElo</th>\n",
       "      <th id=\"T_98090_level0_col6\" class=\"col_heading level0 col6\" >Chances of Upset %</th>\n",
       "    </tr>\n",
       "  </thead>\n",
       "  <tbody>\n",
       "    <tr>\n",
       "      <th id=\"T_98090_level0_row0\" class=\"row_heading level0 row0\" >0</th>\n",
       "      <td id=\"T_98090_row0_col0\" class=\"data row0 col0\" >Titled Tuesday Blitz December 20 Early 2022</td>\n",
       "      <td id=\"T_98090_row0_col1\" class=\"data row0 col1\" >-1619</td>\n",
       "      <td id=\"T_98090_row0_col2\" class=\"data row0 col2\" >Susal_De_Silva</td>\n",
       "      <td id=\"T_98090_row0_col3\" class=\"data row0 col3\" >2808</td>\n",
       "      <td id=\"T_98090_row0_col4\" class=\"data row0 col4\" >Kazgildy, Fariza</td>\n",
       "      <td id=\"T_98090_row0_col5\" class=\"data row0 col5\" >1189</td>\n",
       "      <td id=\"T_98090_row0_col6\" class=\"data row0 col6\" >0.0090%</td>\n",
       "    </tr>\n",
       "    <tr>\n",
       "      <th id=\"T_98090_level0_row1\" class=\"row_heading level0 row1\" >1</th>\n",
       "      <td id=\"T_98090_row1_col0\" class=\"data row1 col0\" >Titled Tuesday Blitz October 18 Late 2022</td>\n",
       "      <td id=\"T_98090_row1_col1\" class=\"data row1 col1\" >-1546</td>\n",
       "      <td id=\"T_98090_row1_col2\" class=\"data row1 col2\" >Eisa Mohmood, Alkhoori</td>\n",
       "      <td id=\"T_98090_row1_col3\" class=\"data row1 col3\" >1245</td>\n",
       "      <td id=\"T_98090_row1_col4\" class=\"data row1 col4\" >Bordi, Kevin</td>\n",
       "      <td id=\"T_98090_row1_col5\" class=\"data row1 col5\" >2791</td>\n",
       "      <td id=\"T_98090_row1_col6\" class=\"data row1 col6\" >0.0136%</td>\n",
       "    </tr>\n",
       "    <tr>\n",
       "      <th id=\"T_98090_level0_row2\" class=\"row_heading level0 row2\" >2</th>\n",
       "      <td id=\"T_98090_row2_col0\" class=\"data row2 col0\" >Titled Tuesday Blitz December 20 Early 2022</td>\n",
       "      <td id=\"T_98090_row2_col1\" class=\"data row2 col1\" >-1536</td>\n",
       "      <td id=\"T_98090_row2_col2\" class=\"data row2 col2\" >Kopylov_Alex</td>\n",
       "      <td id=\"T_98090_row2_col3\" class=\"data row2 col3\" >2790</td>\n",
       "      <td id=\"T_98090_row2_col4\" class=\"data row2 col4\" >Mone, Ved</td>\n",
       "      <td id=\"T_98090_row2_col5\" class=\"data row2 col5\" >1254</td>\n",
       "      <td id=\"T_98090_row2_col6\" class=\"data row2 col6\" >0.0145%</td>\n",
       "    </tr>\n",
       "    <tr>\n",
       "      <th id=\"T_98090_level0_row3\" class=\"row_heading level0 row3\" >3</th>\n",
       "      <td id=\"T_98090_row3_col0\" class=\"data row3 col0\" >Titled Tuesday Blitz December 20 Early 2022</td>\n",
       "      <td id=\"T_98090_row3_col1\" class=\"data row3 col1\" >-1463</td>\n",
       "      <td id=\"T_98090_row3_col2\" class=\"data row3 col2\" >The_Machine04</td>\n",
       "      <td id=\"T_98090_row3_col3\" class=\"data row3 col3\" >2652</td>\n",
       "      <td id=\"T_98090_row3_col4\" class=\"data row3 col4\" >Kazgildy, Fariza</td>\n",
       "      <td id=\"T_98090_row3_col5\" class=\"data row3 col5\" >1189</td>\n",
       "      <td id=\"T_98090_row3_col6\" class=\"data row3 col6\" >0.0220%</td>\n",
       "    </tr>\n",
       "    <tr>\n",
       "      <th id=\"T_98090_level0_row4\" class=\"row_heading level0 row4\" >4</th>\n",
       "      <td id=\"T_98090_row4_col0\" class=\"data row4 col0\" >Titled Tuesday Blitz April 26 Early 2022</td>\n",
       "      <td id=\"T_98090_row4_col1\" class=\"data row4 col1\" >-1414</td>\n",
       "      <td id=\"T_98090_row4_col2\" class=\"data row4 col2\" >Bashirli, Saadat</td>\n",
       "      <td id=\"T_98090_row4_col3\" class=\"data row4 col3\" >1173</td>\n",
       "      <td id=\"T_98090_row4_col4\" class=\"data row4 col4\" >Bachmann, Axel</td>\n",
       "      <td id=\"T_98090_row4_col5\" class=\"data row4 col5\" >2587</td>\n",
       "      <td id=\"T_98090_row4_col6\" class=\"data row4 col6\" >0.0292%</td>\n",
       "    </tr>\n",
       "    <tr>\n",
       "      <th id=\"T_98090_level0_row5\" class=\"row_heading level0 row5\" >5</th>\n",
       "      <td id=\"T_98090_row5_col0\" class=\"data row5 col0\" >Titled Tuesday Blitz December 20 Early 2022</td>\n",
       "      <td id=\"T_98090_row5_col1\" class=\"data row5 col1\" >-1393</td>\n",
       "      <td id=\"T_98090_row5_col2\" class=\"data row5 col2\" >Benamar, Benious</td>\n",
       "      <td id=\"T_98090_row5_col3\" class=\"data row5 col3\" >1136</td>\n",
       "      <td id=\"T_98090_row5_col4\" class=\"data row5 col4\" >lemayvega</td>\n",
       "      <td id=\"T_98090_row5_col5\" class=\"data row5 col5\" >2529</td>\n",
       "      <td id=\"T_98090_row5_col6\" class=\"data row5 col6\" >0.0329%</td>\n",
       "    </tr>\n",
       "    <tr>\n",
       "      <th id=\"T_98090_level0_row6\" class=\"row_heading level0 row6\" >6</th>\n",
       "      <td id=\"T_98090_row6_col0\" class=\"data row6 col0\" >Titled Tuesday Blitz December 20 Early 2022</td>\n",
       "      <td id=\"T_98090_row6_col1\" class=\"data row6 col1\" >-1350</td>\n",
       "      <td id=\"T_98090_row6_col2\" class=\"data row6 col2\" >CDOEspiao</td>\n",
       "      <td id=\"T_98090_row6_col3\" class=\"data row6 col3\" >2486</td>\n",
       "      <td id=\"T_98090_row6_col4\" class=\"data row6 col4\" >Benamar, Benious</td>\n",
       "      <td id=\"T_98090_row6_col5\" class=\"data row6 col5\" >1136</td>\n",
       "      <td id=\"T_98090_row6_col6\" class=\"data row6 col6\" >0.0422%</td>\n",
       "    </tr>\n",
       "    <tr>\n",
       "      <th id=\"T_98090_level0_row7\" class=\"row_heading level0 row7\" >7</th>\n",
       "      <td id=\"T_98090_row7_col0\" class=\"data row7 col0\" >Titled Tuesday Blitz December 20 Early 2022</td>\n",
       "      <td id=\"T_98090_row7_col1\" class=\"data row7 col1\" >-1328</td>\n",
       "      <td id=\"T_98090_row7_col2\" class=\"data row7 col2\" >Castro Andrade, Seirbert Cristian</td>\n",
       "      <td id=\"T_98090_row7_col3\" class=\"data row7 col3\" >1364</td>\n",
       "      <td id=\"T_98090_row7_col4\" class=\"data row7 col4\" >Xiong, Jeffery</td>\n",
       "      <td id=\"T_98090_row7_col5\" class=\"data row7 col5\" >2692</td>\n",
       "      <td id=\"T_98090_row7_col6\" class=\"data row7 col6\" >0.0478%</td>\n",
       "    </tr>\n",
       "    <tr>\n",
       "      <th id=\"T_98090_level0_row8\" class=\"row_heading level0 row8\" >8</th>\n",
       "      <td id=\"T_98090_row8_col0\" class=\"data row8 col0\" >Titled Tuesday Blitz December 20 Early 2022</td>\n",
       "      <td id=\"T_98090_row8_col1\" class=\"data row8 col1\" >-1311</td>\n",
       "      <td id=\"T_98090_row8_col2\" class=\"data row8 col2\" >Yildiz, Ayse Emek</td>\n",
       "      <td id=\"T_98090_row8_col3\" class=\"data row8 col3\" >1702</td>\n",
       "      <td id=\"T_98090_row8_col4\" class=\"data row8 col4\" >OparinGrigoriy</td>\n",
       "      <td id=\"T_98090_row8_col5\" class=\"data row8 col5\" >3013</td>\n",
       "      <td id=\"T_98090_row8_col6\" class=\"data row8 col6\" >0.0528%</td>\n",
       "    </tr>\n",
       "    <tr>\n",
       "      <th id=\"T_98090_level0_row9\" class=\"row_heading level0 row9\" >9</th>\n",
       "      <td id=\"T_98090_row9_col0\" class=\"data row9 col0\" >Titled Tuesday Blitz January 03 Late 2023</td>\n",
       "      <td id=\"T_98090_row9_col1\" class=\"data row9 col1\" >-1309</td>\n",
       "      <td id=\"T_98090_row9_col2\" class=\"data row9 col2\" >Gaehwiler, Gabriel</td>\n",
       "      <td id=\"T_98090_row9_col3\" class=\"data row9 col3\" >2404</td>\n",
       "      <td id=\"T_98090_row9_col4\" class=\"data row9 col4\" >Eisa Mohmood, Alkhoori</td>\n",
       "      <td id=\"T_98090_row9_col5\" class=\"data row9 col5\" >1095</td>\n",
       "      <td id=\"T_98090_row9_col6\" class=\"data row9 col6\" >0.0534%</td>\n",
       "    </tr>\n",
       "  </tbody>\n",
       "</table>\n"
      ],
      "text/plain": [
       "<pandas.io.formats.style.Styler at 0x73b4dbf28190>"
      ]
     },
     "execution_count": 7,
     "metadata": {},
     "output_type": "execute_result"
    }
   ],
   "source": [
    "upsets = (\n",
    "    silver_games.find(\n",
    "        {\n",
    "            \"WhiteElo\": {\"$gt\": 1000},\n",
    "            \"BlackElo\": {\"$gt\": 1000},\n",
    "            \"Date\": {\"$gte\": datetime(2022, 1, 1)},\n",
    "        }\n",
    "    )\n",
    "    .limit(10)\n",
    "    .sort({\"Upset\": 1})\n",
    ")\n",
    "\n",
    "upsets = pd.DataFrame(upsets)[[\"Event\", \"Upset\", \"White\", \"WhiteElo\", \"Black\", \"BlackElo\"]]\n",
    "\n",
    "upsets.loc[:, \"Chances of Upset %\"] = 1 / (1 + 10 ** (-upsets[\"Upset\"] / 400))\n",
    "\n",
    "upsets.style.format({\"Chances of Upset %\": \"{:.4%}\", \"Upset\": \"{:.0f}\"})"
   ]
  },
  {
   "cell_type": "markdown",
   "metadata": {},
   "source": [
    "### Notes\n",
    "\n",
    "In the tables above we can see that the biggest upset in this tournament had an elo difference of 1619, this had a chance of happening of just 0.009% ([Source](https://fivethirtyeight.com/features/introducing-nfl-elo-ratings/)).\n"
   ]
  },
  {
   "cell_type": "markdown",
   "metadata": {},
   "source": [
    "### Carlsen and Nakamura Upsets\n"
   ]
  },
  {
   "cell_type": "code",
   "execution_count": 8,
   "metadata": {},
   "outputs": [
    {
     "name": "stdout",
     "output_type": "stream",
     "text": [
      "Number of games player by Carlsen: 787\n"
     ]
    },
    {
     "data": {
      "text/html": [
       "<style type=\"text/css\">\n",
       "</style>\n",
       "<table id=\"T_591b3\">\n",
       "  <thead>\n",
       "    <tr>\n",
       "      <th class=\"blank level0\" >&nbsp;</th>\n",
       "      <th id=\"T_591b3_level0_col0\" class=\"col_heading level0 col0\" >Event</th>\n",
       "      <th id=\"T_591b3_level0_col1\" class=\"col_heading level0 col1\" >Upset</th>\n",
       "      <th id=\"T_591b3_level0_col2\" class=\"col_heading level0 col2\" >White</th>\n",
       "      <th id=\"T_591b3_level0_col3\" class=\"col_heading level0 col3\" >WhiteElo</th>\n",
       "      <th id=\"T_591b3_level0_col4\" class=\"col_heading level0 col4\" >Black</th>\n",
       "      <th id=\"T_591b3_level0_col5\" class=\"col_heading level0 col5\" >BlackElo</th>\n",
       "      <th id=\"T_591b3_level0_col6\" class=\"col_heading level0 col6\" >Chances of Upset %</th>\n",
       "    </tr>\n",
       "  </thead>\n",
       "  <tbody>\n",
       "    <tr>\n",
       "      <th id=\"T_591b3_level0_row0\" class=\"row_heading level0 row0\" >0</th>\n",
       "      <td id=\"T_591b3_row0_col0\" class=\"data row0 col0\" >Late-Titled-Tuesday-Blitz-June-25-2024</td>\n",
       "      <td id=\"T_591b3_row0_col1\" class=\"data row0 col1\" >-616</td>\n",
       "      <td id=\"T_591b3_row0_col2\" class=\"data row0 col2\" >Carlsen, Magnus</td>\n",
       "      <td id=\"T_591b3_row0_col3\" class=\"data row0 col3\" >3164</td>\n",
       "      <td id=\"T_591b3_row0_col4\" class=\"data row0 col4\" >WPWPWP-2015</td>\n",
       "      <td id=\"T_591b3_row0_col5\" class=\"data row0 col5\" >2548</td>\n",
       "      <td id=\"T_591b3_row0_col6\" class=\"data row0 col6\" >2.8032%</td>\n",
       "    </tr>\n",
       "    <tr>\n",
       "      <th id=\"T_591b3_level0_row1\" class=\"row_heading level0 row1\" >1</th>\n",
       "      <td id=\"T_591b3_row1_col0\" class=\"data row1 col0\" >Late-Titled-Tuesday-Blitz-July-02-2024</td>\n",
       "      <td id=\"T_591b3_row1_col1\" class=\"data row1 col1\" >-612</td>\n",
       "      <td id=\"T_591b3_row1_col2\" class=\"data row1 col2\" >subham777</td>\n",
       "      <td id=\"T_591b3_row1_col3\" class=\"data row1 col3\" >2545</td>\n",
       "      <td id=\"T_591b3_row1_col4\" class=\"data row1 col4\" >Carlsen, Magnus</td>\n",
       "      <td id=\"T_591b3_row1_col5\" class=\"data row1 col5\" >3157</td>\n",
       "      <td id=\"T_591b3_row1_col6\" class=\"data row1 col6\" >2.8666%</td>\n",
       "    </tr>\n",
       "    <tr>\n",
       "      <th id=\"T_591b3_level0_row2\" class=\"row_heading level0 row2\" >2</th>\n",
       "      <td id=\"T_591b3_row2_col0\" class=\"data row2 col0\" >Titled Tuesday Blitz March 21 Early 2023</td>\n",
       "      <td id=\"T_591b3_row2_col1\" class=\"data row2 col1\" >-475</td>\n",
       "      <td id=\"T_591b3_row2_col2\" class=\"data row2 col2\" >Carlsen, Magnus</td>\n",
       "      <td id=\"T_591b3_row2_col3\" class=\"data row2 col3\" >2852</td>\n",
       "      <td id=\"T_591b3_row2_col4\" class=\"data row2 col4\" >Tillyaev, Ulugbek</td>\n",
       "      <td id=\"T_591b3_row2_col5\" class=\"data row2 col5\" >2377</td>\n",
       "      <td id=\"T_591b3_row2_col6\" class=\"data row2 col6\" >6.0978%</td>\n",
       "    </tr>\n",
       "    <tr>\n",
       "      <th id=\"T_591b3_level0_row3\" class=\"row_heading level0 row3\" >3</th>\n",
       "      <td id=\"T_591b3_row3_col0\" class=\"data row3 col0\" >Late-Titled-Tuesday-Blitz-February-20-2024</td>\n",
       "      <td id=\"T_591b3_row3_col1\" class=\"data row3 col1\" >-465</td>\n",
       "      <td id=\"T_591b3_row3_col2\" class=\"data row3 col2\" >ProphetReborn</td>\n",
       "      <td id=\"T_591b3_row3_col3\" class=\"data row3 col3\" >2860</td>\n",
       "      <td id=\"T_591b3_row3_col4\" class=\"data row3 col4\" >Carlsen, Magnus</td>\n",
       "      <td id=\"T_591b3_row3_col5\" class=\"data row3 col5\" >3325</td>\n",
       "      <td id=\"T_591b3_row3_col6\" class=\"data row3 col6\" >6.4359%</td>\n",
       "    </tr>\n",
       "    <tr>\n",
       "      <th id=\"T_591b3_level0_row4\" class=\"row_heading level0 row4\" >4</th>\n",
       "      <td id=\"T_591b3_row4_col0\" class=\"data row4 col0\" >Titled Tuesday Blitz January 31 Late 2023</td>\n",
       "      <td id=\"T_591b3_row4_col1\" class=\"data row4 col1\" >-440</td>\n",
       "      <td id=\"T_591b3_row4_col2\" class=\"data row4 col2\" >Erdogdu, Mert</td>\n",
       "      <td id=\"T_591b3_row4_col3\" class=\"data row4 col3\" >2413</td>\n",
       "      <td id=\"T_591b3_row4_col4\" class=\"data row4 col4\" >Carlsen, Magnus</td>\n",
       "      <td id=\"T_591b3_row4_col5\" class=\"data row4 col5\" >2853</td>\n",
       "      <td id=\"T_591b3_row4_col6\" class=\"data row4 col6\" >7.3588%</td>\n",
       "    </tr>\n",
       "  </tbody>\n",
       "</table>\n"
      ],
      "text/plain": [
       "<pandas.io.formats.style.Styler at 0x73b4db56bee0>"
      ]
     },
     "execution_count": 8,
     "metadata": {},
     "output_type": "execute_result"
    }
   ],
   "source": [
    "print(\n",
    "    f\"Number of games player by Carlsen: {silver_games.count_documents({'$or': [{'White': 'Carlsen, Magnus'}, {'Black': 'Carlsen, Magnus'}]})}\"\n",
    ")\n",
    "\n",
    "upsets = (\n",
    "    silver_games.find(\n",
    "        {\n",
    "            \"$or\": [\n",
    "                {\"White\": {\"$in\": [\"Carlsen, Magnus\"]}},\n",
    "                {\"Black\": {\"$in\": [\"Carlsen, Magnus\"]}},\n",
    "            ],\n",
    "            \"WhiteElo\": {\"$gt\": 1000},\n",
    "            \"BlackElo\": {\"$gt\": 1000},\n",
    "        }\n",
    "    )\n",
    "    .limit(5)\n",
    "    .sort({\"Upset\": 1})\n",
    ")\n",
    "\n",
    "carlsen_upsets = pd.DataFrame(upsets)[[\"Event\", \"Upset\", \"White\", \"WhiteElo\", \"Black\", \"BlackElo\"]]\n",
    "\n",
    "carlsen_upsets.loc[:, \"Chances of Upset %\"] = 1 / (1 + 10 ** (-carlsen_upsets[\"Upset\"] / 400))\n",
    "\n",
    "carlsen_upsets.style.format({\"Chances of Upset %\": \"{:.4%}\", \"Upset\": \"{:.0f}\"})"
   ]
  },
  {
   "cell_type": "code",
   "execution_count": 9,
   "metadata": {},
   "outputs": [
    {
     "name": "stdout",
     "output_type": "stream",
     "text": [
      "Number of games player by Hikaru Nakamura: 3127\n"
     ]
    },
    {
     "data": {
      "text/html": [
       "<style type=\"text/css\">\n",
       "</style>\n",
       "<table id=\"T_dcb25\">\n",
       "  <thead>\n",
       "    <tr>\n",
       "      <th class=\"blank level0\" >&nbsp;</th>\n",
       "      <th id=\"T_dcb25_level0_col0\" class=\"col_heading level0 col0\" >Event</th>\n",
       "      <th id=\"T_dcb25_level0_col1\" class=\"col_heading level0 col1\" >Upset</th>\n",
       "      <th id=\"T_dcb25_level0_col2\" class=\"col_heading level0 col2\" >White</th>\n",
       "      <th id=\"T_dcb25_level0_col3\" class=\"col_heading level0 col3\" >WhiteElo</th>\n",
       "      <th id=\"T_dcb25_level0_col4\" class=\"col_heading level0 col4\" >Black</th>\n",
       "      <th id=\"T_dcb25_level0_col5\" class=\"col_heading level0 col5\" >BlackElo</th>\n",
       "      <th id=\"T_dcb25_level0_col6\" class=\"col_heading level0 col6\" >Chances of Upset %</th>\n",
       "    </tr>\n",
       "  </thead>\n",
       "  <tbody>\n",
       "    <tr>\n",
       "      <th id=\"T_dcb25_level0_row0\" class=\"row_heading level0 row0\" >0</th>\n",
       "      <td id=\"T_dcb25_row0_col0\" class=\"data row0 col0\" >Titled Tuesday Blitz August 15 Early 2023</td>\n",
       "      <td id=\"T_dcb25_row0_col1\" class=\"data row0 col1\" >-1180</td>\n",
       "      <td id=\"T_dcb25_row0_col2\" class=\"data row0 col2\" >Nakamura, Hikaru</td>\n",
       "      <td id=\"T_dcb25_row0_col3\" class=\"data row0 col3\" >3255</td>\n",
       "      <td id=\"T_dcb25_row0_col4\" class=\"data row0 col4\" >Nugumanov, Bakhtiyar</td>\n",
       "      <td id=\"T_dcb25_row0_col5\" class=\"data row0 col5\" >2075</td>\n",
       "      <td id=\"T_dcb25_row0_col6\" class=\"data row0 col6\" >0.1121%</td>\n",
       "    </tr>\n",
       "    <tr>\n",
       "      <th id=\"T_dcb25_level0_row1\" class=\"row_heading level0 row1\" >1</th>\n",
       "      <td id=\"T_dcb25_row1_col0\" class=\"data row1 col0\" >Titled Tuesday Blitz May 10 Early 2022</td>\n",
       "      <td id=\"T_dcb25_row1_col1\" class=\"data row1 col1\" >-1054</td>\n",
       "      <td id=\"T_dcb25_row1_col2\" class=\"data row1 col2\" >Nakamura, Hikaru</td>\n",
       "      <td id=\"T_dcb25_row1_col3\" class=\"data row1 col3\" >2850</td>\n",
       "      <td id=\"T_dcb25_row1_col4\" class=\"data row1 col4\" >Aslanov, Umid</td>\n",
       "      <td id=\"T_dcb25_row1_col5\" class=\"data row1 col5\" >1796</td>\n",
       "      <td id=\"T_dcb25_row1_col6\" class=\"data row1 col6\" >0.2312%</td>\n",
       "    </tr>\n",
       "    <tr>\n",
       "      <th id=\"T_dcb25_level0_row2\" class=\"row_heading level0 row2\" >2</th>\n",
       "      <td id=\"T_dcb25_row2_col0\" class=\"data row2 col0\" >*** Titled Tuesday Blitz AM</td>\n",
       "      <td id=\"T_dcb25_row2_col1\" class=\"data row2 col1\" >-964</td>\n",
       "      <td id=\"T_dcb25_row2_col2\" class=\"data row2 col2\" >Nakamura, Hikaru</td>\n",
       "      <td id=\"T_dcb25_row2_col3\" class=\"data row2 col3\" >3134</td>\n",
       "      <td id=\"T_dcb25_row2_col4\" class=\"data row2 col4\" >politeplayer</td>\n",
       "      <td id=\"T_dcb25_row2_col5\" class=\"data row2 col5\" >2170</td>\n",
       "      <td id=\"T_dcb25_row2_col6\" class=\"data row2 col6\" >0.3875%</td>\n",
       "    </tr>\n",
       "    <tr>\n",
       "      <th id=\"T_dcb25_level0_row3\" class=\"row_heading level0 row3\" >3</th>\n",
       "      <td id=\"T_dcb25_row3_col0\" class=\"data row3 col0\" >***Titled Tuesday 3|2 Blitz</td>\n",
       "      <td id=\"T_dcb25_row3_col1\" class=\"data row3 col1\" >-793</td>\n",
       "      <td id=\"T_dcb25_row3_col2\" class=\"data row3 col2\" >Nakamura, Hikaru</td>\n",
       "      <td id=\"T_dcb25_row3_col3\" class=\"data row3 col3\" >2890</td>\n",
       "      <td id=\"T_dcb25_row3_col4\" class=\"data row3 col4\" >proxy6</td>\n",
       "      <td id=\"T_dcb25_row3_col5\" class=\"data row3 col5\" >2097</td>\n",
       "      <td id=\"T_dcb25_row3_col6\" class=\"data row3 col6\" >1.0304%</td>\n",
       "    </tr>\n",
       "    <tr>\n",
       "      <th id=\"T_dcb25_level0_row4\" class=\"row_heading level0 row4\" >4</th>\n",
       "      <td id=\"T_dcb25_row4_col0\" class=\"data row4 col0\" >Titled Tuesday Blitz August 15 Early 2023</td>\n",
       "      <td id=\"T_dcb25_row4_col1\" class=\"data row4 col1\" >-761</td>\n",
       "      <td id=\"T_dcb25_row4_col2\" class=\"data row4 col2\" >Benedetti, Julio</td>\n",
       "      <td id=\"T_dcb25_row4_col3\" class=\"data row4 col3\" >2510</td>\n",
       "      <td id=\"T_dcb25_row4_col4\" class=\"data row4 col4\" >Nakamura, Hikaru</td>\n",
       "      <td id=\"T_dcb25_row4_col5\" class=\"data row4 col5\" >3271</td>\n",
       "      <td id=\"T_dcb25_row4_col6\" class=\"data row4 col6\" >1.2362%</td>\n",
       "    </tr>\n",
       "  </tbody>\n",
       "</table>\n"
      ],
      "text/plain": [
       "<pandas.io.formats.style.Styler at 0x73b4e1781300>"
      ]
     },
     "execution_count": 9,
     "metadata": {},
     "output_type": "execute_result"
    }
   ],
   "source": [
    "print(\n",
    "    f\"Number of games player by Hikaru Nakamura: {silver_games.count_documents({'$or': [{'White': 'Nakamura, Hikaru'}, {'Black': 'Nakamura, Hikaru'}]})}\"\n",
    ")\n",
    "\n",
    "upsets = (\n",
    "    silver_games.find(\n",
    "        {\n",
    "            \"$or\": [\n",
    "                {\"White\": {\"$in\": [\"Nakamura, Hikaru\"]}},\n",
    "                {\"Black\": {\"$in\": [\"Nakamura, Hikaru\"]}},\n",
    "            ],\n",
    "            \"WhiteElo\": {\"$gt\": 1000},\n",
    "            \"BlackElo\": {\"$gt\": 1000},\n",
    "        }\n",
    "    )\n",
    "    .limit(5)\n",
    "    .sort({\"Upset\": 1})\n",
    ")\n",
    "\n",
    "nakamura_upsets = pd.DataFrame(upsets)[[\"Event\", \"Upset\", \"White\", \"WhiteElo\", \"Black\", \"BlackElo\"]]\n",
    "\n",
    "nakamura_upsets.loc[:, \"Chances of Upset %\"] = 1 / (1 + 10 ** (-nakamura_upsets[\"Upset\"] / 400))\n",
    "\n",
    "nakamura_upsets.style.format({\"Chances of Upset %\": \"{:.4%}\", \"Upset\": \"{:.0f}\"})"
   ]
  },
  {
   "cell_type": "markdown",
   "metadata": {},
   "source": [
    "### Notes on Nakamura and Carlsen Upsets\n",
    "\n",
    "Magnus Carlsen never had a huge upset, having lost to someone with a rating difference of 475 and a chance of upset of 6%.\n",
    "\n",
    "Hikaru Nakamura had more upsets, losing many times to players with over 500 difference in rating and a couple of times with chances of upsets below 1%.\n"
   ]
  },
  {
   "cell_type": "markdown",
   "metadata": {},
   "source": [
    "## Who played the most games\n"
   ]
  },
  {
   "cell_type": "code",
   "execution_count": 10,
   "metadata": {},
   "outputs": [
    {
     "name": "stdout",
     "output_type": "stream",
     "text": [
      "Number of games played in the 2022 Double Elimination era: 430825\n"
     ]
    }
   ],
   "source": [
    "total_games = silver_games.aggregate([match_double_elimination_era, {\"$count\": \"total_games\"}])\n",
    "\n",
    "print(\n",
    "    \"Number of games played in the 2022 Double Elimination era:\", total_games.next()[\"total_games\"]\n",
    ")"
   ]
  },
  {
   "cell_type": "code",
   "execution_count": 11,
   "metadata": {},
   "outputs": [
    {
     "name": "stdout",
     "output_type": "stream",
     "text": [
      "Players who played the most games in the 2022 Double Elimination era:\n",
      "Games: 2236 - Player: Andreikin, Dmitry\n",
      "Games: 2032 - Player: Sarana, Alexey\n",
      "Games: 1999 - Player: Nakamura, Hikaru\n",
      "Games: 1686 - Player: Zhigalko, Sergei\n",
      "Games: 1655 - Player: Kamsky, Gata\n",
      "Games: 1580 - Player: Bortnyk, Olexandr\n",
      "Games: 1503 - Player: Martinez Alcantara, Jose Eduardo\n",
      "Games: 1456 - Player: Rustemov, Alexander\n",
      "Games: 1445 - Player: Paravyan, David\n",
      "Games: 1438 - Player: Vlassov, Nikolai\n"
     ]
    }
   ],
   "source": [
    "total_games_per_player = silver_games.aggregate(\n",
    "    [\n",
    "        match_double_elimination_era,\n",
    "        {\"$project\": {\"White\": 1, \"Black\": 1, \"_id\": 0}},\n",
    "        {\"$project\": {\"values\": {\"$objectToArray\": \"$$ROOT\"}}},\n",
    "        {\"$unwind\": \"$values\"},\n",
    "        {\"$group\": {\"_id\": \"$values.v\", \"count\": {\"$sum\": 1}}},\n",
    "        {\"$sort\": {\"count\": -1}},\n",
    "        {\"$limit\": 10},\n",
    "    ]\n",
    ")\n",
    "\n",
    "print(\"Players who played the most games in the 2022 Double Elimination era:\")\n",
    "for i in total_games_per_player:\n",
    "    print(f\"Games: {i['count']} - Player: {i['_id']}\")"
   ]
  },
  {
   "cell_type": "markdown",
   "metadata": {},
   "source": [
    "## Who played the most editions\n"
   ]
  },
  {
   "cell_type": "code",
   "execution_count": 12,
   "metadata": {},
   "outputs": [
    {
     "name": "stdout",
     "output_type": "stream",
     "text": [
      "Players who played the most Titled Tuesday Editions in the 2022 Double Elimination era:\n",
      "Editions: 248 - Player: Andreikin, Dmitry\n",
      "Editions: 229 - Player: Nakamura, Hikaru\n",
      "Editions: 219 - Player: Sarana, Alexey\n",
      "Editions: 189 - Player: Zhigalko, Sergei\n",
      "Editions: 186 - Player: Kamsky, Gata\n",
      "Editions: 180 - Player: Janaszak, Dawid\n",
      "Editions: 179 - Player: Bortnyk, Olexandr\n",
      "Editions: 177 - Player: Rustemov, Alexander\n",
      "Editions: 174 - Player: Vlassov, Nikolai\n",
      "Editions: 170 - Player: Martinez Alcantara, Jose Eduardo\n"
     ]
    }
   ],
   "source": [
    "total_games_per_player = silver_games.aggregate(\n",
    "    [\n",
    "        {\n",
    "            \"$project\": {\n",
    "                \"Event\": 1,\n",
    "                \"White\": {\"Event\": \"$Event\", \"player\": \"$White\"},\n",
    "                \"Black\": {\"Event\": \"$Event\", \"player\": \"$Black\"},\n",
    "            }\n",
    "        },\n",
    "        {\"$project\": {\"Event\": 1, \"players\": {\"$setUnion\": [[\"$White\"], [\"$Black\"]]}}},\n",
    "        {\"$unwind\": \"$players\"},\n",
    "        {\"$replaceRoot\": {\"newRoot\": \"$players\"}},\n",
    "        {\n",
    "            \"$group\": {\n",
    "                \"_id\": {\"event\": \"$Event\", \"player\": \"$player\"},\n",
    "            }\n",
    "        },\n",
    "        {\"$replaceRoot\": {\"newRoot\": \"$_id\"}},\n",
    "        {\"$group\": {\"_id\": \"$player\", \"count\": {\"$sum\": 1}}},\n",
    "        {\"$sort\": {\"count\": -1}},\n",
    "        {\"$limit\": 10},\n",
    "    ]\n",
    ")\n",
    "\n",
    "print(\"Players who played the most Titled Tuesday Editions in the 2022 Double Elimination era:\")\n",
    "for i in total_games_per_player:\n",
    "    print(f\"Editions: {i['count']} - Player: {i['_id']}\")"
   ]
  },
  {
   "cell_type": "markdown",
   "metadata": {},
   "source": [
    "## How advantageous is to play as white?\n"
   ]
  },
  {
   "cell_type": "code",
   "execution_count": 13,
   "metadata": {},
   "outputs": [
    {
     "name": "stdout",
     "output_type": "stream",
     "text": [
      "White wins: 207913\n",
      "Black wins: 184052\n",
      "Ratio often do white wins: 53.04%\n"
     ]
    }
   ],
   "source": [
    "white_wins = silver_games.aggregate(\n",
    "    [\n",
    "        match_double_elimination_era,\n",
    "        {\"$match\": {\"Result\": \"1-0\"}},\n",
    "        {\"$count\": \"white_wins\"},\n",
    "    ]\n",
    ")\n",
    "\n",
    "black_wins = silver_games.aggregate(\n",
    "    [\n",
    "        match_double_elimination_era,\n",
    "        {\"$match\": {\"Result\": \"0-1\"}},\n",
    "        {\"$count\": \"black_wins\"},\n",
    "    ]\n",
    ")\n",
    "\n",
    "white_wins = white_wins.next()[\"white_wins\"]\n",
    "black_wins = black_wins.next()[\"black_wins\"]\n",
    "\n",
    "print(f\"White wins: {white_wins}\")\n",
    "print(f\"Black wins: {black_wins}\")\n",
    "print(f\"Ratio often do white wins: {white_wins / (white_wins + black_wins):.2%}\")"
   ]
  },
  {
   "cell_type": "markdown",
   "metadata": {},
   "source": [
    "White is the favourable color to play as it starts the game, but the chances of winning, although slightly higher than black, are still comparable to white.\n"
   ]
  },
  {
   "cell_type": "markdown",
   "metadata": {},
   "source": [
    "## Average Elos per Edition\n"
   ]
  },
  {
   "cell_type": "code",
   "execution_count": 14,
   "metadata": {},
   "outputs": [
    {
     "name": "stdout",
     "output_type": "stream",
     "text": [
      "{'_id': 'Late-Titled-Tuesday-Blitz-June-18-2024', 'white_elo': 2549.4816308243726, 'black_elo': 2546.695788530466}\n",
      "{'_id': 'Titled Tuesday Blitz October 25 Late 2022', 'white_elo': 2289.4970674486804, 'black_elo': 2281.4347507331377}\n",
      "{'_id': 'Late-Titled-Tuesday-Blitz-January-30-2024', 'white_elo': 2563.390118373649, 'black_elo': 2559.0607308286158}\n",
      "{'_id': 'Late-Titled-Tuesday-Blitz-June-25-2024', 'white_elo': 2548.654756156446, 'black_elo': 2546.414775470787}\n",
      "{'_id': 'Titled Tuesday Blitz November 29 Late 2022', 'white_elo': 2330.8132935026138, 'black_elo': 2324.8849887976103}\n",
      "{'_id': 'Titled Tuesday Blitz May 31 Late 2022', 'white_elo': 2360.759477124183, 'black_elo': 2353.654901960784}\n",
      "{'_id': 'Titled Tuesday Blitz February 28 Late 2023', 'white_elo': 2312.8191293684854, 'black_elo': 2310.2158185162475}\n",
      "{'_id': 'Titled Tuesday Blitz April 05 Late 2022', 'white_elo': 2359.421324161651, 'black_elo': 2348.147033533964}\n",
      "{'_id': 'Titled Tuesday Blitz May 17 Late 2022', 'white_elo': 2443.484090909091, 'black_elo': 2452.6363636363635}\n",
      "{'_id': 'Late-Titled-Tuesday-Blitz-April-23-2024', 'white_elo': 2564.878680203046, 'black_elo': 2559.3243654822336}\n"
     ]
    }
   ],
   "source": [
    "average_elos = silver_games.aggregate(\n",
    "    [\n",
    "        match_double_elimination_era,\n",
    "        {\n",
    "            \"$group\": {\n",
    "                \"_id\": \"$Event\",\n",
    "                \"white_elo\": {\"$avg\": \"$WhiteElo\"},\n",
    "                \"black_elo\": {\"$avg\": \"$BlackElo\"},\n",
    "            }\n",
    "        },\n",
    "    ]\n",
    ")\n",
    "\n",
    "for i in range(10):\n",
    "    print(average_elos.next())"
   ]
  },
  {
   "cell_type": "code",
   "execution_count": 27,
   "metadata": {},
   "outputs": [
    {
     "data": {
      "text/html": [
       "<style type=\"text/css\">\n",
       "</style>\n",
       "<table id=\"T_acd23\">\n",
       "  <thead>\n",
       "    <tr>\n",
       "      <th class=\"blank level0\" >&nbsp;</th>\n",
       "      <th id=\"T_acd23_level0_col0\" class=\"col_heading level0 col0\" >Event</th>\n",
       "      <th id=\"T_acd23_level0_col1\" class=\"col_heading level0 col1\" >Date</th>\n",
       "      <th id=\"T_acd23_level0_col2\" class=\"col_heading level0 col2\" >avg_elo</th>\n",
       "      <th id=\"T_acd23_level0_col3\" class=\"col_heading level0 col3\" >count</th>\n",
       "    </tr>\n",
       "  </thead>\n",
       "  <tbody>\n",
       "    <tr>\n",
       "      <th id=\"T_acd23_level0_row0\" class=\"row_heading level0 row0\" >141</th>\n",
       "      <td id=\"T_acd23_row0_col0\" class=\"data row0 col0\" >Titled Tuesday Blitz February 01 B 2022</td>\n",
       "      <td id=\"T_acd23_row0_col1\" class=\"data row0 col1\" >2022-02-01 00:00:00</td>\n",
       "      <td id=\"T_acd23_row0_col2\" class=\"data row0 col2\" >2459</td>\n",
       "      <td id=\"T_acd23_row0_col3\" class=\"data row0 col3\" >440</td>\n",
       "    </tr>\n",
       "    <tr>\n",
       "      <th id=\"T_acd23_level0_row1\" class=\"row_heading level0 row1\" >5</th>\n",
       "      <td id=\"T_acd23_row1_col0\" class=\"data row1 col0\" >Titled Tuesday Blitz February 01 A 2022</td>\n",
       "      <td id=\"T_acd23_row1_col1\" class=\"data row1 col1\" >2022-02-01 00:00:00</td>\n",
       "      <td id=\"T_acd23_row1_col2\" class=\"data row1 col2\" >2531</td>\n",
       "      <td id=\"T_acd23_row1_col3\" class=\"data row1 col3\" >440</td>\n",
       "    </tr>\n",
       "    <tr>\n",
       "      <th id=\"T_acd23_level0_row2\" class=\"row_heading level0 row2\" >66</th>\n",
       "      <td id=\"T_acd23_row2_col0\" class=\"data row2 col0\" >Early Titled Tuesday Blitz | February 8 2022</td>\n",
       "      <td id=\"T_acd23_row2_col1\" class=\"data row2 col1\" >2022-02-08 00:00:00</td>\n",
       "      <td id=\"T_acd23_row2_col2\" class=\"data row2 col2\" >2247</td>\n",
       "      <td id=\"T_acd23_row2_col3\" class=\"data row2 col3\" >2086</td>\n",
       "    </tr>\n",
       "    <tr>\n",
       "      <th id=\"T_acd23_level0_row3\" class=\"row_heading level0 row3\" >86</th>\n",
       "      <td id=\"T_acd23_row3_col0\" class=\"data row3 col0\" >Late Titled Tuesday Blitz February 8 2022</td>\n",
       "      <td id=\"T_acd23_row3_col1\" class=\"data row3 col1\" >2022-02-08 00:00:00</td>\n",
       "      <td id=\"T_acd23_row3_col2\" class=\"data row3 col2\" >2311</td>\n",
       "      <td id=\"T_acd23_row3_col3\" class=\"data row3 col3\" >1329</td>\n",
       "    </tr>\n",
       "    <tr>\n",
       "      <th id=\"T_acd23_level0_row4\" class=\"row_heading level0 row4\" >59</th>\n",
       "      <td id=\"T_acd23_row4_col0\" class=\"data row4 col0\" >Titled Tuesday Blitz February 15 Late 2022</td>\n",
       "      <td id=\"T_acd23_row4_col1\" class=\"data row4 col1\" >2022-02-15 00:00:00</td>\n",
       "      <td id=\"T_acd23_row4_col2\" class=\"data row4 col2\" >2310</td>\n",
       "      <td id=\"T_acd23_row4_col3\" class=\"data row4 col3\" >1252</td>\n",
       "    </tr>\n",
       "    <tr>\n",
       "      <th id=\"T_acd23_level0_row5\" class=\"row_heading level0 row5\" >152</th>\n",
       "      <td id=\"T_acd23_row5_col0\" class=\"data row5 col0\" >Titled Tuesday Blitz February 15 Early 2022</td>\n",
       "      <td id=\"T_acd23_row5_col1\" class=\"data row5 col1\" >2022-02-15 00:00:00</td>\n",
       "      <td id=\"T_acd23_row5_col2\" class=\"data row5 col2\" >2251</td>\n",
       "      <td id=\"T_acd23_row5_col3\" class=\"data row5 col3\" >2010</td>\n",
       "    </tr>\n",
       "    <tr>\n",
       "      <th id=\"T_acd23_level0_row6\" class=\"row_heading level0 row6\" >163</th>\n",
       "      <td id=\"T_acd23_row6_col0\" class=\"data row6 col0\" >Titled Tuesday Blitz February 22 Late 2022</td>\n",
       "      <td id=\"T_acd23_row6_col1\" class=\"data row6 col1\" >2022-02-22 00:00:00</td>\n",
       "      <td id=\"T_acd23_row6_col2\" class=\"data row6 col2\" >2305</td>\n",
       "      <td id=\"T_acd23_row6_col3\" class=\"data row6 col3\" >1281</td>\n",
       "    </tr>\n",
       "    <tr>\n",
       "      <th id=\"T_acd23_level0_row7\" class=\"row_heading level0 row7\" >214</th>\n",
       "      <td id=\"T_acd23_row7_col0\" class=\"data row7 col0\" >Titled Tuesday Blitz February 22 Early 2022</td>\n",
       "      <td id=\"T_acd23_row7_col1\" class=\"data row7 col1\" >2022-02-22 00:00:00</td>\n",
       "      <td id=\"T_acd23_row7_col2\" class=\"data row7 col2\" >2254</td>\n",
       "      <td id=\"T_acd23_row7_col3\" class=\"data row7 col3\" >2057</td>\n",
       "    </tr>\n",
       "    <tr>\n",
       "      <th id=\"T_acd23_level0_row8\" class=\"row_heading level0 row8\" >238</th>\n",
       "      <td id=\"T_acd23_row8_col0\" class=\"data row8 col0\" >Titled Tuesday Blitz March 01 Early 2022</td>\n",
       "      <td id=\"T_acd23_row8_col1\" class=\"data row8 col1\" >2022-03-01 00:00:00</td>\n",
       "      <td id=\"T_acd23_row8_col2\" class=\"data row8 col2\" >2237</td>\n",
       "      <td id=\"T_acd23_row8_col3\" class=\"data row8 col3\" >1739</td>\n",
       "    </tr>\n",
       "    <tr>\n",
       "      <th id=\"T_acd23_level0_row9\" class=\"row_heading level0 row9\" >69</th>\n",
       "      <td id=\"T_acd23_row9_col0\" class=\"data row9 col0\" >Titled Tuesday Blitz March 01 Late 2022</td>\n",
       "      <td id=\"T_acd23_row9_col1\" class=\"data row9 col1\" >2022-03-01 00:00:00</td>\n",
       "      <td id=\"T_acd23_row9_col2\" class=\"data row9 col2\" >2286</td>\n",
       "      <td id=\"T_acd23_row9_col3\" class=\"data row9 col3\" >1169</td>\n",
       "    </tr>\n",
       "  </tbody>\n",
       "</table>\n"
      ],
      "text/plain": [
       "<pandas.io.formats.style.Styler at 0x73b4d1e602b0>"
      ]
     },
     "execution_count": 27,
     "metadata": {},
     "output_type": "execute_result"
    }
   ],
   "source": [
    "average_elos = silver_games.aggregate(\n",
    "    [\n",
    "        match_double_elimination_era,\n",
    "        {\n",
    "            \"$project\": {\n",
    "                \"_id\": \"$Event\",\n",
    "                \"Date\": 1,\n",
    "                \"avg_elo\": {\n",
    "                    \"$avg\": [\n",
    "                        \"$WhiteElo\",\n",
    "                        \"$BlackElo\",\n",
    "                    ]\n",
    "                },\n",
    "            }\n",
    "        },\n",
    "        {\n",
    "            \"$group\": {\n",
    "                \"_id\": \"$_id\",\n",
    "                \"Date\": {\"$first\": \"$Date\"},\n",
    "                \"avg_elo\": {\"$avg\": \"$avg_elo\"},\n",
    "                \"count\": {\"$sum\": 1},\n",
    "            }\n",
    "        },\n",
    "    ]\n",
    ")\n",
    "\n",
    "df_average_elos = pd.DataFrame(average_elos).rename(columns={\"_id\": \"Event\"})\n",
    "\n",
    "df_average_elos.sort_values(\"Date\", ascending=True).head(10).style.format({\"avg_elo\": \"{:.0f}\"})"
   ]
  },
  {
   "cell_type": "markdown",
   "metadata": {},
   "source": [
    "### Notes\n",
    "\n",
    "All the highest elos seem to be in 2024 suggesting that the latter editions have become harder.\n",
    "\n",
    "Let's plot to make sure.\n"
   ]
  },
  {
   "cell_type": "code",
   "execution_count": 25,
   "metadata": {},
   "outputs": [
    {
     "data": {
      "application/vnd.plotly.v1+json": {
       "config": {
        "plotlyServerURL": "https://plot.ly"
       },
       "data": [
        {
         "hovertemplate": "Date=%{x}<br>Average Elos=%{y}<extra></extra>",
         "legendgroup": "",
         "line": {
          "color": "#636efa",
          "dash": "solid"
         },
         "marker": {
          "symbol": "circle"
         },
         "mode": "lines",
         "name": "",
         "orientation": "v",
         "showlegend": false,
         "type": "scatter",
         "x": [
          "2022-02-01T00:00:00",
          "2022-02-01T00:00:00",
          "2022-02-08T00:00:00",
          "2022-02-08T00:00:00",
          "2022-02-15T00:00:00",
          "2022-02-15T00:00:00",
          "2022-02-22T00:00:00",
          "2022-02-22T00:00:00",
          "2022-03-01T00:00:00",
          "2022-03-01T00:00:00",
          "2022-03-08T00:00:00",
          "2022-03-09T00:00:00",
          "2022-03-15T00:00:00",
          "2022-03-16T00:00:00",
          "2022-03-22T00:00:00",
          "2022-03-22T00:00:00",
          "2022-03-29T00:00:00",
          "2022-03-29T00:00:00",
          "2022-04-05T00:00:00",
          "2022-04-06T00:00:00",
          "2022-04-12T00:00:00",
          "2022-04-13T00:00:00",
          "2022-04-19T00:00:00",
          "2022-04-19T00:00:00",
          "2022-04-26T00:00:00",
          "2022-04-26T00:00:00",
          "2022-05-03T00:00:00",
          "2022-05-03T00:00:00",
          "2022-05-10T00:00:00",
          "2022-05-10T00:00:00",
          "2022-05-17T00:00:00",
          "2022-05-17T00:00:00",
          "2022-05-24T00:00:00",
          "2022-05-25T00:00:00",
          "2022-06-01T00:00:00",
          "2022-06-01T00:00:00",
          "2022-06-07T00:00:00",
          "2022-06-08T00:00:00",
          "2022-06-14T00:00:00",
          "2022-06-15T00:00:00",
          "2022-06-22T00:00:00",
          "2022-06-22T00:00:00",
          "2022-06-28T00:00:00",
          "2022-06-28T00:00:00",
          "2022-07-05T00:00:00",
          "2022-07-05T00:00:00",
          "2022-07-26T00:00:00",
          "2022-07-27T00:00:00",
          "2022-08-02T00:00:00",
          "2022-08-02T00:00:00",
          "2022-08-09T00:00:00",
          "2022-08-09T00:00:00",
          "2022-08-16T00:00:00",
          "2022-08-16T00:00:00",
          "2022-08-23T00:00:00",
          "2022-08-23T00:00:00",
          "2022-09-13T00:00:00",
          "2022-09-13T00:00:00",
          "2022-09-20T00:00:00",
          "2022-09-27T00:00:00",
          "2022-09-27T00:00:00",
          "2022-10-04T00:00:00",
          "2022-10-04T00:00:00",
          "2022-10-11T00:00:00",
          "2022-10-12T00:00:00",
          "2022-10-18T00:00:00",
          "2022-10-25T00:00:00",
          "2022-10-26T00:00:00",
          "2022-11-02T00:00:00",
          "2022-11-02T00:00:00",
          "2022-11-08T00:00:00",
          "2022-11-09T00:00:00",
          "2022-11-16T00:00:00",
          "2022-11-16T00:00:00",
          "2022-11-22T00:00:00",
          "2022-11-23T00:00:00",
          "2022-11-30T00:00:00",
          "2022-11-30T00:00:00",
          "2022-12-06T00:00:00",
          "2022-12-07T00:00:00",
          "2022-12-13T00:00:00",
          "2022-12-14T00:00:00",
          "2022-12-20T00:00:00",
          "2022-12-21T00:00:00",
          "2022-12-27T00:00:00",
          "2022-12-27T00:00:00",
          "2023-01-03T00:00:00",
          "2023-01-03T00:00:00",
          "2023-01-10T00:00:00",
          "2023-01-10T00:00:00",
          "2023-01-17T00:00:00",
          "2023-01-17T00:00:00",
          "2023-01-31T00:00:00",
          "2023-01-31T00:00:00",
          "2023-02-07T00:00:00",
          "2023-02-07T00:00:00",
          "2023-02-14T00:00:00",
          "2023-02-15T00:00:00",
          "2023-02-21T00:00:00",
          "2023-02-21T00:00:00",
          "2023-02-28T00:00:00",
          "2023-02-28T00:00:00",
          "2023-03-07T00:00:00",
          "2023-03-07T00:00:00",
          "2023-03-14T00:00:00",
          "2023-03-14T00:00:00",
          "2023-03-21T00:00:00",
          "2023-03-21T00:00:00",
          "2023-03-28T00:00:00",
          "2023-03-28T00:00:00",
          "2023-04-04T00:00:00",
          "2023-04-04T00:00:00",
          "2023-04-11T00:00:00",
          "2023-04-11T00:00:00",
          "2023-04-18T00:00:00",
          "2023-04-18T00:00:00",
          "2023-04-25T00:00:00",
          "2023-04-25T00:00:00",
          "2023-05-02T00:00:00",
          "2023-05-02T00:00:00",
          "2023-05-09T00:00:00",
          "2023-05-09T00:00:00",
          "2023-05-16T00:00:00",
          "2023-05-16T00:00:00",
          "2023-05-23T00:00:00",
          "2023-05-23T00:00:00",
          "2023-05-30T00:00:00",
          "2023-05-31T00:00:00",
          "2023-06-06T00:00:00",
          "2023-06-07T00:00:00",
          "2023-06-13T00:00:00",
          "2023-06-13T00:00:00",
          "2023-06-20T00:00:00",
          "2023-06-20T00:00:00",
          "2023-06-27T00:00:00",
          "2023-06-27T00:00:00",
          "2023-07-04T00:00:00",
          "2023-07-04T00:00:00",
          "2023-07-11T00:00:00",
          "2023-07-11T00:00:00",
          "2023-07-18T00:00:00",
          "2023-07-18T00:00:00",
          "2023-07-25T00:00:00",
          "2023-07-25T00:00:00",
          "2023-08-01T00:00:00",
          "2023-08-01T00:00:00",
          "2023-08-08T00:00:00",
          "2023-08-08T00:00:00",
          "2023-08-15T00:00:00",
          "2023-08-15T00:00:00",
          "2023-08-22T00:00:00",
          "2023-08-22T00:00:00",
          "2023-08-29T00:00:00",
          "2023-08-29T00:00:00",
          "2023-09-05T00:00:00",
          "2023-09-05T00:00:00",
          "2023-09-12T00:00:00",
          "2023-09-12T00:00:00",
          "2023-09-19T00:00:00",
          "2023-09-19T00:00:00",
          "2023-09-26T00:00:00",
          "2023-09-26T00:00:00",
          "2023-10-03T00:00:00",
          "2023-10-03T00:00:00",
          "2023-10-10T00:00:00",
          "2023-10-10T00:00:00",
          "2023-10-17T00:00:00",
          "2023-10-17T00:00:00",
          "2023-10-24T00:00:00",
          "2023-10-24T00:00:00",
          "2023-10-31T00:00:00",
          "2023-10-31T00:00:00",
          "2023-11-07T00:00:00",
          "2023-11-07T00:00:00",
          "2023-11-14T00:00:00",
          "2023-11-14T00:00:00",
          "2023-11-21T00:00:00",
          "2023-11-21T00:00:00",
          "2023-11-28T00:00:00",
          "2023-11-28T00:00:00",
          "2023-12-05T00:00:00",
          "2023-12-05T00:00:00",
          "2023-12-12T00:00:00",
          "2023-12-12T00:00:00",
          "2023-12-19T00:00:00",
          "2023-12-19T00:00:00",
          "2023-12-26T00:00:00",
          "2023-12-26T00:00:00",
          "2024-01-02T00:00:00",
          "2024-01-02T00:00:00",
          "2024-01-09T00:00:00",
          "2024-01-11T00:00:00",
          "2024-01-16T00:00:00",
          "2024-01-16T00:00:00",
          "2024-01-23T00:00:00",
          "2024-01-23T00:00:00",
          "2024-01-30T00:00:00",
          "2024-01-30T00:00:00",
          "2024-02-06T00:00:00",
          "2024-02-06T00:00:00",
          "2024-02-13T00:00:00",
          "2024-02-13T00:00:00",
          "2024-02-20T00:00:00",
          "2024-02-20T00:00:00",
          "2024-02-27T00:00:00",
          "2024-02-27T00:00:00",
          "2024-03-05T00:00:00",
          "2024-03-05T00:00:00",
          "2024-03-12T00:00:00",
          "2024-03-12T00:00:00",
          "2024-03-19T00:00:00",
          "2024-03-19T00:00:00",
          "2024-03-26T00:00:00",
          "2024-03-26T00:00:00",
          "2024-04-02T00:00:00",
          "2024-04-02T00:00:00",
          "2024-04-09T00:00:00",
          "2024-04-09T00:00:00",
          "2024-04-16T00:00:00",
          "2024-04-16T00:00:00",
          "2024-04-23T00:00:00",
          "2024-04-23T00:00:00",
          "2024-04-30T00:00:00",
          "2024-04-30T00:00:00",
          "2024-05-07T00:00:00",
          "2024-05-07T00:00:00",
          "2024-05-14T00:00:00",
          "2024-05-14T00:00:00",
          "2024-05-21T00:00:00",
          "2024-05-21T00:00:00",
          "2024-05-28T00:00:00",
          "2024-05-28T00:00:00",
          "2024-06-04T00:00:00",
          "2024-06-04T00:00:00",
          "2024-06-11T00:00:00",
          "2024-06-11T00:00:00",
          "2024-06-18T00:00:00",
          "2024-06-18T00:00:00",
          "2024-06-25T00:00:00",
          "2024-06-25T00:00:00",
          "2024-07-02T00:00:00",
          "2024-07-02T00:00:00",
          "2024-07-09T00:00:00",
          "2024-07-09T00:00:00"
         ],
         "xaxis": "x",
         "y": [
          2531.4113636363636,
          2458.956818181818,
          2310.9857035364935,
          2246.9175455417067,
          2251.0216417910447,
          2310.4688498402556,
          2304.532786885246,
          2254.0629557608167,
          2237.440770557792,
          2285.6295979469633,
          2319.3892045454545,
          2249.6914952751526,
          2306.120991253644,
          2290.2759472817133,
          2265.735754985755,
          2288.9938220757826,
          2289.2230715774845,
          2284.7862595419847,
          2190.505128205128,
          2353.784178847807,
          2258.9839846252403,
          2319.941972920696,
          2308.074182732607,
          2257.2506188118814,
          2265.5414181577203,
          2308.7337180544105,
          2262.0752757949385,
          2305.185239491691,
          2254.7045594577944,
          2311.060810810811,
          2448.0602272727274,
          2432.5670454545457,
          2291.874661857529,
          2260.014488286067,
          2349.390482398957,
          2357.207189542484,
          2426.3534090909093,
          2407.9513618677042,
          2408.004555808656,
          2349.2407894736843,
          2306.185740236149,
          2281.4866369710467,
          2262.926422498365,
          2310.284843205575,
          2436.8056818181817,
          2346.686111111111,
          2321.099346405229,
          2295.4043927648577,
          2413.659090909091,
          2410.9022727272727,
          2245.7875838926175,
          2416.825,
          2243.366666666667,
          2217.7099056603774,
          2428.3420454545453,
          2406.089285714286,
          2410.0488636363634,
          2494.7,
          2445.640909090909,
          2362.0528846153848,
          2229.7711377870564,
          2486.869696969697,
          2484.819696969697,
          2293.489981214778,
          2320.0685087055263,
          2282.3909935668335,
          2488.1318181818183,
          2285.465909090909,
          2326.253569539926,
          2363.579296424452,
          2295.848705501618,
          2305.172788605697,
          2290.9344809866393,
          2315.289454277286,
          2317.826171875,
          2278.5635068153656,
          2292.7651515151515,
          2327.8491411501122,
          2305.6955104996377,
          2310.8041280539173,
          2328.3198113207545,
          2295.799763033175,
          2262.1138975966564,
          2319.3433460076044,
          2250.4162484316184,
          2247.0882117080996,
          2306.085622710623,
          2289.499718151071,
          2285.6986834230997,
          2298.897451705713,
          2280.4774746192893,
          2300.6854521625164,
          2316.5492227979275,
          2303.7212238950947,
          2289.498387839705,
          2296.1842581423402,
          2294.833792154164,
          2287.897696476965,
          2259.820655534941,
          2288.5360949612405,
          2311.5174739423665,
          2297.07511627907,
          2276.215587529976,
          2299.5029744199883,
          2323.0384083044983,
          2317.697998259356,
          2316.4607893388006,
          2324.63496751329,
          2304.400468384075,
          2307.045632333768,
          2322.017217146873,
          2289.242234468938,
          1948.7465237543454,
          2301.3244541484714,
          2285.816425120773,
          2310.2169459962756,
          2303.5165083672546,
          1916.6126259632483,
          1988.8357810413886,
          1986.0753739930956,
          2285.477408142999,
          2305.2449494949497,
          2307.419113413932,
          2304.8246725813265,
          2236.621155638397,
          2272.091617409995,
          2276.161197916667,
          2304.6867048346057,
          2272.3161652218255,
          2315.412935323383,
          2319.217366946779,
          2285.913391224863,
          2304.685002895194,
          2284.8487957181087,
          2549.1597481343283,
          2542.8034238488785,
          2525.2261118450024,
          2523.5277129521587,
          2520.5207015526166,
          2509.177244945933,
          2520.768147086915,
          2519.4665714285716,
          2523.8111390284757,
          2523.134646962233,
          2520.636382280558,
          2507.408073070124,
          2525.9002375296914,
          2520.581328751432,
          2526.3002242152465,
          2528.882932840419,
          2533.33505794702,
          2537.5721649484535,
          2544.604623824451,
          2543.3311484006294,
          2555.1105636578636,
          2534.37367835281,
          2536.698154180239,
          2547.8280885780887,
          2531.067073170732,
          2532.977489177489,
          2532.7344311377246,
          2518.364359214219,
          2523.4288235294116,
          2528.49343832021,
          2543.951051051051,
          2534.0745689655173,
          2520.689024390244,
          2523.6095171448565,
          2523.8383116883115,
          2522.709938704028,
          2522.3870882040383,
          2530.003505417463,
          2531.71850132626,
          2546.0819004524888,
          2517.7493548387097,
          2555.8438081936683,
          2311.1419426048565,
          2315.015816655907,
          2521.354916897507,
          2543.5292060880297,
          2544.9481748535377,
          2532.019916765755,
          2545.633349585568,
          2541.6745704467353,
          2247.210697271546,
          2260.166566806471,
          2527.7385350318473,
          2504.67707641196,
          2534.660714285714,
          2531.67081604426,
          2560.2035830618893,
          2554.5934797072523,
          2558.817538896747,
          2542.033469596321,
          2545.4856666666665,
          2560.9431639601885,
          2563.1528185076572,
          2561.225424601132,
          2546.0001471020887,
          2550.7223769730736,
          2548.1381395348835,
          2556.786523929471,
          2549.2893700787404,
          2541.6223241590214,
          2550.8352803738317,
          2553.222305017387,
          2544.6819648619576,
          2549.0908389089036,
          2593.7177608440797,
          2573.9575682382133,
          2569.5678226514488,
          2577.5054655107424,
          2569.170160295931,
          2555.3000992063494,
          2542.9945652173915,
          2537.901081081081,
          2552.480935875217,
          2557.1227443609023,
          2547.4558388765704,
          2554.622077922078,
          2562.1015228426395,
          2563.8300642543118,
          2548.9335992491788,
          2561.3807050092764,
          2567.9750986193294,
          2553.462504359958,
          2563.059585492228,
          2551.8489038785833,
          2565.87291249165,
          2549.3255813953488,
          2541.734238851871,
          2544.434122871947,
          2543.4289841116997,
          2543.23584571833,
          2567.2192832764504,
          2555.4966276180335,
          2557.449590834697,
          2548.0887096774195,
          2560.002841918295,
          2547.5347658136166,
          2557.569721115538,
          2551.4334667333665,
          2530.583080808081,
          2553.9599860821154
         ],
         "yaxis": "y"
        }
       ],
       "layout": {
        "legend": {
         "tracegroupgap": 0
        },
        "template": {
         "data": {
          "bar": [
           {
            "error_x": {
             "color": "#2a3f5f"
            },
            "error_y": {
             "color": "#2a3f5f"
            },
            "marker": {
             "line": {
              "color": "#E5ECF6",
              "width": 0.5
             },
             "pattern": {
              "fillmode": "overlay",
              "size": 10,
              "solidity": 0.2
             }
            },
            "type": "bar"
           }
          ],
          "barpolar": [
           {
            "marker": {
             "line": {
              "color": "#E5ECF6",
              "width": 0.5
             },
             "pattern": {
              "fillmode": "overlay",
              "size": 10,
              "solidity": 0.2
             }
            },
            "type": "barpolar"
           }
          ],
          "carpet": [
           {
            "aaxis": {
             "endlinecolor": "#2a3f5f",
             "gridcolor": "white",
             "linecolor": "white",
             "minorgridcolor": "white",
             "startlinecolor": "#2a3f5f"
            },
            "baxis": {
             "endlinecolor": "#2a3f5f",
             "gridcolor": "white",
             "linecolor": "white",
             "minorgridcolor": "white",
             "startlinecolor": "#2a3f5f"
            },
            "type": "carpet"
           }
          ],
          "choropleth": [
           {
            "colorbar": {
             "outlinewidth": 0,
             "ticks": ""
            },
            "type": "choropleth"
           }
          ],
          "contour": [
           {
            "colorbar": {
             "outlinewidth": 0,
             "ticks": ""
            },
            "colorscale": [
             [
              0,
              "#0d0887"
             ],
             [
              0.1111111111111111,
              "#46039f"
             ],
             [
              0.2222222222222222,
              "#7201a8"
             ],
             [
              0.3333333333333333,
              "#9c179e"
             ],
             [
              0.4444444444444444,
              "#bd3786"
             ],
             [
              0.5555555555555556,
              "#d8576b"
             ],
             [
              0.6666666666666666,
              "#ed7953"
             ],
             [
              0.7777777777777778,
              "#fb9f3a"
             ],
             [
              0.8888888888888888,
              "#fdca26"
             ],
             [
              1,
              "#f0f921"
             ]
            ],
            "type": "contour"
           }
          ],
          "contourcarpet": [
           {
            "colorbar": {
             "outlinewidth": 0,
             "ticks": ""
            },
            "type": "contourcarpet"
           }
          ],
          "heatmap": [
           {
            "colorbar": {
             "outlinewidth": 0,
             "ticks": ""
            },
            "colorscale": [
             [
              0,
              "#0d0887"
             ],
             [
              0.1111111111111111,
              "#46039f"
             ],
             [
              0.2222222222222222,
              "#7201a8"
             ],
             [
              0.3333333333333333,
              "#9c179e"
             ],
             [
              0.4444444444444444,
              "#bd3786"
             ],
             [
              0.5555555555555556,
              "#d8576b"
             ],
             [
              0.6666666666666666,
              "#ed7953"
             ],
             [
              0.7777777777777778,
              "#fb9f3a"
             ],
             [
              0.8888888888888888,
              "#fdca26"
             ],
             [
              1,
              "#f0f921"
             ]
            ],
            "type": "heatmap"
           }
          ],
          "heatmapgl": [
           {
            "colorbar": {
             "outlinewidth": 0,
             "ticks": ""
            },
            "colorscale": [
             [
              0,
              "#0d0887"
             ],
             [
              0.1111111111111111,
              "#46039f"
             ],
             [
              0.2222222222222222,
              "#7201a8"
             ],
             [
              0.3333333333333333,
              "#9c179e"
             ],
             [
              0.4444444444444444,
              "#bd3786"
             ],
             [
              0.5555555555555556,
              "#d8576b"
             ],
             [
              0.6666666666666666,
              "#ed7953"
             ],
             [
              0.7777777777777778,
              "#fb9f3a"
             ],
             [
              0.8888888888888888,
              "#fdca26"
             ],
             [
              1,
              "#f0f921"
             ]
            ],
            "type": "heatmapgl"
           }
          ],
          "histogram": [
           {
            "marker": {
             "pattern": {
              "fillmode": "overlay",
              "size": 10,
              "solidity": 0.2
             }
            },
            "type": "histogram"
           }
          ],
          "histogram2d": [
           {
            "colorbar": {
             "outlinewidth": 0,
             "ticks": ""
            },
            "colorscale": [
             [
              0,
              "#0d0887"
             ],
             [
              0.1111111111111111,
              "#46039f"
             ],
             [
              0.2222222222222222,
              "#7201a8"
             ],
             [
              0.3333333333333333,
              "#9c179e"
             ],
             [
              0.4444444444444444,
              "#bd3786"
             ],
             [
              0.5555555555555556,
              "#d8576b"
             ],
             [
              0.6666666666666666,
              "#ed7953"
             ],
             [
              0.7777777777777778,
              "#fb9f3a"
             ],
             [
              0.8888888888888888,
              "#fdca26"
             ],
             [
              1,
              "#f0f921"
             ]
            ],
            "type": "histogram2d"
           }
          ],
          "histogram2dcontour": [
           {
            "colorbar": {
             "outlinewidth": 0,
             "ticks": ""
            },
            "colorscale": [
             [
              0,
              "#0d0887"
             ],
             [
              0.1111111111111111,
              "#46039f"
             ],
             [
              0.2222222222222222,
              "#7201a8"
             ],
             [
              0.3333333333333333,
              "#9c179e"
             ],
             [
              0.4444444444444444,
              "#bd3786"
             ],
             [
              0.5555555555555556,
              "#d8576b"
             ],
             [
              0.6666666666666666,
              "#ed7953"
             ],
             [
              0.7777777777777778,
              "#fb9f3a"
             ],
             [
              0.8888888888888888,
              "#fdca26"
             ],
             [
              1,
              "#f0f921"
             ]
            ],
            "type": "histogram2dcontour"
           }
          ],
          "mesh3d": [
           {
            "colorbar": {
             "outlinewidth": 0,
             "ticks": ""
            },
            "type": "mesh3d"
           }
          ],
          "parcoords": [
           {
            "line": {
             "colorbar": {
              "outlinewidth": 0,
              "ticks": ""
             }
            },
            "type": "parcoords"
           }
          ],
          "pie": [
           {
            "automargin": true,
            "type": "pie"
           }
          ],
          "scatter": [
           {
            "fillpattern": {
             "fillmode": "overlay",
             "size": 10,
             "solidity": 0.2
            },
            "type": "scatter"
           }
          ],
          "scatter3d": [
           {
            "line": {
             "colorbar": {
              "outlinewidth": 0,
              "ticks": ""
             }
            },
            "marker": {
             "colorbar": {
              "outlinewidth": 0,
              "ticks": ""
             }
            },
            "type": "scatter3d"
           }
          ],
          "scattercarpet": [
           {
            "marker": {
             "colorbar": {
              "outlinewidth": 0,
              "ticks": ""
             }
            },
            "type": "scattercarpet"
           }
          ],
          "scattergeo": [
           {
            "marker": {
             "colorbar": {
              "outlinewidth": 0,
              "ticks": ""
             }
            },
            "type": "scattergeo"
           }
          ],
          "scattergl": [
           {
            "marker": {
             "colorbar": {
              "outlinewidth": 0,
              "ticks": ""
             }
            },
            "type": "scattergl"
           }
          ],
          "scattermapbox": [
           {
            "marker": {
             "colorbar": {
              "outlinewidth": 0,
              "ticks": ""
             }
            },
            "type": "scattermapbox"
           }
          ],
          "scatterpolar": [
           {
            "marker": {
             "colorbar": {
              "outlinewidth": 0,
              "ticks": ""
             }
            },
            "type": "scatterpolar"
           }
          ],
          "scatterpolargl": [
           {
            "marker": {
             "colorbar": {
              "outlinewidth": 0,
              "ticks": ""
             }
            },
            "type": "scatterpolargl"
           }
          ],
          "scatterternary": [
           {
            "marker": {
             "colorbar": {
              "outlinewidth": 0,
              "ticks": ""
             }
            },
            "type": "scatterternary"
           }
          ],
          "surface": [
           {
            "colorbar": {
             "outlinewidth": 0,
             "ticks": ""
            },
            "colorscale": [
             [
              0,
              "#0d0887"
             ],
             [
              0.1111111111111111,
              "#46039f"
             ],
             [
              0.2222222222222222,
              "#7201a8"
             ],
             [
              0.3333333333333333,
              "#9c179e"
             ],
             [
              0.4444444444444444,
              "#bd3786"
             ],
             [
              0.5555555555555556,
              "#d8576b"
             ],
             [
              0.6666666666666666,
              "#ed7953"
             ],
             [
              0.7777777777777778,
              "#fb9f3a"
             ],
             [
              0.8888888888888888,
              "#fdca26"
             ],
             [
              1,
              "#f0f921"
             ]
            ],
            "type": "surface"
           }
          ],
          "table": [
           {
            "cells": {
             "fill": {
              "color": "#EBF0F8"
             },
             "line": {
              "color": "white"
             }
            },
            "header": {
             "fill": {
              "color": "#C8D4E3"
             },
             "line": {
              "color": "white"
             }
            },
            "type": "table"
           }
          ]
         },
         "layout": {
          "annotationdefaults": {
           "arrowcolor": "#2a3f5f",
           "arrowhead": 0,
           "arrowwidth": 1
          },
          "autotypenumbers": "strict",
          "coloraxis": {
           "colorbar": {
            "outlinewidth": 0,
            "ticks": ""
           }
          },
          "colorscale": {
           "diverging": [
            [
             0,
             "#8e0152"
            ],
            [
             0.1,
             "#c51b7d"
            ],
            [
             0.2,
             "#de77ae"
            ],
            [
             0.3,
             "#f1b6da"
            ],
            [
             0.4,
             "#fde0ef"
            ],
            [
             0.5,
             "#f7f7f7"
            ],
            [
             0.6,
             "#e6f5d0"
            ],
            [
             0.7,
             "#b8e186"
            ],
            [
             0.8,
             "#7fbc41"
            ],
            [
             0.9,
             "#4d9221"
            ],
            [
             1,
             "#276419"
            ]
           ],
           "sequential": [
            [
             0,
             "#0d0887"
            ],
            [
             0.1111111111111111,
             "#46039f"
            ],
            [
             0.2222222222222222,
             "#7201a8"
            ],
            [
             0.3333333333333333,
             "#9c179e"
            ],
            [
             0.4444444444444444,
             "#bd3786"
            ],
            [
             0.5555555555555556,
             "#d8576b"
            ],
            [
             0.6666666666666666,
             "#ed7953"
            ],
            [
             0.7777777777777778,
             "#fb9f3a"
            ],
            [
             0.8888888888888888,
             "#fdca26"
            ],
            [
             1,
             "#f0f921"
            ]
           ],
           "sequentialminus": [
            [
             0,
             "#0d0887"
            ],
            [
             0.1111111111111111,
             "#46039f"
            ],
            [
             0.2222222222222222,
             "#7201a8"
            ],
            [
             0.3333333333333333,
             "#9c179e"
            ],
            [
             0.4444444444444444,
             "#bd3786"
            ],
            [
             0.5555555555555556,
             "#d8576b"
            ],
            [
             0.6666666666666666,
             "#ed7953"
            ],
            [
             0.7777777777777778,
             "#fb9f3a"
            ],
            [
             0.8888888888888888,
             "#fdca26"
            ],
            [
             1,
             "#f0f921"
            ]
           ]
          },
          "colorway": [
           "#636efa",
           "#EF553B",
           "#00cc96",
           "#ab63fa",
           "#FFA15A",
           "#19d3f3",
           "#FF6692",
           "#B6E880",
           "#FF97FF",
           "#FECB52"
          ],
          "font": {
           "color": "#2a3f5f"
          },
          "geo": {
           "bgcolor": "white",
           "lakecolor": "white",
           "landcolor": "#E5ECF6",
           "showlakes": true,
           "showland": true,
           "subunitcolor": "white"
          },
          "hoverlabel": {
           "align": "left"
          },
          "hovermode": "closest",
          "mapbox": {
           "style": "light"
          },
          "paper_bgcolor": "white",
          "plot_bgcolor": "#E5ECF6",
          "polar": {
           "angularaxis": {
            "gridcolor": "white",
            "linecolor": "white",
            "ticks": ""
           },
           "bgcolor": "#E5ECF6",
           "radialaxis": {
            "gridcolor": "white",
            "linecolor": "white",
            "ticks": ""
           }
          },
          "scene": {
           "xaxis": {
            "backgroundcolor": "#E5ECF6",
            "gridcolor": "white",
            "gridwidth": 2,
            "linecolor": "white",
            "showbackground": true,
            "ticks": "",
            "zerolinecolor": "white"
           },
           "yaxis": {
            "backgroundcolor": "#E5ECF6",
            "gridcolor": "white",
            "gridwidth": 2,
            "linecolor": "white",
            "showbackground": true,
            "ticks": "",
            "zerolinecolor": "white"
           },
           "zaxis": {
            "backgroundcolor": "#E5ECF6",
            "gridcolor": "white",
            "gridwidth": 2,
            "linecolor": "white",
            "showbackground": true,
            "ticks": "",
            "zerolinecolor": "white"
           }
          },
          "shapedefaults": {
           "line": {
            "color": "#2a3f5f"
           }
          },
          "ternary": {
           "aaxis": {
            "gridcolor": "white",
            "linecolor": "white",
            "ticks": ""
           },
           "baxis": {
            "gridcolor": "white",
            "linecolor": "white",
            "ticks": ""
           },
           "bgcolor": "#E5ECF6",
           "caxis": {
            "gridcolor": "white",
            "linecolor": "white",
            "ticks": ""
           }
          },
          "title": {
           "x": 0.05
          },
          "xaxis": {
           "automargin": true,
           "gridcolor": "white",
           "linecolor": "white",
           "ticks": "",
           "title": {
            "standoff": 15
           },
           "zerolinecolor": "white",
           "zerolinewidth": 2
          },
          "yaxis": {
           "automargin": true,
           "gridcolor": "white",
           "linecolor": "white",
           "ticks": "",
           "title": {
            "standoff": 15
           },
           "zerolinecolor": "white",
           "zerolinewidth": 2
          }
         }
        },
        "title": {
         "text": "Average elos over time for the Titled Tuesday Editions in the 2022 Double Elimination era. Note: Y Axis does not start at 0"
        },
        "xaxis": {
         "anchor": "y",
         "domain": [
          0,
          1
         ],
         "title": {
          "text": "Date"
         }
        },
        "yaxis": {
         "anchor": "x",
         "domain": [
          0,
          1
         ],
         "title": {
          "text": "Average Elos"
         }
        }
       }
      },
      "text/html": [
       "<div>                            <div id=\"1beeaca3-51b6-4a29-af6a-880cae4ea0ce\" class=\"plotly-graph-div\" style=\"height:525px; width:100%;\"></div>            <script type=\"text/javascript\">                require([\"plotly\"], function(Plotly) {                    window.PLOTLYENV=window.PLOTLYENV || {};                                    if (document.getElementById(\"1beeaca3-51b6-4a29-af6a-880cae4ea0ce\")) {                    Plotly.newPlot(                        \"1beeaca3-51b6-4a29-af6a-880cae4ea0ce\",                        [{\"hovertemplate\":\"Date=%{x}\\u003cbr\\u003eAverage Elos=%{y}\\u003cextra\\u003e\\u003c\\u002fextra\\u003e\",\"legendgroup\":\"\",\"line\":{\"color\":\"#636efa\",\"dash\":\"solid\"},\"marker\":{\"symbol\":\"circle\"},\"mode\":\"lines\",\"name\":\"\",\"orientation\":\"v\",\"showlegend\":false,\"x\":[\"2022-02-01T00:00:00\",\"2022-02-01T00:00:00\",\"2022-02-08T00:00:00\",\"2022-02-08T00:00:00\",\"2022-02-15T00:00:00\",\"2022-02-15T00:00:00\",\"2022-02-22T00:00:00\",\"2022-02-22T00:00:00\",\"2022-03-01T00:00:00\",\"2022-03-01T00:00:00\",\"2022-03-08T00:00:00\",\"2022-03-09T00:00:00\",\"2022-03-15T00:00:00\",\"2022-03-16T00:00:00\",\"2022-03-22T00:00:00\",\"2022-03-22T00:00:00\",\"2022-03-29T00:00:00\",\"2022-03-29T00:00:00\",\"2022-04-05T00:00:00\",\"2022-04-06T00:00:00\",\"2022-04-12T00:00:00\",\"2022-04-13T00:00:00\",\"2022-04-19T00:00:00\",\"2022-04-19T00:00:00\",\"2022-04-26T00:00:00\",\"2022-04-26T00:00:00\",\"2022-05-03T00:00:00\",\"2022-05-03T00:00:00\",\"2022-05-10T00:00:00\",\"2022-05-10T00:00:00\",\"2022-05-17T00:00:00\",\"2022-05-17T00:00:00\",\"2022-05-24T00:00:00\",\"2022-05-25T00:00:00\",\"2022-06-01T00:00:00\",\"2022-06-01T00:00:00\",\"2022-06-07T00:00:00\",\"2022-06-08T00:00:00\",\"2022-06-14T00:00:00\",\"2022-06-15T00:00:00\",\"2022-06-22T00:00:00\",\"2022-06-22T00:00:00\",\"2022-06-28T00:00:00\",\"2022-06-28T00:00:00\",\"2022-07-05T00:00:00\",\"2022-07-05T00:00:00\",\"2022-07-26T00:00:00\",\"2022-07-27T00:00:00\",\"2022-08-02T00:00:00\",\"2022-08-02T00:00:00\",\"2022-08-09T00:00:00\",\"2022-08-09T00:00:00\",\"2022-08-16T00:00:00\",\"2022-08-16T00:00:00\",\"2022-08-23T00:00:00\",\"2022-08-23T00:00:00\",\"2022-09-13T00:00:00\",\"2022-09-13T00:00:00\",\"2022-09-20T00:00:00\",\"2022-09-27T00:00:00\",\"2022-09-27T00:00:00\",\"2022-10-04T00:00:00\",\"2022-10-04T00:00:00\",\"2022-10-11T00:00:00\",\"2022-10-12T00:00:00\",\"2022-10-18T00:00:00\",\"2022-10-25T00:00:00\",\"2022-10-26T00:00:00\",\"2022-11-02T00:00:00\",\"2022-11-02T00:00:00\",\"2022-11-08T00:00:00\",\"2022-11-09T00:00:00\",\"2022-11-16T00:00:00\",\"2022-11-16T00:00:00\",\"2022-11-22T00:00:00\",\"2022-11-23T00:00:00\",\"2022-11-30T00:00:00\",\"2022-11-30T00:00:00\",\"2022-12-06T00:00:00\",\"2022-12-07T00:00:00\",\"2022-12-13T00:00:00\",\"2022-12-14T00:00:00\",\"2022-12-20T00:00:00\",\"2022-12-21T00:00:00\",\"2022-12-27T00:00:00\",\"2022-12-27T00:00:00\",\"2023-01-03T00:00:00\",\"2023-01-03T00:00:00\",\"2023-01-10T00:00:00\",\"2023-01-10T00:00:00\",\"2023-01-17T00:00:00\",\"2023-01-17T00:00:00\",\"2023-01-31T00:00:00\",\"2023-01-31T00:00:00\",\"2023-02-07T00:00:00\",\"2023-02-07T00:00:00\",\"2023-02-14T00:00:00\",\"2023-02-15T00:00:00\",\"2023-02-21T00:00:00\",\"2023-02-21T00:00:00\",\"2023-02-28T00:00:00\",\"2023-02-28T00:00:00\",\"2023-03-07T00:00:00\",\"2023-03-07T00:00:00\",\"2023-03-14T00:00:00\",\"2023-03-14T00:00:00\",\"2023-03-21T00:00:00\",\"2023-03-21T00:00:00\",\"2023-03-28T00:00:00\",\"2023-03-28T00:00:00\",\"2023-04-04T00:00:00\",\"2023-04-04T00:00:00\",\"2023-04-11T00:00:00\",\"2023-04-11T00:00:00\",\"2023-04-18T00:00:00\",\"2023-04-18T00:00:00\",\"2023-04-25T00:00:00\",\"2023-04-25T00:00:00\",\"2023-05-02T00:00:00\",\"2023-05-02T00:00:00\",\"2023-05-09T00:00:00\",\"2023-05-09T00:00:00\",\"2023-05-16T00:00:00\",\"2023-05-16T00:00:00\",\"2023-05-23T00:00:00\",\"2023-05-23T00:00:00\",\"2023-05-30T00:00:00\",\"2023-05-31T00:00:00\",\"2023-06-06T00:00:00\",\"2023-06-07T00:00:00\",\"2023-06-13T00:00:00\",\"2023-06-13T00:00:00\",\"2023-06-20T00:00:00\",\"2023-06-20T00:00:00\",\"2023-06-27T00:00:00\",\"2023-06-27T00:00:00\",\"2023-07-04T00:00:00\",\"2023-07-04T00:00:00\",\"2023-07-11T00:00:00\",\"2023-07-11T00:00:00\",\"2023-07-18T00:00:00\",\"2023-07-18T00:00:00\",\"2023-07-25T00:00:00\",\"2023-07-25T00:00:00\",\"2023-08-01T00:00:00\",\"2023-08-01T00:00:00\",\"2023-08-08T00:00:00\",\"2023-08-08T00:00:00\",\"2023-08-15T00:00:00\",\"2023-08-15T00:00:00\",\"2023-08-22T00:00:00\",\"2023-08-22T00:00:00\",\"2023-08-29T00:00:00\",\"2023-08-29T00:00:00\",\"2023-09-05T00:00:00\",\"2023-09-05T00:00:00\",\"2023-09-12T00:00:00\",\"2023-09-12T00:00:00\",\"2023-09-19T00:00:00\",\"2023-09-19T00:00:00\",\"2023-09-26T00:00:00\",\"2023-09-26T00:00:00\",\"2023-10-03T00:00:00\",\"2023-10-03T00:00:00\",\"2023-10-10T00:00:00\",\"2023-10-10T00:00:00\",\"2023-10-17T00:00:00\",\"2023-10-17T00:00:00\",\"2023-10-24T00:00:00\",\"2023-10-24T00:00:00\",\"2023-10-31T00:00:00\",\"2023-10-31T00:00:00\",\"2023-11-07T00:00:00\",\"2023-11-07T00:00:00\",\"2023-11-14T00:00:00\",\"2023-11-14T00:00:00\",\"2023-11-21T00:00:00\",\"2023-11-21T00:00:00\",\"2023-11-28T00:00:00\",\"2023-11-28T00:00:00\",\"2023-12-05T00:00:00\",\"2023-12-05T00:00:00\",\"2023-12-12T00:00:00\",\"2023-12-12T00:00:00\",\"2023-12-19T00:00:00\",\"2023-12-19T00:00:00\",\"2023-12-26T00:00:00\",\"2023-12-26T00:00:00\",\"2024-01-02T00:00:00\",\"2024-01-02T00:00:00\",\"2024-01-09T00:00:00\",\"2024-01-11T00:00:00\",\"2024-01-16T00:00:00\",\"2024-01-16T00:00:00\",\"2024-01-23T00:00:00\",\"2024-01-23T00:00:00\",\"2024-01-30T00:00:00\",\"2024-01-30T00:00:00\",\"2024-02-06T00:00:00\",\"2024-02-06T00:00:00\",\"2024-02-13T00:00:00\",\"2024-02-13T00:00:00\",\"2024-02-20T00:00:00\",\"2024-02-20T00:00:00\",\"2024-02-27T00:00:00\",\"2024-02-27T00:00:00\",\"2024-03-05T00:00:00\",\"2024-03-05T00:00:00\",\"2024-03-12T00:00:00\",\"2024-03-12T00:00:00\",\"2024-03-19T00:00:00\",\"2024-03-19T00:00:00\",\"2024-03-26T00:00:00\",\"2024-03-26T00:00:00\",\"2024-04-02T00:00:00\",\"2024-04-02T00:00:00\",\"2024-04-09T00:00:00\",\"2024-04-09T00:00:00\",\"2024-04-16T00:00:00\",\"2024-04-16T00:00:00\",\"2024-04-23T00:00:00\",\"2024-04-23T00:00:00\",\"2024-04-30T00:00:00\",\"2024-04-30T00:00:00\",\"2024-05-07T00:00:00\",\"2024-05-07T00:00:00\",\"2024-05-14T00:00:00\",\"2024-05-14T00:00:00\",\"2024-05-21T00:00:00\",\"2024-05-21T00:00:00\",\"2024-05-28T00:00:00\",\"2024-05-28T00:00:00\",\"2024-06-04T00:00:00\",\"2024-06-04T00:00:00\",\"2024-06-11T00:00:00\",\"2024-06-11T00:00:00\",\"2024-06-18T00:00:00\",\"2024-06-18T00:00:00\",\"2024-06-25T00:00:00\",\"2024-06-25T00:00:00\",\"2024-07-02T00:00:00\",\"2024-07-02T00:00:00\",\"2024-07-09T00:00:00\",\"2024-07-09T00:00:00\"],\"xaxis\":\"x\",\"y\":[2531.4113636363636,2458.956818181818,2310.9857035364935,2246.9175455417067,2251.0216417910447,2310.4688498402556,2304.532786885246,2254.0629557608167,2237.440770557792,2285.6295979469633,2319.3892045454545,2249.6914952751526,2306.120991253644,2290.2759472817133,2265.735754985755,2288.9938220757826,2289.2230715774845,2284.7862595419847,2190.505128205128,2353.784178847807,2258.9839846252403,2319.941972920696,2308.074182732607,2257.2506188118814,2265.5414181577203,2308.7337180544105,2262.0752757949385,2305.185239491691,2254.7045594577944,2311.060810810811,2448.0602272727274,2432.5670454545457,2291.874661857529,2260.014488286067,2349.390482398957,2357.207189542484,2426.3534090909093,2407.9513618677042,2408.004555808656,2349.2407894736843,2306.185740236149,2281.4866369710467,2262.926422498365,2310.284843205575,2436.8056818181817,2346.686111111111,2321.099346405229,2295.4043927648577,2413.659090909091,2410.9022727272727,2245.7875838926175,2416.825,2243.366666666667,2217.7099056603774,2428.3420454545453,2406.089285714286,2410.0488636363634,2494.7,2445.640909090909,2362.0528846153848,2229.7711377870564,2486.869696969697,2484.819696969697,2293.489981214778,2320.0685087055263,2282.3909935668335,2488.1318181818183,2285.465909090909,2326.253569539926,2363.579296424452,2295.848705501618,2305.172788605697,2290.9344809866393,2315.289454277286,2317.826171875,2278.5635068153656,2292.7651515151515,2327.8491411501122,2305.6955104996377,2310.8041280539173,2328.3198113207545,2295.799763033175,2262.1138975966564,2319.3433460076044,2250.4162484316184,2247.0882117080996,2306.085622710623,2289.499718151071,2285.6986834230997,2298.897451705713,2280.4774746192893,2300.6854521625164,2316.5492227979275,2303.7212238950947,2289.498387839705,2296.1842581423402,2294.833792154164,2287.897696476965,2259.820655534941,2288.5360949612405,2311.5174739423665,2297.07511627907,2276.215587529976,2299.5029744199883,2323.0384083044983,2317.697998259356,2316.4607893388006,2324.63496751329,2304.400468384075,2307.045632333768,2322.017217146873,2289.242234468938,1948.7465237543454,2301.3244541484714,2285.816425120773,2310.2169459962756,2303.5165083672546,1916.6126259632483,1988.8357810413886,1986.0753739930956,2285.477408142999,2305.2449494949497,2307.419113413932,2304.8246725813265,2236.621155638397,2272.091617409995,2276.161197916667,2304.6867048346057,2272.3161652218255,2315.412935323383,2319.217366946779,2285.913391224863,2304.685002895194,2284.8487957181087,2549.1597481343283,2542.8034238488785,2525.2261118450024,2523.5277129521587,2520.5207015526166,2509.177244945933,2520.768147086915,2519.4665714285716,2523.8111390284757,2523.134646962233,2520.636382280558,2507.408073070124,2525.9002375296914,2520.581328751432,2526.3002242152465,2528.882932840419,2533.33505794702,2537.5721649484535,2544.604623824451,2543.3311484006294,2555.1105636578636,2534.37367835281,2536.698154180239,2547.8280885780887,2531.067073170732,2532.977489177489,2532.7344311377246,2518.364359214219,2523.4288235294116,2528.49343832021,2543.951051051051,2534.0745689655173,2520.689024390244,2523.6095171448565,2523.8383116883115,2522.709938704028,2522.3870882040383,2530.003505417463,2531.71850132626,2546.0819004524888,2517.7493548387097,2555.8438081936683,2311.1419426048565,2315.015816655907,2521.354916897507,2543.5292060880297,2544.9481748535377,2532.019916765755,2545.633349585568,2541.6745704467353,2247.210697271546,2260.166566806471,2527.7385350318473,2504.67707641196,2534.660714285714,2531.67081604426,2560.2035830618893,2554.5934797072523,2558.817538896747,2542.033469596321,2545.4856666666665,2560.9431639601885,2563.1528185076572,2561.225424601132,2546.0001471020887,2550.7223769730736,2548.1381395348835,2556.786523929471,2549.2893700787404,2541.6223241590214,2550.8352803738317,2553.222305017387,2544.6819648619576,2549.0908389089036,2593.7177608440797,2573.9575682382133,2569.5678226514488,2577.5054655107424,2569.170160295931,2555.3000992063494,2542.9945652173915,2537.901081081081,2552.480935875217,2557.1227443609023,2547.4558388765704,2554.622077922078,2562.1015228426395,2563.8300642543118,2548.9335992491788,2561.3807050092764,2567.9750986193294,2553.462504359958,2563.059585492228,2551.8489038785833,2565.87291249165,2549.3255813953488,2541.734238851871,2544.434122871947,2543.4289841116997,2543.23584571833,2567.2192832764504,2555.4966276180335,2557.449590834697,2548.0887096774195,2560.002841918295,2547.5347658136166,2557.569721115538,2551.4334667333665,2530.583080808081,2553.9599860821154],\"yaxis\":\"y\",\"type\":\"scatter\"}],                        {\"template\":{\"data\":{\"histogram2dcontour\":[{\"type\":\"histogram2dcontour\",\"colorbar\":{\"outlinewidth\":0,\"ticks\":\"\"},\"colorscale\":[[0.0,\"#0d0887\"],[0.1111111111111111,\"#46039f\"],[0.2222222222222222,\"#7201a8\"],[0.3333333333333333,\"#9c179e\"],[0.4444444444444444,\"#bd3786\"],[0.5555555555555556,\"#d8576b\"],[0.6666666666666666,\"#ed7953\"],[0.7777777777777778,\"#fb9f3a\"],[0.8888888888888888,\"#fdca26\"],[1.0,\"#f0f921\"]]}],\"choropleth\":[{\"type\":\"choropleth\",\"colorbar\":{\"outlinewidth\":0,\"ticks\":\"\"}}],\"histogram2d\":[{\"type\":\"histogram2d\",\"colorbar\":{\"outlinewidth\":0,\"ticks\":\"\"},\"colorscale\":[[0.0,\"#0d0887\"],[0.1111111111111111,\"#46039f\"],[0.2222222222222222,\"#7201a8\"],[0.3333333333333333,\"#9c179e\"],[0.4444444444444444,\"#bd3786\"],[0.5555555555555556,\"#d8576b\"],[0.6666666666666666,\"#ed7953\"],[0.7777777777777778,\"#fb9f3a\"],[0.8888888888888888,\"#fdca26\"],[1.0,\"#f0f921\"]]}],\"heatmap\":[{\"type\":\"heatmap\",\"colorbar\":{\"outlinewidth\":0,\"ticks\":\"\"},\"colorscale\":[[0.0,\"#0d0887\"],[0.1111111111111111,\"#46039f\"],[0.2222222222222222,\"#7201a8\"],[0.3333333333333333,\"#9c179e\"],[0.4444444444444444,\"#bd3786\"],[0.5555555555555556,\"#d8576b\"],[0.6666666666666666,\"#ed7953\"],[0.7777777777777778,\"#fb9f3a\"],[0.8888888888888888,\"#fdca26\"],[1.0,\"#f0f921\"]]}],\"heatmapgl\":[{\"type\":\"heatmapgl\",\"colorbar\":{\"outlinewidth\":0,\"ticks\":\"\"},\"colorscale\":[[0.0,\"#0d0887\"],[0.1111111111111111,\"#46039f\"],[0.2222222222222222,\"#7201a8\"],[0.3333333333333333,\"#9c179e\"],[0.4444444444444444,\"#bd3786\"],[0.5555555555555556,\"#d8576b\"],[0.6666666666666666,\"#ed7953\"],[0.7777777777777778,\"#fb9f3a\"],[0.8888888888888888,\"#fdca26\"],[1.0,\"#f0f921\"]]}],\"contourcarpet\":[{\"type\":\"contourcarpet\",\"colorbar\":{\"outlinewidth\":0,\"ticks\":\"\"}}],\"contour\":[{\"type\":\"contour\",\"colorbar\":{\"outlinewidth\":0,\"ticks\":\"\"},\"colorscale\":[[0.0,\"#0d0887\"],[0.1111111111111111,\"#46039f\"],[0.2222222222222222,\"#7201a8\"],[0.3333333333333333,\"#9c179e\"],[0.4444444444444444,\"#bd3786\"],[0.5555555555555556,\"#d8576b\"],[0.6666666666666666,\"#ed7953\"],[0.7777777777777778,\"#fb9f3a\"],[0.8888888888888888,\"#fdca26\"],[1.0,\"#f0f921\"]]}],\"surface\":[{\"type\":\"surface\",\"colorbar\":{\"outlinewidth\":0,\"ticks\":\"\"},\"colorscale\":[[0.0,\"#0d0887\"],[0.1111111111111111,\"#46039f\"],[0.2222222222222222,\"#7201a8\"],[0.3333333333333333,\"#9c179e\"],[0.4444444444444444,\"#bd3786\"],[0.5555555555555556,\"#d8576b\"],[0.6666666666666666,\"#ed7953\"],[0.7777777777777778,\"#fb9f3a\"],[0.8888888888888888,\"#fdca26\"],[1.0,\"#f0f921\"]]}],\"mesh3d\":[{\"type\":\"mesh3d\",\"colorbar\":{\"outlinewidth\":0,\"ticks\":\"\"}}],\"scatter\":[{\"fillpattern\":{\"fillmode\":\"overlay\",\"size\":10,\"solidity\":0.2},\"type\":\"scatter\"}],\"parcoords\":[{\"type\":\"parcoords\",\"line\":{\"colorbar\":{\"outlinewidth\":0,\"ticks\":\"\"}}}],\"scatterpolargl\":[{\"type\":\"scatterpolargl\",\"marker\":{\"colorbar\":{\"outlinewidth\":0,\"ticks\":\"\"}}}],\"bar\":[{\"error_x\":{\"color\":\"#2a3f5f\"},\"error_y\":{\"color\":\"#2a3f5f\"},\"marker\":{\"line\":{\"color\":\"#E5ECF6\",\"width\":0.5},\"pattern\":{\"fillmode\":\"overlay\",\"size\":10,\"solidity\":0.2}},\"type\":\"bar\"}],\"scattergeo\":[{\"type\":\"scattergeo\",\"marker\":{\"colorbar\":{\"outlinewidth\":0,\"ticks\":\"\"}}}],\"scatterpolar\":[{\"type\":\"scatterpolar\",\"marker\":{\"colorbar\":{\"outlinewidth\":0,\"ticks\":\"\"}}}],\"histogram\":[{\"marker\":{\"pattern\":{\"fillmode\":\"overlay\",\"size\":10,\"solidity\":0.2}},\"type\":\"histogram\"}],\"scattergl\":[{\"type\":\"scattergl\",\"marker\":{\"colorbar\":{\"outlinewidth\":0,\"ticks\":\"\"}}}],\"scatter3d\":[{\"type\":\"scatter3d\",\"line\":{\"colorbar\":{\"outlinewidth\":0,\"ticks\":\"\"}},\"marker\":{\"colorbar\":{\"outlinewidth\":0,\"ticks\":\"\"}}}],\"scattermapbox\":[{\"type\":\"scattermapbox\",\"marker\":{\"colorbar\":{\"outlinewidth\":0,\"ticks\":\"\"}}}],\"scatterternary\":[{\"type\":\"scatterternary\",\"marker\":{\"colorbar\":{\"outlinewidth\":0,\"ticks\":\"\"}}}],\"scattercarpet\":[{\"type\":\"scattercarpet\",\"marker\":{\"colorbar\":{\"outlinewidth\":0,\"ticks\":\"\"}}}],\"carpet\":[{\"aaxis\":{\"endlinecolor\":\"#2a3f5f\",\"gridcolor\":\"white\",\"linecolor\":\"white\",\"minorgridcolor\":\"white\",\"startlinecolor\":\"#2a3f5f\"},\"baxis\":{\"endlinecolor\":\"#2a3f5f\",\"gridcolor\":\"white\",\"linecolor\":\"white\",\"minorgridcolor\":\"white\",\"startlinecolor\":\"#2a3f5f\"},\"type\":\"carpet\"}],\"table\":[{\"cells\":{\"fill\":{\"color\":\"#EBF0F8\"},\"line\":{\"color\":\"white\"}},\"header\":{\"fill\":{\"color\":\"#C8D4E3\"},\"line\":{\"color\":\"white\"}},\"type\":\"table\"}],\"barpolar\":[{\"marker\":{\"line\":{\"color\":\"#E5ECF6\",\"width\":0.5},\"pattern\":{\"fillmode\":\"overlay\",\"size\":10,\"solidity\":0.2}},\"type\":\"barpolar\"}],\"pie\":[{\"automargin\":true,\"type\":\"pie\"}]},\"layout\":{\"autotypenumbers\":\"strict\",\"colorway\":[\"#636efa\",\"#EF553B\",\"#00cc96\",\"#ab63fa\",\"#FFA15A\",\"#19d3f3\",\"#FF6692\",\"#B6E880\",\"#FF97FF\",\"#FECB52\"],\"font\":{\"color\":\"#2a3f5f\"},\"hovermode\":\"closest\",\"hoverlabel\":{\"align\":\"left\"},\"paper_bgcolor\":\"white\",\"plot_bgcolor\":\"#E5ECF6\",\"polar\":{\"bgcolor\":\"#E5ECF6\",\"angularaxis\":{\"gridcolor\":\"white\",\"linecolor\":\"white\",\"ticks\":\"\"},\"radialaxis\":{\"gridcolor\":\"white\",\"linecolor\":\"white\",\"ticks\":\"\"}},\"ternary\":{\"bgcolor\":\"#E5ECF6\",\"aaxis\":{\"gridcolor\":\"white\",\"linecolor\":\"white\",\"ticks\":\"\"},\"baxis\":{\"gridcolor\":\"white\",\"linecolor\":\"white\",\"ticks\":\"\"},\"caxis\":{\"gridcolor\":\"white\",\"linecolor\":\"white\",\"ticks\":\"\"}},\"coloraxis\":{\"colorbar\":{\"outlinewidth\":0,\"ticks\":\"\"}},\"colorscale\":{\"sequential\":[[0.0,\"#0d0887\"],[0.1111111111111111,\"#46039f\"],[0.2222222222222222,\"#7201a8\"],[0.3333333333333333,\"#9c179e\"],[0.4444444444444444,\"#bd3786\"],[0.5555555555555556,\"#d8576b\"],[0.6666666666666666,\"#ed7953\"],[0.7777777777777778,\"#fb9f3a\"],[0.8888888888888888,\"#fdca26\"],[1.0,\"#f0f921\"]],\"sequentialminus\":[[0.0,\"#0d0887\"],[0.1111111111111111,\"#46039f\"],[0.2222222222222222,\"#7201a8\"],[0.3333333333333333,\"#9c179e\"],[0.4444444444444444,\"#bd3786\"],[0.5555555555555556,\"#d8576b\"],[0.6666666666666666,\"#ed7953\"],[0.7777777777777778,\"#fb9f3a\"],[0.8888888888888888,\"#fdca26\"],[1.0,\"#f0f921\"]],\"diverging\":[[0,\"#8e0152\"],[0.1,\"#c51b7d\"],[0.2,\"#de77ae\"],[0.3,\"#f1b6da\"],[0.4,\"#fde0ef\"],[0.5,\"#f7f7f7\"],[0.6,\"#e6f5d0\"],[0.7,\"#b8e186\"],[0.8,\"#7fbc41\"],[0.9,\"#4d9221\"],[1,\"#276419\"]]},\"xaxis\":{\"gridcolor\":\"white\",\"linecolor\":\"white\",\"ticks\":\"\",\"title\":{\"standoff\":15},\"zerolinecolor\":\"white\",\"automargin\":true,\"zerolinewidth\":2},\"yaxis\":{\"gridcolor\":\"white\",\"linecolor\":\"white\",\"ticks\":\"\",\"title\":{\"standoff\":15},\"zerolinecolor\":\"white\",\"automargin\":true,\"zerolinewidth\":2},\"scene\":{\"xaxis\":{\"backgroundcolor\":\"#E5ECF6\",\"gridcolor\":\"white\",\"linecolor\":\"white\",\"showbackground\":true,\"ticks\":\"\",\"zerolinecolor\":\"white\",\"gridwidth\":2},\"yaxis\":{\"backgroundcolor\":\"#E5ECF6\",\"gridcolor\":\"white\",\"linecolor\":\"white\",\"showbackground\":true,\"ticks\":\"\",\"zerolinecolor\":\"white\",\"gridwidth\":2},\"zaxis\":{\"backgroundcolor\":\"#E5ECF6\",\"gridcolor\":\"white\",\"linecolor\":\"white\",\"showbackground\":true,\"ticks\":\"\",\"zerolinecolor\":\"white\",\"gridwidth\":2}},\"shapedefaults\":{\"line\":{\"color\":\"#2a3f5f\"}},\"annotationdefaults\":{\"arrowcolor\":\"#2a3f5f\",\"arrowhead\":0,\"arrowwidth\":1},\"geo\":{\"bgcolor\":\"white\",\"landcolor\":\"#E5ECF6\",\"subunitcolor\":\"white\",\"showland\":true,\"showlakes\":true,\"lakecolor\":\"white\"},\"title\":{\"x\":0.05},\"mapbox\":{\"style\":\"light\"}}},\"xaxis\":{\"anchor\":\"y\",\"domain\":[0.0,1.0],\"title\":{\"text\":\"Date\"}},\"yaxis\":{\"anchor\":\"x\",\"domain\":[0.0,1.0],\"title\":{\"text\":\"Average Elos\"}},\"legend\":{\"tracegroupgap\":0},\"title\":{\"text\":\"Average elos over time for the Titled Tuesday Editions in the 2022 Double Elimination era. Note: Y Axis does not start at 0\"}},                        {\"responsive\": true}                    ).then(function(){\n",
       "                            \n",
       "var gd = document.getElementById('1beeaca3-51b6-4a29-af6a-880cae4ea0ce');\n",
       "var x = new MutationObserver(function (mutations, observer) {{\n",
       "        var display = window.getComputedStyle(gd).display;\n",
       "        if (!display || display === 'none') {{\n",
       "            console.log([gd, 'removed!']);\n",
       "            Plotly.purge(gd);\n",
       "            observer.disconnect();\n",
       "        }}\n",
       "}});\n",
       "\n",
       "// Listen for the removal of the full notebook cells\n",
       "var notebookContainer = gd.closest('#notebook-container');\n",
       "if (notebookContainer) {{\n",
       "    x.observe(notebookContainer, {childList: true});\n",
       "}}\n",
       "\n",
       "// Listen for the clearing of the current output cell\n",
       "var outputEl = gd.closest('.output');\n",
       "if (outputEl) {{\n",
       "    x.observe(outputEl, {childList: true});\n",
       "}}\n",
       "\n",
       "                        })                };                });            </script>        </div>"
      ]
     },
     "metadata": {},
     "output_type": "display_data"
    }
   ],
   "source": [
    "px.line(\n",
    "    df_average_elos.sort_values(\"Date\", ascending=True),\n",
    "    x=\"Date\",\n",
    "    y=\"avg_elo\",\n",
    "    title=\"Average elos over time for the Titled Tuesday Editions in the 2022 Double Elimination era. Note: Y Axis does not start at 0\",\n",
    "    labels={\"avg_elo\": \"Average Elos\"},\n",
    ")"
   ]
  },
  {
   "cell_type": "markdown",
   "metadata": {},
   "source": [
    "### Notes\n",
    "\n",
    "The plot seems confusing as Titled Tuesday has an Early and a Late edition on the same date, we'll separate these and plot them.\n"
   ]
  },
  {
   "cell_type": "code",
   "execution_count": 54,
   "metadata": {},
   "outputs": [
    {
     "name": "stdout",
     "output_type": "stream",
     "text": [
      "Total Number of Events 244\n",
      "Number of Late Events: 122\n"
     ]
    }
   ],
   "source": [
    "print(f\"Total Number of Events {len(df_average_elos)}\")\n",
    "filter_late_events = df_average_elos[\"Event\"].str.contains(\"Late\")\n",
    "print(f\"Number of Late Events: {filter_late_events.sum()}\")"
   ]
  },
  {
   "cell_type": "code",
   "execution_count": 60,
   "metadata": {},
   "outputs": [
    {
     "data": {
      "text/html": [
       "<div>\n",
       "<style scoped>\n",
       "    .dataframe tbody tr th:only-of-type {\n",
       "        vertical-align: middle;\n",
       "    }\n",
       "\n",
       "    .dataframe tbody tr th {\n",
       "        vertical-align: top;\n",
       "    }\n",
       "\n",
       "    .dataframe thead th {\n",
       "        text-align: right;\n",
       "    }\n",
       "</style>\n",
       "<table border=\"1\" class=\"dataframe\">\n",
       "  <thead>\n",
       "    <tr style=\"text-align: right;\">\n",
       "      <th></th>\n",
       "      <th>Event</th>\n",
       "      <th>Date</th>\n",
       "      <th>avg_elo</th>\n",
       "      <th>count</th>\n",
       "      <th>Edition</th>\n",
       "      <th>Average Elo Edition</th>\n",
       "      <th>Number of Players Edition</th>\n",
       "    </tr>\n",
       "  </thead>\n",
       "  <tbody>\n",
       "    <tr>\n",
       "      <th>0</th>\n",
       "      <td>Early-Titled-Tuesday-Blitz-April-02-2024</td>\n",
       "      <td>2024-04-02</td>\n",
       "      <td>2542.994565</td>\n",
       "      <td>2760</td>\n",
       "      <td>Early</td>\n",
       "      <td>Average Elo Late</td>\n",
       "      <td>Number of Players Late</td>\n",
       "    </tr>\n",
       "    <tr>\n",
       "      <th>1</th>\n",
       "      <td>Titled Tuesday Blitz March 14 Early 2023</td>\n",
       "      <td>2023-03-14</td>\n",
       "      <td>2317.697998</td>\n",
       "      <td>1149</td>\n",
       "      <td>Early</td>\n",
       "      <td>Average Elo Late</td>\n",
       "      <td>Number of Players Late</td>\n",
       "    </tr>\n",
       "    <tr>\n",
       "      <th>2</th>\n",
       "      <td>Titled Tuesday Blitz July 25 Late 2023</td>\n",
       "      <td>2023-07-25</td>\n",
       "      <td>2523.134647</td>\n",
       "      <td>1827</td>\n",
       "      <td>Late</td>\n",
       "      <td>Average Elo Late</td>\n",
       "      <td>Number of Players Late</td>\n",
       "    </tr>\n",
       "    <tr>\n",
       "      <th>3</th>\n",
       "      <td>Late-Titled-Tuesday-Blitz-March-05-2024</td>\n",
       "      <td>2024-03-05</td>\n",
       "      <td>2549.090839</td>\n",
       "      <td>1943</td>\n",
       "      <td>Late</td>\n",
       "      <td>Average Elo Early</td>\n",
       "      <td>Number of Players Early</td>\n",
       "    </tr>\n",
       "    <tr>\n",
       "      <th>4</th>\n",
       "      <td>Titled Tuesday Blitz November 07 Late 2023</td>\n",
       "      <td>2023-11-07</td>\n",
       "      <td>2531.718501</td>\n",
       "      <td>1508</td>\n",
       "      <td>Late</td>\n",
       "      <td>Average Elo Early</td>\n",
       "      <td>Number of Players Early</td>\n",
       "    </tr>\n",
       "    <tr>\n",
       "      <th>...</th>\n",
       "      <td>...</td>\n",
       "      <td>...</td>\n",
       "      <td>...</td>\n",
       "      <td>...</td>\n",
       "      <td>...</td>\n",
       "      <td>...</td>\n",
       "      <td>...</td>\n",
       "    </tr>\n",
       "    <tr>\n",
       "      <th>239</th>\n",
       "      <td>Titled Tuesday Blitz May 23 Early 2023</td>\n",
       "      <td>2023-05-23</td>\n",
       "      <td>2236.621156</td>\n",
       "      <td>2146</td>\n",
       "      <td>Early</td>\n",
       "      <td>Average Elo Early</td>\n",
       "      <td>Number of Players Early</td>\n",
       "    </tr>\n",
       "    <tr>\n",
       "      <th>240</th>\n",
       "      <td>Early-Titled-Tuesday-Blitz-June-11-2024</td>\n",
       "      <td>2024-06-11</td>\n",
       "      <td>2555.496628</td>\n",
       "      <td>2817</td>\n",
       "      <td>Early</td>\n",
       "      <td>Average Elo Late</td>\n",
       "      <td>Number of Players Late</td>\n",
       "    </tr>\n",
       "    <tr>\n",
       "      <th>241</th>\n",
       "      <td>Early-Titled-Tuesday-Blitz-June-04-2024</td>\n",
       "      <td>2024-06-04</td>\n",
       "      <td>2543.235846</td>\n",
       "      <td>2826</td>\n",
       "      <td>Early</td>\n",
       "      <td>Average Elo Late</td>\n",
       "      <td>Number of Players Late</td>\n",
       "    </tr>\n",
       "    <tr>\n",
       "      <th>242</th>\n",
       "      <td>Titled Tuesday Blitz January 10 Late 2023</td>\n",
       "      <td>2023-01-10</td>\n",
       "      <td>2285.698683</td>\n",
       "      <td>1671</td>\n",
       "      <td>Late</td>\n",
       "      <td>Average Elo Early</td>\n",
       "      <td>Number of Players Early</td>\n",
       "    </tr>\n",
       "    <tr>\n",
       "      <th>243</th>\n",
       "      <td>Titled Tuesday Blitz February 14 Late 2023</td>\n",
       "      <td>2023-02-14</td>\n",
       "      <td>2294.833792</td>\n",
       "      <td>1453</td>\n",
       "      <td>Late</td>\n",
       "      <td>Average Elo Early</td>\n",
       "      <td>Number of Players Early</td>\n",
       "    </tr>\n",
       "  </tbody>\n",
       "</table>\n",
       "<p>244 rows × 7 columns</p>\n",
       "</div>"
      ],
      "text/plain": [
       "                                          Event       Date      avg_elo  \\\n",
       "0      Early-Titled-Tuesday-Blitz-April-02-2024 2024-04-02  2542.994565   \n",
       "1      Titled Tuesday Blitz March 14 Early 2023 2023-03-14  2317.697998   \n",
       "2        Titled Tuesday Blitz July 25 Late 2023 2023-07-25  2523.134647   \n",
       "3       Late-Titled-Tuesday-Blitz-March-05-2024 2024-03-05  2549.090839   \n",
       "4    Titled Tuesday Blitz November 07 Late 2023 2023-11-07  2531.718501   \n",
       "..                                          ...        ...          ...   \n",
       "239      Titled Tuesday Blitz May 23 Early 2023 2023-05-23  2236.621156   \n",
       "240     Early-Titled-Tuesday-Blitz-June-11-2024 2024-06-11  2555.496628   \n",
       "241     Early-Titled-Tuesday-Blitz-June-04-2024 2024-06-04  2543.235846   \n",
       "242   Titled Tuesday Blitz January 10 Late 2023 2023-01-10  2285.698683   \n",
       "243  Titled Tuesday Blitz February 14 Late 2023 2023-02-14  2294.833792   \n",
       "\n",
       "     count Edition Average Elo Edition Number of Players Edition  \n",
       "0     2760   Early    Average Elo Late    Number of Players Late  \n",
       "1     1149   Early    Average Elo Late    Number of Players Late  \n",
       "2     1827    Late    Average Elo Late    Number of Players Late  \n",
       "3     1943    Late   Average Elo Early   Number of Players Early  \n",
       "4     1508    Late   Average Elo Early   Number of Players Early  \n",
       "..     ...     ...                 ...                       ...  \n",
       "239   2146   Early   Average Elo Early   Number of Players Early  \n",
       "240   2817   Early    Average Elo Late    Number of Players Late  \n",
       "241   2826   Early    Average Elo Late    Number of Players Late  \n",
       "242   1671    Late   Average Elo Early   Number of Players Early  \n",
       "243   1453    Late   Average Elo Early   Number of Players Early  \n",
       "\n",
       "[244 rows x 7 columns]"
      ]
     },
     "execution_count": 60,
     "metadata": {},
     "output_type": "execute_result"
    }
   ],
   "source": [
    "df_average_elos[\"Edition\"] = filter_late_events.replace({True: \"Late\", False: \"Early\"})\n",
    "\n",
    "df_average_elos"
   ]
  },
  {
   "cell_type": "code",
   "execution_count": 61,
   "metadata": {},
   "outputs": [
    {
     "data": {
      "text/html": [
       "<div>\n",
       "<style scoped>\n",
       "    .dataframe tbody tr th:only-of-type {\n",
       "        vertical-align: middle;\n",
       "    }\n",
       "\n",
       "    .dataframe tbody tr th {\n",
       "        vertical-align: top;\n",
       "    }\n",
       "\n",
       "    .dataframe thead th {\n",
       "        text-align: right;\n",
       "    }\n",
       "</style>\n",
       "<table border=\"1\" class=\"dataframe\">\n",
       "  <thead>\n",
       "    <tr style=\"text-align: right;\">\n",
       "      <th></th>\n",
       "      <th>Event</th>\n",
       "      <th>Date</th>\n",
       "      <th>avg_elo</th>\n",
       "      <th>count</th>\n",
       "      <th>Edition</th>\n",
       "      <th>Average Elo Edition</th>\n",
       "      <th>Number of Players Edition</th>\n",
       "    </tr>\n",
       "  </thead>\n",
       "  <tbody>\n",
       "    <tr>\n",
       "      <th>139</th>\n",
       "      <td>Titled Tuesday Blitz June 27 Early 2023</td>\n",
       "      <td>2023-06-27</td>\n",
       "      <td>2549.159748</td>\n",
       "      <td>2144</td>\n",
       "      <td>Early</td>\n",
       "      <td>Average Elo Late</td>\n",
       "      <td>Number of Players Late</td>\n",
       "    </tr>\n",
       "    <tr>\n",
       "      <th>164</th>\n",
       "      <td>Titled Tuesday Blitz June 27 Late 2023</td>\n",
       "      <td>2023-06-27</td>\n",
       "      <td>2542.803424</td>\n",
       "      <td>1694</td>\n",
       "      <td>Late</td>\n",
       "      <td>Average Elo Late</td>\n",
       "      <td>Number of Players Late</td>\n",
       "    </tr>\n",
       "  </tbody>\n",
       "</table>\n",
       "</div>"
      ],
      "text/plain": [
       "                                       Event       Date      avg_elo  count  \\\n",
       "139  Titled Tuesday Blitz June 27 Early 2023 2023-06-27  2549.159748   2144   \n",
       "164   Titled Tuesday Blitz June 27 Late 2023 2023-06-27  2542.803424   1694   \n",
       "\n",
       "    Edition Average Elo Edition Number of Players Edition  \n",
       "139   Early    Average Elo Late    Number of Players Late  \n",
       "164    Late    Average Elo Late    Number of Players Late  "
      ]
     },
     "execution_count": 61,
     "metadata": {},
     "output_type": "execute_result"
    }
   ],
   "source": [
    "df_average_elos[df_average_elos[\"Date\"] == \"2023-06-27\"]"
   ]
  },
  {
   "cell_type": "code",
   "execution_count": 63,
   "metadata": {},
   "outputs": [],
   "source": [
    "df_average_elos[\"Average Elo Edition\"] = filter_late_events.replace(\n",
    "    {True: \"Average Elo Late\", False: \"Average Elo Early\"}\n",
    ")\n",
    "df_average_elos[\"Number of Players Edition\"] = filter_late_events.replace(\n",
    "    {True: \"Number of Players Late\", False: \"Number of Players Early\"}\n",
    ")"
   ]
  },
  {
   "cell_type": "code",
   "execution_count": 66,
   "metadata": {},
   "outputs": [
    {
     "data": {
      "application/vnd.plotly.v1+json": {
       "config": {
        "plotlyServerURL": "https://plot.ly"
       },
       "data": [
        {
         "hovertemplate": "Average Elo Edition=Average Elo Early<br>Date=%{x}<br>avg_elo=%{y}<extra></extra>",
         "legendgroup": "Average Elo Early",
         "line": {
          "dash": "solid"
         },
         "marker": {
          "symbol": "circle"
         },
         "mode": "lines",
         "name": "Average Elo Early",
         "orientation": "v",
         "showlegend": true,
         "type": "scatter",
         "x": [
          "2022-02-01T00:00:00",
          "2022-02-01T00:00:00",
          "2022-02-08T00:00:00",
          "2022-02-15T00:00:00",
          "2022-02-22T00:00:00",
          "2022-03-01T00:00:00",
          "2022-03-09T00:00:00",
          "2022-03-15T00:00:00",
          "2022-03-22T00:00:00",
          "2022-03-29T00:00:00",
          "2022-04-05T00:00:00",
          "2022-04-12T00:00:00",
          "2022-04-19T00:00:00",
          "2022-04-26T00:00:00",
          "2022-05-03T00:00:00",
          "2022-05-10T00:00:00",
          "2022-05-17T00:00:00",
          "2022-05-25T00:00:00",
          "2022-06-01T00:00:00",
          "2022-06-08T00:00:00",
          "2022-06-14T00:00:00",
          "2022-06-22T00:00:00",
          "2022-06-28T00:00:00",
          "2022-07-05T00:00:00",
          "2022-07-27T00:00:00",
          "2022-08-02T00:00:00",
          "2022-08-09T00:00:00",
          "2022-08-16T00:00:00",
          "2022-08-23T00:00:00",
          "2022-09-13T00:00:00",
          "2022-09-27T00:00:00",
          "2022-10-04T00:00:00",
          "2022-10-11T00:00:00",
          "2022-10-25T00:00:00",
          "2022-11-02T00:00:00",
          "2022-11-08T00:00:00",
          "2022-11-16T00:00:00",
          "2022-11-23T00:00:00",
          "2022-11-30T00:00:00",
          "2022-12-06T00:00:00",
          "2022-12-14T00:00:00",
          "2022-12-20T00:00:00",
          "2022-12-27T00:00:00",
          "2023-01-03T00:00:00",
          "2023-01-10T00:00:00",
          "2023-01-17T00:00:00",
          "2023-01-31T00:00:00",
          "2023-02-07T00:00:00",
          "2023-02-15T00:00:00",
          "2023-02-21T00:00:00",
          "2023-02-28T00:00:00",
          "2023-03-07T00:00:00",
          "2023-03-14T00:00:00",
          "2023-03-21T00:00:00",
          "2023-03-28T00:00:00",
          "2023-04-04T00:00:00",
          "2023-04-11T00:00:00",
          "2023-04-18T00:00:00",
          "2023-04-25T00:00:00",
          "2023-05-02T00:00:00",
          "2023-05-09T00:00:00",
          "2023-05-16T00:00:00",
          "2023-05-23T00:00:00",
          "2023-05-30T00:00:00",
          "2023-06-06T00:00:00",
          "2023-06-13T00:00:00",
          "2023-06-20T00:00:00",
          "2023-06-27T00:00:00",
          "2023-07-04T00:00:00",
          "2023-07-11T00:00:00",
          "2023-07-18T00:00:00",
          "2023-07-25T00:00:00",
          "2023-08-01T00:00:00",
          "2023-08-08T00:00:00",
          "2023-08-15T00:00:00",
          "2023-08-22T00:00:00",
          "2023-08-29T00:00:00",
          "2023-09-05T00:00:00",
          "2023-09-12T00:00:00",
          "2023-09-19T00:00:00",
          "2023-09-26T00:00:00",
          "2023-10-03T00:00:00",
          "2023-10-10T00:00:00",
          "2023-10-17T00:00:00",
          "2023-10-24T00:00:00",
          "2023-10-31T00:00:00",
          "2023-11-07T00:00:00",
          "2023-11-14T00:00:00",
          "2023-11-21T00:00:00",
          "2023-11-28T00:00:00",
          "2023-12-05T00:00:00",
          "2023-12-12T00:00:00",
          "2023-12-19T00:00:00",
          "2023-12-26T00:00:00",
          "2024-01-02T00:00:00",
          "2024-01-11T00:00:00",
          "2024-01-16T00:00:00",
          "2024-01-23T00:00:00",
          "2024-01-30T00:00:00",
          "2024-02-06T00:00:00",
          "2024-02-13T00:00:00",
          "2024-02-20T00:00:00",
          "2024-02-27T00:00:00",
          "2024-03-05T00:00:00",
          "2024-03-12T00:00:00",
          "2024-03-19T00:00:00",
          "2024-03-26T00:00:00",
          "2024-04-02T00:00:00",
          "2024-04-09T00:00:00",
          "2024-04-16T00:00:00",
          "2024-04-23T00:00:00",
          "2024-04-30T00:00:00",
          "2024-05-07T00:00:00",
          "2024-05-14T00:00:00",
          "2024-05-21T00:00:00",
          "2024-05-28T00:00:00",
          "2024-06-04T00:00:00",
          "2024-06-11T00:00:00",
          "2024-06-18T00:00:00",
          "2024-06-25T00:00:00",
          "2024-07-02T00:00:00",
          "2024-07-09T00:00:00"
         ],
         "xaxis": "x",
         "y": [
          2458.956818181818,
          2531.4113636363636,
          2246.9175455417067,
          2251.0216417910447,
          2254.0629557608167,
          2237.440770557792,
          2249.6914952751526,
          2306.120991253644,
          2265.735754985755,
          2289.2230715774845,
          2190.505128205128,
          2258.9839846252403,
          2257.2506188118814,
          2265.5414181577203,
          2262.0752757949385,
          2254.7045594577944,
          2432.5670454545457,
          2260.014488286067,
          2349.390482398957,
          2407.9513618677042,
          2408.004555808656,
          2281.4866369710467,
          2262.926422498365,
          2436.8056818181817,
          2295.4043927648577,
          2413.659090909091,
          2245.7875838926175,
          2217.7099056603774,
          2406.089285714286,
          2494.7,
          2229.7711377870564,
          2484.819696969697,
          2293.489981214778,
          2488.1318181818183,
          2326.253569539926,
          2295.848705501618,
          2290.9344809866393,
          2278.5635068153656,
          2292.7651515151515,
          2305.6955104996377,
          2295.799763033175,
          2262.1138975966564,
          2250.4162484316184,
          2306.085622710623,
          2298.897451705713,
          2300.6854521625164,
          2303.7212238950947,
          2289.498387839705,
          2287.897696476965,
          2288.5360949612405,
          2297.07511627907,
          2276.215587529976,
          2317.697998259356,
          2316.4607893388006,
          2307.045632333768,
          2289.242234468938,
          2301.3244541484714,
          2285.816425120773,
          2303.5165083672546,
          1988.8357810413886,
          2285.477408142999,
          2304.8246725813265,
          2236.621155638397,
          2276.161197916667,
          2272.3161652218255,
          2285.913391224863,
          2284.8487957181087,
          2549.1597481343283,
          2525.2261118450024,
          2509.177244945933,
          2520.768147086915,
          2523.8111390284757,
          2520.636382280558,
          2525.9002375296914,
          2526.3002242152465,
          2533.33505794702,
          2544.604623824451,
          2555.1105636578636,
          2547.8280885780887,
          2532.977489177489,
          2518.364359214219,
          2528.49343832021,
          2534.0745689655173,
          2520.689024390244,
          2522.709938704028,
          2522.3870882040383,
          2546.0819004524888,
          2555.8438081936683,
          2311.1419426048565,
          2543.5292060880297,
          2544.9481748535377,
          2545.633349585568,
          2247.210697271546,
          2527.7385350318473,
          2534.660714285714,
          2554.5934797072523,
          2558.817538896747,
          2545.4856666666665,
          2563.1528185076572,
          2546.0001471020887,
          2556.786523929471,
          2549.2893700787404,
          2550.8352803738317,
          2544.6819648619576,
          2593.7177608440797,
          2577.5054655107424,
          2569.170160295931,
          2542.9945652173915,
          2557.1227443609023,
          2547.4558388765704,
          2563.8300642543118,
          2561.3807050092764,
          2553.462504359958,
          2551.8489038785833,
          2565.87291249165,
          2544.434122871947,
          2543.23584571833,
          2555.4966276180335,
          2557.449590834697,
          2560.002841918295,
          2557.569721115538,
          2553.9599860821154
         ],
         "yaxis": "y"
        },
        {
         "hovertemplate": "Average Elo Edition=Average Elo Late<br>Date=%{x}<br>avg_elo=%{y}<extra></extra>",
         "legendgroup": "Average Elo Late",
         "line": {
          "dash": "solid"
         },
         "marker": {
          "symbol": "circle"
         },
         "mode": "lines",
         "name": "Average Elo Late",
         "orientation": "v",
         "showlegend": true,
         "type": "scatter",
         "x": [
          "2022-02-08T00:00:00",
          "2022-02-15T00:00:00",
          "2022-02-22T00:00:00",
          "2022-03-01T00:00:00",
          "2022-03-08T00:00:00",
          "2022-03-16T00:00:00",
          "2022-03-22T00:00:00",
          "2022-03-29T00:00:00",
          "2022-04-06T00:00:00",
          "2022-04-13T00:00:00",
          "2022-04-19T00:00:00",
          "2022-04-26T00:00:00",
          "2022-05-03T00:00:00",
          "2022-05-10T00:00:00",
          "2022-05-17T00:00:00",
          "2022-05-24T00:00:00",
          "2022-06-01T00:00:00",
          "2022-06-07T00:00:00",
          "2022-06-15T00:00:00",
          "2022-06-22T00:00:00",
          "2022-06-28T00:00:00",
          "2022-07-05T00:00:00",
          "2022-07-26T00:00:00",
          "2022-08-02T00:00:00",
          "2022-08-09T00:00:00",
          "2022-08-16T00:00:00",
          "2022-08-23T00:00:00",
          "2022-09-13T00:00:00",
          "2022-09-20T00:00:00",
          "2022-09-27T00:00:00",
          "2022-10-04T00:00:00",
          "2022-10-12T00:00:00",
          "2022-10-18T00:00:00",
          "2022-10-26T00:00:00",
          "2022-11-02T00:00:00",
          "2022-11-09T00:00:00",
          "2022-11-16T00:00:00",
          "2022-11-22T00:00:00",
          "2022-11-30T00:00:00",
          "2022-12-07T00:00:00",
          "2022-12-13T00:00:00",
          "2022-12-21T00:00:00",
          "2022-12-27T00:00:00",
          "2023-01-03T00:00:00",
          "2023-01-10T00:00:00",
          "2023-01-17T00:00:00",
          "2023-01-31T00:00:00",
          "2023-02-07T00:00:00",
          "2023-02-14T00:00:00",
          "2023-02-21T00:00:00",
          "2023-02-28T00:00:00",
          "2023-03-07T00:00:00",
          "2023-03-14T00:00:00",
          "2023-03-21T00:00:00",
          "2023-03-28T00:00:00",
          "2023-04-04T00:00:00",
          "2023-04-11T00:00:00",
          "2023-04-18T00:00:00",
          "2023-04-25T00:00:00",
          "2023-05-02T00:00:00",
          "2023-05-09T00:00:00",
          "2023-05-16T00:00:00",
          "2023-05-23T00:00:00",
          "2023-05-31T00:00:00",
          "2023-06-07T00:00:00",
          "2023-06-13T00:00:00",
          "2023-06-20T00:00:00",
          "2023-06-27T00:00:00",
          "2023-07-04T00:00:00",
          "2023-07-11T00:00:00",
          "2023-07-18T00:00:00",
          "2023-07-25T00:00:00",
          "2023-08-01T00:00:00",
          "2023-08-08T00:00:00",
          "2023-08-15T00:00:00",
          "2023-08-22T00:00:00",
          "2023-08-29T00:00:00",
          "2023-09-05T00:00:00",
          "2023-09-12T00:00:00",
          "2023-09-19T00:00:00",
          "2023-09-26T00:00:00",
          "2023-10-03T00:00:00",
          "2023-10-10T00:00:00",
          "2023-10-17T00:00:00",
          "2023-10-24T00:00:00",
          "2023-10-31T00:00:00",
          "2023-11-07T00:00:00",
          "2023-11-14T00:00:00",
          "2023-11-21T00:00:00",
          "2023-11-28T00:00:00",
          "2023-12-05T00:00:00",
          "2023-12-12T00:00:00",
          "2023-12-19T00:00:00",
          "2023-12-26T00:00:00",
          "2024-01-02T00:00:00",
          "2024-01-09T00:00:00",
          "2024-01-16T00:00:00",
          "2024-01-23T00:00:00",
          "2024-01-30T00:00:00",
          "2024-02-06T00:00:00",
          "2024-02-13T00:00:00",
          "2024-02-20T00:00:00",
          "2024-02-27T00:00:00",
          "2024-03-05T00:00:00",
          "2024-03-12T00:00:00",
          "2024-03-19T00:00:00",
          "2024-03-26T00:00:00",
          "2024-04-02T00:00:00",
          "2024-04-09T00:00:00",
          "2024-04-16T00:00:00",
          "2024-04-23T00:00:00",
          "2024-04-30T00:00:00",
          "2024-05-07T00:00:00",
          "2024-05-14T00:00:00",
          "2024-05-21T00:00:00",
          "2024-05-28T00:00:00",
          "2024-06-04T00:00:00",
          "2024-06-11T00:00:00",
          "2024-06-18T00:00:00",
          "2024-06-25T00:00:00",
          "2024-07-02T00:00:00",
          "2024-07-09T00:00:00"
         ],
         "xaxis": "x",
         "y": [
          2310.9857035364935,
          2310.4688498402556,
          2304.532786885246,
          2285.6295979469633,
          2319.3892045454545,
          2290.2759472817133,
          2288.9938220757826,
          2284.7862595419847,
          2353.784178847807,
          2319.941972920696,
          2308.074182732607,
          2308.7337180544105,
          2305.185239491691,
          2311.060810810811,
          2448.0602272727274,
          2291.874661857529,
          2357.207189542484,
          2426.3534090909093,
          2349.2407894736843,
          2306.185740236149,
          2310.284843205575,
          2346.686111111111,
          2321.099346405229,
          2410.9022727272727,
          2416.825,
          2243.366666666667,
          2428.3420454545453,
          2410.0488636363634,
          2445.640909090909,
          2362.0528846153848,
          2486.869696969697,
          2320.0685087055263,
          2282.3909935668335,
          2285.465909090909,
          2363.579296424452,
          2305.172788605697,
          2315.289454277286,
          2317.826171875,
          2327.8491411501122,
          2310.8041280539173,
          2328.3198113207545,
          2319.3433460076044,
          2247.0882117080996,
          2289.499718151071,
          2285.6986834230997,
          2280.4774746192893,
          2316.5492227979275,
          2296.1842581423402,
          2294.833792154164,
          2259.820655534941,
          2311.5174739423665,
          2299.5029744199883,
          2323.0384083044983,
          2324.63496751329,
          2304.400468384075,
          2322.017217146873,
          1948.7465237543454,
          2310.2169459962756,
          1916.6126259632483,
          1986.0753739930956,
          2305.2449494949497,
          2307.419113413932,
          2272.091617409995,
          2304.6867048346057,
          2315.412935323383,
          2319.217366946779,
          2304.685002895194,
          2542.8034238488785,
          2523.5277129521587,
          2520.5207015526166,
          2519.4665714285716,
          2523.134646962233,
          2507.408073070124,
          2520.581328751432,
          2528.882932840419,
          2537.5721649484535,
          2543.3311484006294,
          2534.37367835281,
          2536.698154180239,
          2531.067073170732,
          2532.7344311377246,
          2523.4288235294116,
          2543.951051051051,
          2523.6095171448565,
          2523.8383116883115,
          2530.003505417463,
          2531.71850132626,
          2517.7493548387097,
          2315.015816655907,
          2521.354916897507,
          2532.019916765755,
          2541.6745704467353,
          2260.166566806471,
          2504.67707641196,
          2531.67081604426,
          2560.2035830618893,
          2542.033469596321,
          2560.9431639601885,
          2561.225424601132,
          2550.7223769730736,
          2548.1381395348835,
          2541.6223241590214,
          2553.222305017387,
          2549.0908389089036,
          2573.9575682382133,
          2569.5678226514488,
          2555.3000992063494,
          2537.901081081081,
          2552.480935875217,
          2554.622077922078,
          2562.1015228426395,
          2548.9335992491788,
          2567.9750986193294,
          2563.059585492228,
          2549.3255813953488,
          2541.734238851871,
          2543.4289841116997,
          2567.2192832764504,
          2548.0887096774195,
          2547.5347658136166,
          2551.4334667333665,
          2530.583080808081
         ],
         "yaxis": "y"
        },
        {
         "hovertemplate": "Number of Players Edition=Number of Players Early<br>Date=%{x}<br>count=%{y}<extra></extra>",
         "legendgroup": "Number of Players Early",
         "line": {
          "dash": "solid"
         },
         "marker": {
          "symbol": "circle"
         },
         "mode": "lines",
         "name": "Number of Players Early",
         "orientation": "v",
         "showlegend": true,
         "type": "scatter",
         "x": [
          "2022-02-01T00:00:00",
          "2022-02-01T00:00:00",
          "2022-02-08T00:00:00",
          "2022-02-15T00:00:00",
          "2022-02-22T00:00:00",
          "2022-03-01T00:00:00",
          "2022-03-09T00:00:00",
          "2022-03-15T00:00:00",
          "2022-03-22T00:00:00",
          "2022-03-29T00:00:00",
          "2022-04-05T00:00:00",
          "2022-04-12T00:00:00",
          "2022-04-19T00:00:00",
          "2022-04-26T00:00:00",
          "2022-05-03T00:00:00",
          "2022-05-10T00:00:00",
          "2022-05-17T00:00:00",
          "2022-05-25T00:00:00",
          "2022-06-01T00:00:00",
          "2022-06-08T00:00:00",
          "2022-06-14T00:00:00",
          "2022-06-22T00:00:00",
          "2022-06-28T00:00:00",
          "2022-07-05T00:00:00",
          "2022-07-27T00:00:00",
          "2022-08-02T00:00:00",
          "2022-08-09T00:00:00",
          "2022-08-16T00:00:00",
          "2022-08-23T00:00:00",
          "2022-09-13T00:00:00",
          "2022-09-27T00:00:00",
          "2022-10-04T00:00:00",
          "2022-10-11T00:00:00",
          "2022-10-25T00:00:00",
          "2022-11-02T00:00:00",
          "2022-11-08T00:00:00",
          "2022-11-16T00:00:00",
          "2022-11-23T00:00:00",
          "2022-11-30T00:00:00",
          "2022-12-06T00:00:00",
          "2022-12-14T00:00:00",
          "2022-12-20T00:00:00",
          "2022-12-27T00:00:00",
          "2023-01-03T00:00:00",
          "2023-01-10T00:00:00",
          "2023-01-17T00:00:00",
          "2023-01-31T00:00:00",
          "2023-02-07T00:00:00",
          "2023-02-15T00:00:00",
          "2023-02-21T00:00:00",
          "2023-02-28T00:00:00",
          "2023-03-07T00:00:00",
          "2023-03-14T00:00:00",
          "2023-03-21T00:00:00",
          "2023-03-28T00:00:00",
          "2023-04-04T00:00:00",
          "2023-04-11T00:00:00",
          "2023-04-18T00:00:00",
          "2023-04-25T00:00:00",
          "2023-05-02T00:00:00",
          "2023-05-09T00:00:00",
          "2023-05-16T00:00:00",
          "2023-05-23T00:00:00",
          "2023-05-30T00:00:00",
          "2023-06-06T00:00:00",
          "2023-06-13T00:00:00",
          "2023-06-20T00:00:00",
          "2023-06-27T00:00:00",
          "2023-07-04T00:00:00",
          "2023-07-11T00:00:00",
          "2023-07-18T00:00:00",
          "2023-07-25T00:00:00",
          "2023-08-01T00:00:00",
          "2023-08-08T00:00:00",
          "2023-08-15T00:00:00",
          "2023-08-22T00:00:00",
          "2023-08-29T00:00:00",
          "2023-09-05T00:00:00",
          "2023-09-12T00:00:00",
          "2023-09-19T00:00:00",
          "2023-09-26T00:00:00",
          "2023-10-03T00:00:00",
          "2023-10-10T00:00:00",
          "2023-10-17T00:00:00",
          "2023-10-24T00:00:00",
          "2023-10-31T00:00:00",
          "2023-11-07T00:00:00",
          "2023-11-14T00:00:00",
          "2023-11-21T00:00:00",
          "2023-11-28T00:00:00",
          "2023-12-05T00:00:00",
          "2023-12-12T00:00:00",
          "2023-12-19T00:00:00",
          "2023-12-26T00:00:00",
          "2024-01-02T00:00:00",
          "2024-01-11T00:00:00",
          "2024-01-16T00:00:00",
          "2024-01-23T00:00:00",
          "2024-01-30T00:00:00",
          "2024-02-06T00:00:00",
          "2024-02-13T00:00:00",
          "2024-02-20T00:00:00",
          "2024-02-27T00:00:00",
          "2024-03-05T00:00:00",
          "2024-03-12T00:00:00",
          "2024-03-19T00:00:00",
          "2024-03-26T00:00:00",
          "2024-04-02T00:00:00",
          "2024-04-09T00:00:00",
          "2024-04-16T00:00:00",
          "2024-04-23T00:00:00",
          "2024-04-30T00:00:00",
          "2024-05-07T00:00:00",
          "2024-05-14T00:00:00",
          "2024-05-21T00:00:00",
          "2024-05-28T00:00:00",
          "2024-06-04T00:00:00",
          "2024-06-11T00:00:00",
          "2024-06-18T00:00:00",
          "2024-06-25T00:00:00",
          "2024-07-02T00:00:00",
          "2024-07-09T00:00:00"
         ],
         "xaxis": "x",
         "y": [
          440,
          440,
          2086,
          2010,
          2057,
          1739,
          1799,
          1029,
          1404,
          1439,
          1170,
          1561,
          1616,
          1509,
          1541,
          1623,
          440,
          1622,
          767,
          514,
          439,
          1347,
          1529,
          440,
          774,
          440,
          1490,
          1484,
          280,
          440,
          1916,
          330,
          1597,
          330,
          1891,
          1854,
          1946,
          1614,
          1650,
          1381,
          1688,
          1914,
          1594,
          2184,
          2433,
          2289,
          2059,
          2171,
          2214,
          2064,
          2150,
          2085,
          1149,
          1951,
          2301,
          1996,
          2290,
          2070,
          2211,
          2247,
          2014,
          2367,
          2146,
          1920,
          1961,
          2188,
          2242,
          2144,
          2271,
          2127,
          2094,
          2388,
          2438,
          2526,
          2230,
          2416,
          2552,
          2537,
          2574,
          2310,
          2138,
          2286,
          2320,
          2050,
          2284,
          1882,
          2210,
          2148,
          2265,
          2431,
          2219,
          2051,
          2309,
          1570,
          2352,
          3006,
          2828,
          3000,
          3069,
          3399,
          3176,
          2794,
          2996,
          2789,
          1706,
          2653,
          2433,
          2760,
          2660,
          2706,
          2957,
          2695,
          2867,
          2965,
          2994,
          2702,
          2826,
          2817,
          3055,
          2815,
          2761,
          2874
         ],
         "yaxis": "y2"
        },
        {
         "hovertemplate": "Number of Players Edition=Number of Players Late<br>Date=%{x}<br>count=%{y}<extra></extra>",
         "legendgroup": "Number of Players Late",
         "line": {
          "dash": "solid"
         },
         "marker": {
          "symbol": "circle"
         },
         "mode": "lines",
         "name": "Number of Players Late",
         "orientation": "v",
         "showlegend": true,
         "type": "scatter",
         "x": [
          "2022-02-08T00:00:00",
          "2022-02-15T00:00:00",
          "2022-02-22T00:00:00",
          "2022-03-01T00:00:00",
          "2022-03-08T00:00:00",
          "2022-03-16T00:00:00",
          "2022-03-22T00:00:00",
          "2022-03-29T00:00:00",
          "2022-04-06T00:00:00",
          "2022-04-13T00:00:00",
          "2022-04-19T00:00:00",
          "2022-04-26T00:00:00",
          "2022-05-03T00:00:00",
          "2022-05-10T00:00:00",
          "2022-05-17T00:00:00",
          "2022-05-24T00:00:00",
          "2022-06-01T00:00:00",
          "2022-06-07T00:00:00",
          "2022-06-15T00:00:00",
          "2022-06-22T00:00:00",
          "2022-06-28T00:00:00",
          "2022-07-05T00:00:00",
          "2022-07-26T00:00:00",
          "2022-08-02T00:00:00",
          "2022-08-09T00:00:00",
          "2022-08-16T00:00:00",
          "2022-08-23T00:00:00",
          "2022-09-13T00:00:00",
          "2022-09-20T00:00:00",
          "2022-09-27T00:00:00",
          "2022-10-04T00:00:00",
          "2022-10-12T00:00:00",
          "2022-10-18T00:00:00",
          "2022-10-26T00:00:00",
          "2022-11-02T00:00:00",
          "2022-11-09T00:00:00",
          "2022-11-16T00:00:00",
          "2022-11-22T00:00:00",
          "2022-11-30T00:00:00",
          "2022-12-07T00:00:00",
          "2022-12-13T00:00:00",
          "2022-12-21T00:00:00",
          "2022-12-27T00:00:00",
          "2023-01-03T00:00:00",
          "2023-01-10T00:00:00",
          "2023-01-17T00:00:00",
          "2023-01-31T00:00:00",
          "2023-02-07T00:00:00",
          "2023-02-14T00:00:00",
          "2023-02-21T00:00:00",
          "2023-02-28T00:00:00",
          "2023-03-07T00:00:00",
          "2023-03-14T00:00:00",
          "2023-03-21T00:00:00",
          "2023-03-28T00:00:00",
          "2023-04-04T00:00:00",
          "2023-04-11T00:00:00",
          "2023-04-18T00:00:00",
          "2023-04-25T00:00:00",
          "2023-05-02T00:00:00",
          "2023-05-09T00:00:00",
          "2023-05-16T00:00:00",
          "2023-05-23T00:00:00",
          "2023-05-31T00:00:00",
          "2023-06-07T00:00:00",
          "2023-06-13T00:00:00",
          "2023-06-20T00:00:00",
          "2023-06-27T00:00:00",
          "2023-07-04T00:00:00",
          "2023-07-11T00:00:00",
          "2023-07-18T00:00:00",
          "2023-07-25T00:00:00",
          "2023-08-01T00:00:00",
          "2023-08-08T00:00:00",
          "2023-08-15T00:00:00",
          "2023-08-22T00:00:00",
          "2023-08-29T00:00:00",
          "2023-09-05T00:00:00",
          "2023-09-12T00:00:00",
          "2023-09-19T00:00:00",
          "2023-09-26T00:00:00",
          "2023-10-03T00:00:00",
          "2023-10-10T00:00:00",
          "2023-10-17T00:00:00",
          "2023-10-24T00:00:00",
          "2023-10-31T00:00:00",
          "2023-11-07T00:00:00",
          "2023-11-14T00:00:00",
          "2023-11-21T00:00:00",
          "2023-11-28T00:00:00",
          "2023-12-05T00:00:00",
          "2023-12-12T00:00:00",
          "2023-12-19T00:00:00",
          "2023-12-26T00:00:00",
          "2024-01-02T00:00:00",
          "2024-01-09T00:00:00",
          "2024-01-16T00:00:00",
          "2024-01-23T00:00:00",
          "2024-01-30T00:00:00",
          "2024-02-06T00:00:00",
          "2024-02-13T00:00:00",
          "2024-02-20T00:00:00",
          "2024-02-27T00:00:00",
          "2024-03-05T00:00:00",
          "2024-03-12T00:00:00",
          "2024-03-19T00:00:00",
          "2024-03-26T00:00:00",
          "2024-04-02T00:00:00",
          "2024-04-09T00:00:00",
          "2024-04-16T00:00:00",
          "2024-04-23T00:00:00",
          "2024-04-30T00:00:00",
          "2024-05-07T00:00:00",
          "2024-05-14T00:00:00",
          "2024-05-21T00:00:00",
          "2024-05-28T00:00:00",
          "2024-06-04T00:00:00",
          "2024-06-11T00:00:00",
          "2024-06-18T00:00:00",
          "2024-06-25T00:00:00",
          "2024-07-02T00:00:00",
          "2024-07-09T00:00:00"
         ],
         "xaxis": "x",
         "y": [
          1329,
          1252,
          1281,
          1169,
          1056,
          1214,
          1214,
          1048,
          1163,
          1034,
          1193,
          1213,
          1023,
          1184,
          440,
          1109,
          765,
          440,
          760,
          1101,
          1148,
          720,
          765,
          440,
          440,
          1125,
          440,
          440,
          440,
          624,
          330,
          1321,
          1399,
          1364,
          1734,
          1334,
          1356,
          1280,
          1339,
          1187,
          1060,
          1315,
          1247,
          1774,
          1671,
          1576,
          1737,
          1658,
          1453,
          1617,
          1631,
          1681,
          1445,
          1693,
          1708,
          1423,
          1726,
          1611,
          1687,
          1738,
          1584,
          1737,
          1861,
          1572,
          1608,
          1785,
          1727,
          1694,
          1714,
          1739,
          1750,
          1827,
          1697,
          1746,
          1623,
          1940,
          1907,
          1797,
          1842,
          1640,
          1670,
          1700,
          1665,
          1429,
          1540,
          1569,
          1508,
          1550,
          1549,
          1444,
          1682,
          1455,
          1669,
          1505,
          2169,
          2149,
          1957,
          1909,
          1943,
          2154,
          2150,
          1962,
          2013,
          1943,
          2015,
          2278,
          2016,
          1850,
          1731,
          1925,
          1970,
          2131,
          2028,
          2123,
          2064,
          1951,
          2077,
          2344,
          2232,
          2071,
          1999,
          1980
         ],
         "yaxis": "y2"
        }
       ],
       "layout": {
        "legend": {
         "title": {
          "text": "Edition"
         }
        },
        "template": {
         "data": {
          "bar": [
           {
            "error_x": {
             "color": "#2a3f5f"
            },
            "error_y": {
             "color": "#2a3f5f"
            },
            "marker": {
             "line": {
              "color": "#E5ECF6",
              "width": 0.5
             },
             "pattern": {
              "fillmode": "overlay",
              "size": 10,
              "solidity": 0.2
             }
            },
            "type": "bar"
           }
          ],
          "barpolar": [
           {
            "marker": {
             "line": {
              "color": "#E5ECF6",
              "width": 0.5
             },
             "pattern": {
              "fillmode": "overlay",
              "size": 10,
              "solidity": 0.2
             }
            },
            "type": "barpolar"
           }
          ],
          "carpet": [
           {
            "aaxis": {
             "endlinecolor": "#2a3f5f",
             "gridcolor": "white",
             "linecolor": "white",
             "minorgridcolor": "white",
             "startlinecolor": "#2a3f5f"
            },
            "baxis": {
             "endlinecolor": "#2a3f5f",
             "gridcolor": "white",
             "linecolor": "white",
             "minorgridcolor": "white",
             "startlinecolor": "#2a3f5f"
            },
            "type": "carpet"
           }
          ],
          "choropleth": [
           {
            "colorbar": {
             "outlinewidth": 0,
             "ticks": ""
            },
            "type": "choropleth"
           }
          ],
          "contour": [
           {
            "colorbar": {
             "outlinewidth": 0,
             "ticks": ""
            },
            "colorscale": [
             [
              0,
              "#0d0887"
             ],
             [
              0.1111111111111111,
              "#46039f"
             ],
             [
              0.2222222222222222,
              "#7201a8"
             ],
             [
              0.3333333333333333,
              "#9c179e"
             ],
             [
              0.4444444444444444,
              "#bd3786"
             ],
             [
              0.5555555555555556,
              "#d8576b"
             ],
             [
              0.6666666666666666,
              "#ed7953"
             ],
             [
              0.7777777777777778,
              "#fb9f3a"
             ],
             [
              0.8888888888888888,
              "#fdca26"
             ],
             [
              1,
              "#f0f921"
             ]
            ],
            "type": "contour"
           }
          ],
          "contourcarpet": [
           {
            "colorbar": {
             "outlinewidth": 0,
             "ticks": ""
            },
            "type": "contourcarpet"
           }
          ],
          "heatmap": [
           {
            "colorbar": {
             "outlinewidth": 0,
             "ticks": ""
            },
            "colorscale": [
             [
              0,
              "#0d0887"
             ],
             [
              0.1111111111111111,
              "#46039f"
             ],
             [
              0.2222222222222222,
              "#7201a8"
             ],
             [
              0.3333333333333333,
              "#9c179e"
             ],
             [
              0.4444444444444444,
              "#bd3786"
             ],
             [
              0.5555555555555556,
              "#d8576b"
             ],
             [
              0.6666666666666666,
              "#ed7953"
             ],
             [
              0.7777777777777778,
              "#fb9f3a"
             ],
             [
              0.8888888888888888,
              "#fdca26"
             ],
             [
              1,
              "#f0f921"
             ]
            ],
            "type": "heatmap"
           }
          ],
          "heatmapgl": [
           {
            "colorbar": {
             "outlinewidth": 0,
             "ticks": ""
            },
            "colorscale": [
             [
              0,
              "#0d0887"
             ],
             [
              0.1111111111111111,
              "#46039f"
             ],
             [
              0.2222222222222222,
              "#7201a8"
             ],
             [
              0.3333333333333333,
              "#9c179e"
             ],
             [
              0.4444444444444444,
              "#bd3786"
             ],
             [
              0.5555555555555556,
              "#d8576b"
             ],
             [
              0.6666666666666666,
              "#ed7953"
             ],
             [
              0.7777777777777778,
              "#fb9f3a"
             ],
             [
              0.8888888888888888,
              "#fdca26"
             ],
             [
              1,
              "#f0f921"
             ]
            ],
            "type": "heatmapgl"
           }
          ],
          "histogram": [
           {
            "marker": {
             "pattern": {
              "fillmode": "overlay",
              "size": 10,
              "solidity": 0.2
             }
            },
            "type": "histogram"
           }
          ],
          "histogram2d": [
           {
            "colorbar": {
             "outlinewidth": 0,
             "ticks": ""
            },
            "colorscale": [
             [
              0,
              "#0d0887"
             ],
             [
              0.1111111111111111,
              "#46039f"
             ],
             [
              0.2222222222222222,
              "#7201a8"
             ],
             [
              0.3333333333333333,
              "#9c179e"
             ],
             [
              0.4444444444444444,
              "#bd3786"
             ],
             [
              0.5555555555555556,
              "#d8576b"
             ],
             [
              0.6666666666666666,
              "#ed7953"
             ],
             [
              0.7777777777777778,
              "#fb9f3a"
             ],
             [
              0.8888888888888888,
              "#fdca26"
             ],
             [
              1,
              "#f0f921"
             ]
            ],
            "type": "histogram2d"
           }
          ],
          "histogram2dcontour": [
           {
            "colorbar": {
             "outlinewidth": 0,
             "ticks": ""
            },
            "colorscale": [
             [
              0,
              "#0d0887"
             ],
             [
              0.1111111111111111,
              "#46039f"
             ],
             [
              0.2222222222222222,
              "#7201a8"
             ],
             [
              0.3333333333333333,
              "#9c179e"
             ],
             [
              0.4444444444444444,
              "#bd3786"
             ],
             [
              0.5555555555555556,
              "#d8576b"
             ],
             [
              0.6666666666666666,
              "#ed7953"
             ],
             [
              0.7777777777777778,
              "#fb9f3a"
             ],
             [
              0.8888888888888888,
              "#fdca26"
             ],
             [
              1,
              "#f0f921"
             ]
            ],
            "type": "histogram2dcontour"
           }
          ],
          "mesh3d": [
           {
            "colorbar": {
             "outlinewidth": 0,
             "ticks": ""
            },
            "type": "mesh3d"
           }
          ],
          "parcoords": [
           {
            "line": {
             "colorbar": {
              "outlinewidth": 0,
              "ticks": ""
             }
            },
            "type": "parcoords"
           }
          ],
          "pie": [
           {
            "automargin": true,
            "type": "pie"
           }
          ],
          "scatter": [
           {
            "fillpattern": {
             "fillmode": "overlay",
             "size": 10,
             "solidity": 0.2
            },
            "type": "scatter"
           }
          ],
          "scatter3d": [
           {
            "line": {
             "colorbar": {
              "outlinewidth": 0,
              "ticks": ""
             }
            },
            "marker": {
             "colorbar": {
              "outlinewidth": 0,
              "ticks": ""
             }
            },
            "type": "scatter3d"
           }
          ],
          "scattercarpet": [
           {
            "marker": {
             "colorbar": {
              "outlinewidth": 0,
              "ticks": ""
             }
            },
            "type": "scattercarpet"
           }
          ],
          "scattergeo": [
           {
            "marker": {
             "colorbar": {
              "outlinewidth": 0,
              "ticks": ""
             }
            },
            "type": "scattergeo"
           }
          ],
          "scattergl": [
           {
            "marker": {
             "colorbar": {
              "outlinewidth": 0,
              "ticks": ""
             }
            },
            "type": "scattergl"
           }
          ],
          "scattermapbox": [
           {
            "marker": {
             "colorbar": {
              "outlinewidth": 0,
              "ticks": ""
             }
            },
            "type": "scattermapbox"
           }
          ],
          "scatterpolar": [
           {
            "marker": {
             "colorbar": {
              "outlinewidth": 0,
              "ticks": ""
             }
            },
            "type": "scatterpolar"
           }
          ],
          "scatterpolargl": [
           {
            "marker": {
             "colorbar": {
              "outlinewidth": 0,
              "ticks": ""
             }
            },
            "type": "scatterpolargl"
           }
          ],
          "scatterternary": [
           {
            "marker": {
             "colorbar": {
              "outlinewidth": 0,
              "ticks": ""
             }
            },
            "type": "scatterternary"
           }
          ],
          "surface": [
           {
            "colorbar": {
             "outlinewidth": 0,
             "ticks": ""
            },
            "colorscale": [
             [
              0,
              "#0d0887"
             ],
             [
              0.1111111111111111,
              "#46039f"
             ],
             [
              0.2222222222222222,
              "#7201a8"
             ],
             [
              0.3333333333333333,
              "#9c179e"
             ],
             [
              0.4444444444444444,
              "#bd3786"
             ],
             [
              0.5555555555555556,
              "#d8576b"
             ],
             [
              0.6666666666666666,
              "#ed7953"
             ],
             [
              0.7777777777777778,
              "#fb9f3a"
             ],
             [
              0.8888888888888888,
              "#fdca26"
             ],
             [
              1,
              "#f0f921"
             ]
            ],
            "type": "surface"
           }
          ],
          "table": [
           {
            "cells": {
             "fill": {
              "color": "#EBF0F8"
             },
             "line": {
              "color": "white"
             }
            },
            "header": {
             "fill": {
              "color": "#C8D4E3"
             },
             "line": {
              "color": "white"
             }
            },
            "type": "table"
           }
          ]
         },
         "layout": {
          "annotationdefaults": {
           "arrowcolor": "#2a3f5f",
           "arrowhead": 0,
           "arrowwidth": 1
          },
          "autotypenumbers": "strict",
          "coloraxis": {
           "colorbar": {
            "outlinewidth": 0,
            "ticks": ""
           }
          },
          "colorscale": {
           "diverging": [
            [
             0,
             "#8e0152"
            ],
            [
             0.1,
             "#c51b7d"
            ],
            [
             0.2,
             "#de77ae"
            ],
            [
             0.3,
             "#f1b6da"
            ],
            [
             0.4,
             "#fde0ef"
            ],
            [
             0.5,
             "#f7f7f7"
            ],
            [
             0.6,
             "#e6f5d0"
            ],
            [
             0.7,
             "#b8e186"
            ],
            [
             0.8,
             "#7fbc41"
            ],
            [
             0.9,
             "#4d9221"
            ],
            [
             1,
             "#276419"
            ]
           ],
           "sequential": [
            [
             0,
             "#0d0887"
            ],
            [
             0.1111111111111111,
             "#46039f"
            ],
            [
             0.2222222222222222,
             "#7201a8"
            ],
            [
             0.3333333333333333,
             "#9c179e"
            ],
            [
             0.4444444444444444,
             "#bd3786"
            ],
            [
             0.5555555555555556,
             "#d8576b"
            ],
            [
             0.6666666666666666,
             "#ed7953"
            ],
            [
             0.7777777777777778,
             "#fb9f3a"
            ],
            [
             0.8888888888888888,
             "#fdca26"
            ],
            [
             1,
             "#f0f921"
            ]
           ],
           "sequentialminus": [
            [
             0,
             "#0d0887"
            ],
            [
             0.1111111111111111,
             "#46039f"
            ],
            [
             0.2222222222222222,
             "#7201a8"
            ],
            [
             0.3333333333333333,
             "#9c179e"
            ],
            [
             0.4444444444444444,
             "#bd3786"
            ],
            [
             0.5555555555555556,
             "#d8576b"
            ],
            [
             0.6666666666666666,
             "#ed7953"
            ],
            [
             0.7777777777777778,
             "#fb9f3a"
            ],
            [
             0.8888888888888888,
             "#fdca26"
            ],
            [
             1,
             "#f0f921"
            ]
           ]
          },
          "colorway": [
           "#636efa",
           "#EF553B",
           "#00cc96",
           "#ab63fa",
           "#FFA15A",
           "#19d3f3",
           "#FF6692",
           "#B6E880",
           "#FF97FF",
           "#FECB52"
          ],
          "font": {
           "color": "#2a3f5f"
          },
          "geo": {
           "bgcolor": "white",
           "lakecolor": "white",
           "landcolor": "#E5ECF6",
           "showlakes": true,
           "showland": true,
           "subunitcolor": "white"
          },
          "hoverlabel": {
           "align": "left"
          },
          "hovermode": "closest",
          "mapbox": {
           "style": "light"
          },
          "paper_bgcolor": "white",
          "plot_bgcolor": "#E5ECF6",
          "polar": {
           "angularaxis": {
            "gridcolor": "white",
            "linecolor": "white",
            "ticks": ""
           },
           "bgcolor": "#E5ECF6",
           "radialaxis": {
            "gridcolor": "white",
            "linecolor": "white",
            "ticks": ""
           }
          },
          "scene": {
           "xaxis": {
            "backgroundcolor": "#E5ECF6",
            "gridcolor": "white",
            "gridwidth": 2,
            "linecolor": "white",
            "showbackground": true,
            "ticks": "",
            "zerolinecolor": "white"
           },
           "yaxis": {
            "backgroundcolor": "#E5ECF6",
            "gridcolor": "white",
            "gridwidth": 2,
            "linecolor": "white",
            "showbackground": true,
            "ticks": "",
            "zerolinecolor": "white"
           },
           "zaxis": {
            "backgroundcolor": "#E5ECF6",
            "gridcolor": "white",
            "gridwidth": 2,
            "linecolor": "white",
            "showbackground": true,
            "ticks": "",
            "zerolinecolor": "white"
           }
          },
          "shapedefaults": {
           "line": {
            "color": "#2a3f5f"
           }
          },
          "ternary": {
           "aaxis": {
            "gridcolor": "white",
            "linecolor": "white",
            "ticks": ""
           },
           "baxis": {
            "gridcolor": "white",
            "linecolor": "white",
            "ticks": ""
           },
           "bgcolor": "#E5ECF6",
           "caxis": {
            "gridcolor": "white",
            "linecolor": "white",
            "ticks": ""
           }
          },
          "title": {
           "x": 0.05
          },
          "xaxis": {
           "automargin": true,
           "gridcolor": "white",
           "linecolor": "white",
           "ticks": "",
           "title": {
            "standoff": 15
           },
           "zerolinecolor": "white",
           "zerolinewidth": 2
          },
          "yaxis": {
           "automargin": true,
           "gridcolor": "white",
           "linecolor": "white",
           "ticks": "",
           "title": {
            "standoff": 15
           },
           "zerolinecolor": "white",
           "zerolinewidth": 2
          }
         }
        },
        "title": {
         "text": "Average elos over time for the Titled Tuesday Editions in the 2022 Double Elimination era",
         "x": 0.5
        },
        "xaxis": {
         "anchor": "y",
         "domain": [
          0,
          0.94
         ]
        },
        "yaxis": {
         "anchor": "x",
         "domain": [
          0,
          1
         ],
         "range": [
          0,
          2600
         ],
         "title": {
          "text": "Average Elos"
         }
        },
        "yaxis2": {
         "anchor": "x",
         "overlaying": "y",
         "range": [
          0,
          2600
         ],
         "side": "right",
         "title": {
          "text": "Number of players"
         }
        }
       }
      },
      "text/html": [
       "<div>                            <div id=\"08b2f2c2-5e3c-4c9b-bebd-0f9ea620bdfd\" class=\"plotly-graph-div\" style=\"height:525px; width:100%;\"></div>            <script type=\"text/javascript\">                require([\"plotly\"], function(Plotly) {                    window.PLOTLYENV=window.PLOTLYENV || {};                                    if (document.getElementById(\"08b2f2c2-5e3c-4c9b-bebd-0f9ea620bdfd\")) {                    Plotly.newPlot(                        \"08b2f2c2-5e3c-4c9b-bebd-0f9ea620bdfd\",                        [{\"hovertemplate\":\"Average Elo Edition=Average Elo Early\\u003cbr\\u003eDate=%{x}\\u003cbr\\u003eavg_elo=%{y}\\u003cextra\\u003e\\u003c\\u002fextra\\u003e\",\"legendgroup\":\"Average Elo Early\",\"line\":{\"dash\":\"solid\"},\"marker\":{\"symbol\":\"circle\"},\"mode\":\"lines\",\"name\":\"Average Elo Early\",\"orientation\":\"v\",\"showlegend\":true,\"x\":[\"2022-02-01T00:00:00\",\"2022-02-01T00:00:00\",\"2022-02-08T00:00:00\",\"2022-02-15T00:00:00\",\"2022-02-22T00:00:00\",\"2022-03-01T00:00:00\",\"2022-03-09T00:00:00\",\"2022-03-15T00:00:00\",\"2022-03-22T00:00:00\",\"2022-03-29T00:00:00\",\"2022-04-05T00:00:00\",\"2022-04-12T00:00:00\",\"2022-04-19T00:00:00\",\"2022-04-26T00:00:00\",\"2022-05-03T00:00:00\",\"2022-05-10T00:00:00\",\"2022-05-17T00:00:00\",\"2022-05-25T00:00:00\",\"2022-06-01T00:00:00\",\"2022-06-08T00:00:00\",\"2022-06-14T00:00:00\",\"2022-06-22T00:00:00\",\"2022-06-28T00:00:00\",\"2022-07-05T00:00:00\",\"2022-07-27T00:00:00\",\"2022-08-02T00:00:00\",\"2022-08-09T00:00:00\",\"2022-08-16T00:00:00\",\"2022-08-23T00:00:00\",\"2022-09-13T00:00:00\",\"2022-09-27T00:00:00\",\"2022-10-04T00:00:00\",\"2022-10-11T00:00:00\",\"2022-10-25T00:00:00\",\"2022-11-02T00:00:00\",\"2022-11-08T00:00:00\",\"2022-11-16T00:00:00\",\"2022-11-23T00:00:00\",\"2022-11-30T00:00:00\",\"2022-12-06T00:00:00\",\"2022-12-14T00:00:00\",\"2022-12-20T00:00:00\",\"2022-12-27T00:00:00\",\"2023-01-03T00:00:00\",\"2023-01-10T00:00:00\",\"2023-01-17T00:00:00\",\"2023-01-31T00:00:00\",\"2023-02-07T00:00:00\",\"2023-02-15T00:00:00\",\"2023-02-21T00:00:00\",\"2023-02-28T00:00:00\",\"2023-03-07T00:00:00\",\"2023-03-14T00:00:00\",\"2023-03-21T00:00:00\",\"2023-03-28T00:00:00\",\"2023-04-04T00:00:00\",\"2023-04-11T00:00:00\",\"2023-04-18T00:00:00\",\"2023-04-25T00:00:00\",\"2023-05-02T00:00:00\",\"2023-05-09T00:00:00\",\"2023-05-16T00:00:00\",\"2023-05-23T00:00:00\",\"2023-05-30T00:00:00\",\"2023-06-06T00:00:00\",\"2023-06-13T00:00:00\",\"2023-06-20T00:00:00\",\"2023-06-27T00:00:00\",\"2023-07-04T00:00:00\",\"2023-07-11T00:00:00\",\"2023-07-18T00:00:00\",\"2023-07-25T00:00:00\",\"2023-08-01T00:00:00\",\"2023-08-08T00:00:00\",\"2023-08-15T00:00:00\",\"2023-08-22T00:00:00\",\"2023-08-29T00:00:00\",\"2023-09-05T00:00:00\",\"2023-09-12T00:00:00\",\"2023-09-19T00:00:00\",\"2023-09-26T00:00:00\",\"2023-10-03T00:00:00\",\"2023-10-10T00:00:00\",\"2023-10-17T00:00:00\",\"2023-10-24T00:00:00\",\"2023-10-31T00:00:00\",\"2023-11-07T00:00:00\",\"2023-11-14T00:00:00\",\"2023-11-21T00:00:00\",\"2023-11-28T00:00:00\",\"2023-12-05T00:00:00\",\"2023-12-12T00:00:00\",\"2023-12-19T00:00:00\",\"2023-12-26T00:00:00\",\"2024-01-02T00:00:00\",\"2024-01-11T00:00:00\",\"2024-01-16T00:00:00\",\"2024-01-23T00:00:00\",\"2024-01-30T00:00:00\",\"2024-02-06T00:00:00\",\"2024-02-13T00:00:00\",\"2024-02-20T00:00:00\",\"2024-02-27T00:00:00\",\"2024-03-05T00:00:00\",\"2024-03-12T00:00:00\",\"2024-03-19T00:00:00\",\"2024-03-26T00:00:00\",\"2024-04-02T00:00:00\",\"2024-04-09T00:00:00\",\"2024-04-16T00:00:00\",\"2024-04-23T00:00:00\",\"2024-04-30T00:00:00\",\"2024-05-07T00:00:00\",\"2024-05-14T00:00:00\",\"2024-05-21T00:00:00\",\"2024-05-28T00:00:00\",\"2024-06-04T00:00:00\",\"2024-06-11T00:00:00\",\"2024-06-18T00:00:00\",\"2024-06-25T00:00:00\",\"2024-07-02T00:00:00\",\"2024-07-09T00:00:00\"],\"xaxis\":\"x\",\"y\":[2458.956818181818,2531.4113636363636,2246.9175455417067,2251.0216417910447,2254.0629557608167,2237.440770557792,2249.6914952751526,2306.120991253644,2265.735754985755,2289.2230715774845,2190.505128205128,2258.9839846252403,2257.2506188118814,2265.5414181577203,2262.0752757949385,2254.7045594577944,2432.5670454545457,2260.014488286067,2349.390482398957,2407.9513618677042,2408.004555808656,2281.4866369710467,2262.926422498365,2436.8056818181817,2295.4043927648577,2413.659090909091,2245.7875838926175,2217.7099056603774,2406.089285714286,2494.7,2229.7711377870564,2484.819696969697,2293.489981214778,2488.1318181818183,2326.253569539926,2295.848705501618,2290.9344809866393,2278.5635068153656,2292.7651515151515,2305.6955104996377,2295.799763033175,2262.1138975966564,2250.4162484316184,2306.085622710623,2298.897451705713,2300.6854521625164,2303.7212238950947,2289.498387839705,2287.897696476965,2288.5360949612405,2297.07511627907,2276.215587529976,2317.697998259356,2316.4607893388006,2307.045632333768,2289.242234468938,2301.3244541484714,2285.816425120773,2303.5165083672546,1988.8357810413886,2285.477408142999,2304.8246725813265,2236.621155638397,2276.161197916667,2272.3161652218255,2285.913391224863,2284.8487957181087,2549.1597481343283,2525.2261118450024,2509.177244945933,2520.768147086915,2523.8111390284757,2520.636382280558,2525.9002375296914,2526.3002242152465,2533.33505794702,2544.604623824451,2555.1105636578636,2547.8280885780887,2532.977489177489,2518.364359214219,2528.49343832021,2534.0745689655173,2520.689024390244,2522.709938704028,2522.3870882040383,2546.0819004524888,2555.8438081936683,2311.1419426048565,2543.5292060880297,2544.9481748535377,2545.633349585568,2247.210697271546,2527.7385350318473,2534.660714285714,2554.5934797072523,2558.817538896747,2545.4856666666665,2563.1528185076572,2546.0001471020887,2556.786523929471,2549.2893700787404,2550.8352803738317,2544.6819648619576,2593.7177608440797,2577.5054655107424,2569.170160295931,2542.9945652173915,2557.1227443609023,2547.4558388765704,2563.8300642543118,2561.3807050092764,2553.462504359958,2551.8489038785833,2565.87291249165,2544.434122871947,2543.23584571833,2555.4966276180335,2557.449590834697,2560.002841918295,2557.569721115538,2553.9599860821154],\"yaxis\":\"y\",\"type\":\"scatter\"},{\"hovertemplate\":\"Average Elo Edition=Average Elo Late\\u003cbr\\u003eDate=%{x}\\u003cbr\\u003eavg_elo=%{y}\\u003cextra\\u003e\\u003c\\u002fextra\\u003e\",\"legendgroup\":\"Average Elo Late\",\"line\":{\"dash\":\"solid\"},\"marker\":{\"symbol\":\"circle\"},\"mode\":\"lines\",\"name\":\"Average Elo Late\",\"orientation\":\"v\",\"showlegend\":true,\"x\":[\"2022-02-08T00:00:00\",\"2022-02-15T00:00:00\",\"2022-02-22T00:00:00\",\"2022-03-01T00:00:00\",\"2022-03-08T00:00:00\",\"2022-03-16T00:00:00\",\"2022-03-22T00:00:00\",\"2022-03-29T00:00:00\",\"2022-04-06T00:00:00\",\"2022-04-13T00:00:00\",\"2022-04-19T00:00:00\",\"2022-04-26T00:00:00\",\"2022-05-03T00:00:00\",\"2022-05-10T00:00:00\",\"2022-05-17T00:00:00\",\"2022-05-24T00:00:00\",\"2022-06-01T00:00:00\",\"2022-06-07T00:00:00\",\"2022-06-15T00:00:00\",\"2022-06-22T00:00:00\",\"2022-06-28T00:00:00\",\"2022-07-05T00:00:00\",\"2022-07-26T00:00:00\",\"2022-08-02T00:00:00\",\"2022-08-09T00:00:00\",\"2022-08-16T00:00:00\",\"2022-08-23T00:00:00\",\"2022-09-13T00:00:00\",\"2022-09-20T00:00:00\",\"2022-09-27T00:00:00\",\"2022-10-04T00:00:00\",\"2022-10-12T00:00:00\",\"2022-10-18T00:00:00\",\"2022-10-26T00:00:00\",\"2022-11-02T00:00:00\",\"2022-11-09T00:00:00\",\"2022-11-16T00:00:00\",\"2022-11-22T00:00:00\",\"2022-11-30T00:00:00\",\"2022-12-07T00:00:00\",\"2022-12-13T00:00:00\",\"2022-12-21T00:00:00\",\"2022-12-27T00:00:00\",\"2023-01-03T00:00:00\",\"2023-01-10T00:00:00\",\"2023-01-17T00:00:00\",\"2023-01-31T00:00:00\",\"2023-02-07T00:00:00\",\"2023-02-14T00:00:00\",\"2023-02-21T00:00:00\",\"2023-02-28T00:00:00\",\"2023-03-07T00:00:00\",\"2023-03-14T00:00:00\",\"2023-03-21T00:00:00\",\"2023-03-28T00:00:00\",\"2023-04-04T00:00:00\",\"2023-04-11T00:00:00\",\"2023-04-18T00:00:00\",\"2023-04-25T00:00:00\",\"2023-05-02T00:00:00\",\"2023-05-09T00:00:00\",\"2023-05-16T00:00:00\",\"2023-05-23T00:00:00\",\"2023-05-31T00:00:00\",\"2023-06-07T00:00:00\",\"2023-06-13T00:00:00\",\"2023-06-20T00:00:00\",\"2023-06-27T00:00:00\",\"2023-07-04T00:00:00\",\"2023-07-11T00:00:00\",\"2023-07-18T00:00:00\",\"2023-07-25T00:00:00\",\"2023-08-01T00:00:00\",\"2023-08-08T00:00:00\",\"2023-08-15T00:00:00\",\"2023-08-22T00:00:00\",\"2023-08-29T00:00:00\",\"2023-09-05T00:00:00\",\"2023-09-12T00:00:00\",\"2023-09-19T00:00:00\",\"2023-09-26T00:00:00\",\"2023-10-03T00:00:00\",\"2023-10-10T00:00:00\",\"2023-10-17T00:00:00\",\"2023-10-24T00:00:00\",\"2023-10-31T00:00:00\",\"2023-11-07T00:00:00\",\"2023-11-14T00:00:00\",\"2023-11-21T00:00:00\",\"2023-11-28T00:00:00\",\"2023-12-05T00:00:00\",\"2023-12-12T00:00:00\",\"2023-12-19T00:00:00\",\"2023-12-26T00:00:00\",\"2024-01-02T00:00:00\",\"2024-01-09T00:00:00\",\"2024-01-16T00:00:00\",\"2024-01-23T00:00:00\",\"2024-01-30T00:00:00\",\"2024-02-06T00:00:00\",\"2024-02-13T00:00:00\",\"2024-02-20T00:00:00\",\"2024-02-27T00:00:00\",\"2024-03-05T00:00:00\",\"2024-03-12T00:00:00\",\"2024-03-19T00:00:00\",\"2024-03-26T00:00:00\",\"2024-04-02T00:00:00\",\"2024-04-09T00:00:00\",\"2024-04-16T00:00:00\",\"2024-04-23T00:00:00\",\"2024-04-30T00:00:00\",\"2024-05-07T00:00:00\",\"2024-05-14T00:00:00\",\"2024-05-21T00:00:00\",\"2024-05-28T00:00:00\",\"2024-06-04T00:00:00\",\"2024-06-11T00:00:00\",\"2024-06-18T00:00:00\",\"2024-06-25T00:00:00\",\"2024-07-02T00:00:00\",\"2024-07-09T00:00:00\"],\"xaxis\":\"x\",\"y\":[2310.9857035364935,2310.4688498402556,2304.532786885246,2285.6295979469633,2319.3892045454545,2290.2759472817133,2288.9938220757826,2284.7862595419847,2353.784178847807,2319.941972920696,2308.074182732607,2308.7337180544105,2305.185239491691,2311.060810810811,2448.0602272727274,2291.874661857529,2357.207189542484,2426.3534090909093,2349.2407894736843,2306.185740236149,2310.284843205575,2346.686111111111,2321.099346405229,2410.9022727272727,2416.825,2243.366666666667,2428.3420454545453,2410.0488636363634,2445.640909090909,2362.0528846153848,2486.869696969697,2320.0685087055263,2282.3909935668335,2285.465909090909,2363.579296424452,2305.172788605697,2315.289454277286,2317.826171875,2327.8491411501122,2310.8041280539173,2328.3198113207545,2319.3433460076044,2247.0882117080996,2289.499718151071,2285.6986834230997,2280.4774746192893,2316.5492227979275,2296.1842581423402,2294.833792154164,2259.820655534941,2311.5174739423665,2299.5029744199883,2323.0384083044983,2324.63496751329,2304.400468384075,2322.017217146873,1948.7465237543454,2310.2169459962756,1916.6126259632483,1986.0753739930956,2305.2449494949497,2307.419113413932,2272.091617409995,2304.6867048346057,2315.412935323383,2319.217366946779,2304.685002895194,2542.8034238488785,2523.5277129521587,2520.5207015526166,2519.4665714285716,2523.134646962233,2507.408073070124,2520.581328751432,2528.882932840419,2537.5721649484535,2543.3311484006294,2534.37367835281,2536.698154180239,2531.067073170732,2532.7344311377246,2523.4288235294116,2543.951051051051,2523.6095171448565,2523.8383116883115,2530.003505417463,2531.71850132626,2517.7493548387097,2315.015816655907,2521.354916897507,2532.019916765755,2541.6745704467353,2260.166566806471,2504.67707641196,2531.67081604426,2560.2035830618893,2542.033469596321,2560.9431639601885,2561.225424601132,2550.7223769730736,2548.1381395348835,2541.6223241590214,2553.222305017387,2549.0908389089036,2573.9575682382133,2569.5678226514488,2555.3000992063494,2537.901081081081,2552.480935875217,2554.622077922078,2562.1015228426395,2548.9335992491788,2567.9750986193294,2563.059585492228,2549.3255813953488,2541.734238851871,2543.4289841116997,2567.2192832764504,2548.0887096774195,2547.5347658136166,2551.4334667333665,2530.583080808081],\"yaxis\":\"y\",\"type\":\"scatter\"},{\"hovertemplate\":\"Number of Players Edition=Number of Players Early\\u003cbr\\u003eDate=%{x}\\u003cbr\\u003ecount=%{y}\\u003cextra\\u003e\\u003c\\u002fextra\\u003e\",\"legendgroup\":\"Number of Players Early\",\"line\":{\"dash\":\"solid\"},\"marker\":{\"symbol\":\"circle\"},\"mode\":\"lines\",\"name\":\"Number of Players Early\",\"orientation\":\"v\",\"showlegend\":true,\"x\":[\"2022-02-01T00:00:00\",\"2022-02-01T00:00:00\",\"2022-02-08T00:00:00\",\"2022-02-15T00:00:00\",\"2022-02-22T00:00:00\",\"2022-03-01T00:00:00\",\"2022-03-09T00:00:00\",\"2022-03-15T00:00:00\",\"2022-03-22T00:00:00\",\"2022-03-29T00:00:00\",\"2022-04-05T00:00:00\",\"2022-04-12T00:00:00\",\"2022-04-19T00:00:00\",\"2022-04-26T00:00:00\",\"2022-05-03T00:00:00\",\"2022-05-10T00:00:00\",\"2022-05-17T00:00:00\",\"2022-05-25T00:00:00\",\"2022-06-01T00:00:00\",\"2022-06-08T00:00:00\",\"2022-06-14T00:00:00\",\"2022-06-22T00:00:00\",\"2022-06-28T00:00:00\",\"2022-07-05T00:00:00\",\"2022-07-27T00:00:00\",\"2022-08-02T00:00:00\",\"2022-08-09T00:00:00\",\"2022-08-16T00:00:00\",\"2022-08-23T00:00:00\",\"2022-09-13T00:00:00\",\"2022-09-27T00:00:00\",\"2022-10-04T00:00:00\",\"2022-10-11T00:00:00\",\"2022-10-25T00:00:00\",\"2022-11-02T00:00:00\",\"2022-11-08T00:00:00\",\"2022-11-16T00:00:00\",\"2022-11-23T00:00:00\",\"2022-11-30T00:00:00\",\"2022-12-06T00:00:00\",\"2022-12-14T00:00:00\",\"2022-12-20T00:00:00\",\"2022-12-27T00:00:00\",\"2023-01-03T00:00:00\",\"2023-01-10T00:00:00\",\"2023-01-17T00:00:00\",\"2023-01-31T00:00:00\",\"2023-02-07T00:00:00\",\"2023-02-15T00:00:00\",\"2023-02-21T00:00:00\",\"2023-02-28T00:00:00\",\"2023-03-07T00:00:00\",\"2023-03-14T00:00:00\",\"2023-03-21T00:00:00\",\"2023-03-28T00:00:00\",\"2023-04-04T00:00:00\",\"2023-04-11T00:00:00\",\"2023-04-18T00:00:00\",\"2023-04-25T00:00:00\",\"2023-05-02T00:00:00\",\"2023-05-09T00:00:00\",\"2023-05-16T00:00:00\",\"2023-05-23T00:00:00\",\"2023-05-30T00:00:00\",\"2023-06-06T00:00:00\",\"2023-06-13T00:00:00\",\"2023-06-20T00:00:00\",\"2023-06-27T00:00:00\",\"2023-07-04T00:00:00\",\"2023-07-11T00:00:00\",\"2023-07-18T00:00:00\",\"2023-07-25T00:00:00\",\"2023-08-01T00:00:00\",\"2023-08-08T00:00:00\",\"2023-08-15T00:00:00\",\"2023-08-22T00:00:00\",\"2023-08-29T00:00:00\",\"2023-09-05T00:00:00\",\"2023-09-12T00:00:00\",\"2023-09-19T00:00:00\",\"2023-09-26T00:00:00\",\"2023-10-03T00:00:00\",\"2023-10-10T00:00:00\",\"2023-10-17T00:00:00\",\"2023-10-24T00:00:00\",\"2023-10-31T00:00:00\",\"2023-11-07T00:00:00\",\"2023-11-14T00:00:00\",\"2023-11-21T00:00:00\",\"2023-11-28T00:00:00\",\"2023-12-05T00:00:00\",\"2023-12-12T00:00:00\",\"2023-12-19T00:00:00\",\"2023-12-26T00:00:00\",\"2024-01-02T00:00:00\",\"2024-01-11T00:00:00\",\"2024-01-16T00:00:00\",\"2024-01-23T00:00:00\",\"2024-01-30T00:00:00\",\"2024-02-06T00:00:00\",\"2024-02-13T00:00:00\",\"2024-02-20T00:00:00\",\"2024-02-27T00:00:00\",\"2024-03-05T00:00:00\",\"2024-03-12T00:00:00\",\"2024-03-19T00:00:00\",\"2024-03-26T00:00:00\",\"2024-04-02T00:00:00\",\"2024-04-09T00:00:00\",\"2024-04-16T00:00:00\",\"2024-04-23T00:00:00\",\"2024-04-30T00:00:00\",\"2024-05-07T00:00:00\",\"2024-05-14T00:00:00\",\"2024-05-21T00:00:00\",\"2024-05-28T00:00:00\",\"2024-06-04T00:00:00\",\"2024-06-11T00:00:00\",\"2024-06-18T00:00:00\",\"2024-06-25T00:00:00\",\"2024-07-02T00:00:00\",\"2024-07-09T00:00:00\"],\"xaxis\":\"x\",\"y\":[440,440,2086,2010,2057,1739,1799,1029,1404,1439,1170,1561,1616,1509,1541,1623,440,1622,767,514,439,1347,1529,440,774,440,1490,1484,280,440,1916,330,1597,330,1891,1854,1946,1614,1650,1381,1688,1914,1594,2184,2433,2289,2059,2171,2214,2064,2150,2085,1149,1951,2301,1996,2290,2070,2211,2247,2014,2367,2146,1920,1961,2188,2242,2144,2271,2127,2094,2388,2438,2526,2230,2416,2552,2537,2574,2310,2138,2286,2320,2050,2284,1882,2210,2148,2265,2431,2219,2051,2309,1570,2352,3006,2828,3000,3069,3399,3176,2794,2996,2789,1706,2653,2433,2760,2660,2706,2957,2695,2867,2965,2994,2702,2826,2817,3055,2815,2761,2874],\"yaxis\":\"y2\",\"type\":\"scatter\"},{\"hovertemplate\":\"Number of Players Edition=Number of Players Late\\u003cbr\\u003eDate=%{x}\\u003cbr\\u003ecount=%{y}\\u003cextra\\u003e\\u003c\\u002fextra\\u003e\",\"legendgroup\":\"Number of Players Late\",\"line\":{\"dash\":\"solid\"},\"marker\":{\"symbol\":\"circle\"},\"mode\":\"lines\",\"name\":\"Number of Players Late\",\"orientation\":\"v\",\"showlegend\":true,\"x\":[\"2022-02-08T00:00:00\",\"2022-02-15T00:00:00\",\"2022-02-22T00:00:00\",\"2022-03-01T00:00:00\",\"2022-03-08T00:00:00\",\"2022-03-16T00:00:00\",\"2022-03-22T00:00:00\",\"2022-03-29T00:00:00\",\"2022-04-06T00:00:00\",\"2022-04-13T00:00:00\",\"2022-04-19T00:00:00\",\"2022-04-26T00:00:00\",\"2022-05-03T00:00:00\",\"2022-05-10T00:00:00\",\"2022-05-17T00:00:00\",\"2022-05-24T00:00:00\",\"2022-06-01T00:00:00\",\"2022-06-07T00:00:00\",\"2022-06-15T00:00:00\",\"2022-06-22T00:00:00\",\"2022-06-28T00:00:00\",\"2022-07-05T00:00:00\",\"2022-07-26T00:00:00\",\"2022-08-02T00:00:00\",\"2022-08-09T00:00:00\",\"2022-08-16T00:00:00\",\"2022-08-23T00:00:00\",\"2022-09-13T00:00:00\",\"2022-09-20T00:00:00\",\"2022-09-27T00:00:00\",\"2022-10-04T00:00:00\",\"2022-10-12T00:00:00\",\"2022-10-18T00:00:00\",\"2022-10-26T00:00:00\",\"2022-11-02T00:00:00\",\"2022-11-09T00:00:00\",\"2022-11-16T00:00:00\",\"2022-11-22T00:00:00\",\"2022-11-30T00:00:00\",\"2022-12-07T00:00:00\",\"2022-12-13T00:00:00\",\"2022-12-21T00:00:00\",\"2022-12-27T00:00:00\",\"2023-01-03T00:00:00\",\"2023-01-10T00:00:00\",\"2023-01-17T00:00:00\",\"2023-01-31T00:00:00\",\"2023-02-07T00:00:00\",\"2023-02-14T00:00:00\",\"2023-02-21T00:00:00\",\"2023-02-28T00:00:00\",\"2023-03-07T00:00:00\",\"2023-03-14T00:00:00\",\"2023-03-21T00:00:00\",\"2023-03-28T00:00:00\",\"2023-04-04T00:00:00\",\"2023-04-11T00:00:00\",\"2023-04-18T00:00:00\",\"2023-04-25T00:00:00\",\"2023-05-02T00:00:00\",\"2023-05-09T00:00:00\",\"2023-05-16T00:00:00\",\"2023-05-23T00:00:00\",\"2023-05-31T00:00:00\",\"2023-06-07T00:00:00\",\"2023-06-13T00:00:00\",\"2023-06-20T00:00:00\",\"2023-06-27T00:00:00\",\"2023-07-04T00:00:00\",\"2023-07-11T00:00:00\",\"2023-07-18T00:00:00\",\"2023-07-25T00:00:00\",\"2023-08-01T00:00:00\",\"2023-08-08T00:00:00\",\"2023-08-15T00:00:00\",\"2023-08-22T00:00:00\",\"2023-08-29T00:00:00\",\"2023-09-05T00:00:00\",\"2023-09-12T00:00:00\",\"2023-09-19T00:00:00\",\"2023-09-26T00:00:00\",\"2023-10-03T00:00:00\",\"2023-10-10T00:00:00\",\"2023-10-17T00:00:00\",\"2023-10-24T00:00:00\",\"2023-10-31T00:00:00\",\"2023-11-07T00:00:00\",\"2023-11-14T00:00:00\",\"2023-11-21T00:00:00\",\"2023-11-28T00:00:00\",\"2023-12-05T00:00:00\",\"2023-12-12T00:00:00\",\"2023-12-19T00:00:00\",\"2023-12-26T00:00:00\",\"2024-01-02T00:00:00\",\"2024-01-09T00:00:00\",\"2024-01-16T00:00:00\",\"2024-01-23T00:00:00\",\"2024-01-30T00:00:00\",\"2024-02-06T00:00:00\",\"2024-02-13T00:00:00\",\"2024-02-20T00:00:00\",\"2024-02-27T00:00:00\",\"2024-03-05T00:00:00\",\"2024-03-12T00:00:00\",\"2024-03-19T00:00:00\",\"2024-03-26T00:00:00\",\"2024-04-02T00:00:00\",\"2024-04-09T00:00:00\",\"2024-04-16T00:00:00\",\"2024-04-23T00:00:00\",\"2024-04-30T00:00:00\",\"2024-05-07T00:00:00\",\"2024-05-14T00:00:00\",\"2024-05-21T00:00:00\",\"2024-05-28T00:00:00\",\"2024-06-04T00:00:00\",\"2024-06-11T00:00:00\",\"2024-06-18T00:00:00\",\"2024-06-25T00:00:00\",\"2024-07-02T00:00:00\",\"2024-07-09T00:00:00\"],\"xaxis\":\"x\",\"y\":[1329,1252,1281,1169,1056,1214,1214,1048,1163,1034,1193,1213,1023,1184,440,1109,765,440,760,1101,1148,720,765,440,440,1125,440,440,440,624,330,1321,1399,1364,1734,1334,1356,1280,1339,1187,1060,1315,1247,1774,1671,1576,1737,1658,1453,1617,1631,1681,1445,1693,1708,1423,1726,1611,1687,1738,1584,1737,1861,1572,1608,1785,1727,1694,1714,1739,1750,1827,1697,1746,1623,1940,1907,1797,1842,1640,1670,1700,1665,1429,1540,1569,1508,1550,1549,1444,1682,1455,1669,1505,2169,2149,1957,1909,1943,2154,2150,1962,2013,1943,2015,2278,2016,1850,1731,1925,1970,2131,2028,2123,2064,1951,2077,2344,2232,2071,1999,1980],\"yaxis\":\"y2\",\"type\":\"scatter\"}],                        {\"template\":{\"data\":{\"histogram2dcontour\":[{\"type\":\"histogram2dcontour\",\"colorbar\":{\"outlinewidth\":0,\"ticks\":\"\"},\"colorscale\":[[0.0,\"#0d0887\"],[0.1111111111111111,\"#46039f\"],[0.2222222222222222,\"#7201a8\"],[0.3333333333333333,\"#9c179e\"],[0.4444444444444444,\"#bd3786\"],[0.5555555555555556,\"#d8576b\"],[0.6666666666666666,\"#ed7953\"],[0.7777777777777778,\"#fb9f3a\"],[0.8888888888888888,\"#fdca26\"],[1.0,\"#f0f921\"]]}],\"choropleth\":[{\"type\":\"choropleth\",\"colorbar\":{\"outlinewidth\":0,\"ticks\":\"\"}}],\"histogram2d\":[{\"type\":\"histogram2d\",\"colorbar\":{\"outlinewidth\":0,\"ticks\":\"\"},\"colorscale\":[[0.0,\"#0d0887\"],[0.1111111111111111,\"#46039f\"],[0.2222222222222222,\"#7201a8\"],[0.3333333333333333,\"#9c179e\"],[0.4444444444444444,\"#bd3786\"],[0.5555555555555556,\"#d8576b\"],[0.6666666666666666,\"#ed7953\"],[0.7777777777777778,\"#fb9f3a\"],[0.8888888888888888,\"#fdca26\"],[1.0,\"#f0f921\"]]}],\"heatmap\":[{\"type\":\"heatmap\",\"colorbar\":{\"outlinewidth\":0,\"ticks\":\"\"},\"colorscale\":[[0.0,\"#0d0887\"],[0.1111111111111111,\"#46039f\"],[0.2222222222222222,\"#7201a8\"],[0.3333333333333333,\"#9c179e\"],[0.4444444444444444,\"#bd3786\"],[0.5555555555555556,\"#d8576b\"],[0.6666666666666666,\"#ed7953\"],[0.7777777777777778,\"#fb9f3a\"],[0.8888888888888888,\"#fdca26\"],[1.0,\"#f0f921\"]]}],\"heatmapgl\":[{\"type\":\"heatmapgl\",\"colorbar\":{\"outlinewidth\":0,\"ticks\":\"\"},\"colorscale\":[[0.0,\"#0d0887\"],[0.1111111111111111,\"#46039f\"],[0.2222222222222222,\"#7201a8\"],[0.3333333333333333,\"#9c179e\"],[0.4444444444444444,\"#bd3786\"],[0.5555555555555556,\"#d8576b\"],[0.6666666666666666,\"#ed7953\"],[0.7777777777777778,\"#fb9f3a\"],[0.8888888888888888,\"#fdca26\"],[1.0,\"#f0f921\"]]}],\"contourcarpet\":[{\"type\":\"contourcarpet\",\"colorbar\":{\"outlinewidth\":0,\"ticks\":\"\"}}],\"contour\":[{\"type\":\"contour\",\"colorbar\":{\"outlinewidth\":0,\"ticks\":\"\"},\"colorscale\":[[0.0,\"#0d0887\"],[0.1111111111111111,\"#46039f\"],[0.2222222222222222,\"#7201a8\"],[0.3333333333333333,\"#9c179e\"],[0.4444444444444444,\"#bd3786\"],[0.5555555555555556,\"#d8576b\"],[0.6666666666666666,\"#ed7953\"],[0.7777777777777778,\"#fb9f3a\"],[0.8888888888888888,\"#fdca26\"],[1.0,\"#f0f921\"]]}],\"surface\":[{\"type\":\"surface\",\"colorbar\":{\"outlinewidth\":0,\"ticks\":\"\"},\"colorscale\":[[0.0,\"#0d0887\"],[0.1111111111111111,\"#46039f\"],[0.2222222222222222,\"#7201a8\"],[0.3333333333333333,\"#9c179e\"],[0.4444444444444444,\"#bd3786\"],[0.5555555555555556,\"#d8576b\"],[0.6666666666666666,\"#ed7953\"],[0.7777777777777778,\"#fb9f3a\"],[0.8888888888888888,\"#fdca26\"],[1.0,\"#f0f921\"]]}],\"mesh3d\":[{\"type\":\"mesh3d\",\"colorbar\":{\"outlinewidth\":0,\"ticks\":\"\"}}],\"scatter\":[{\"fillpattern\":{\"fillmode\":\"overlay\",\"size\":10,\"solidity\":0.2},\"type\":\"scatter\"}],\"parcoords\":[{\"type\":\"parcoords\",\"line\":{\"colorbar\":{\"outlinewidth\":0,\"ticks\":\"\"}}}],\"scatterpolargl\":[{\"type\":\"scatterpolargl\",\"marker\":{\"colorbar\":{\"outlinewidth\":0,\"ticks\":\"\"}}}],\"bar\":[{\"error_x\":{\"color\":\"#2a3f5f\"},\"error_y\":{\"color\":\"#2a3f5f\"},\"marker\":{\"line\":{\"color\":\"#E5ECF6\",\"width\":0.5},\"pattern\":{\"fillmode\":\"overlay\",\"size\":10,\"solidity\":0.2}},\"type\":\"bar\"}],\"scattergeo\":[{\"type\":\"scattergeo\",\"marker\":{\"colorbar\":{\"outlinewidth\":0,\"ticks\":\"\"}}}],\"scatterpolar\":[{\"type\":\"scatterpolar\",\"marker\":{\"colorbar\":{\"outlinewidth\":0,\"ticks\":\"\"}}}],\"histogram\":[{\"marker\":{\"pattern\":{\"fillmode\":\"overlay\",\"size\":10,\"solidity\":0.2}},\"type\":\"histogram\"}],\"scattergl\":[{\"type\":\"scattergl\",\"marker\":{\"colorbar\":{\"outlinewidth\":0,\"ticks\":\"\"}}}],\"scatter3d\":[{\"type\":\"scatter3d\",\"line\":{\"colorbar\":{\"outlinewidth\":0,\"ticks\":\"\"}},\"marker\":{\"colorbar\":{\"outlinewidth\":0,\"ticks\":\"\"}}}],\"scattermapbox\":[{\"type\":\"scattermapbox\",\"marker\":{\"colorbar\":{\"outlinewidth\":0,\"ticks\":\"\"}}}],\"scatterternary\":[{\"type\":\"scatterternary\",\"marker\":{\"colorbar\":{\"outlinewidth\":0,\"ticks\":\"\"}}}],\"scattercarpet\":[{\"type\":\"scattercarpet\",\"marker\":{\"colorbar\":{\"outlinewidth\":0,\"ticks\":\"\"}}}],\"carpet\":[{\"aaxis\":{\"endlinecolor\":\"#2a3f5f\",\"gridcolor\":\"white\",\"linecolor\":\"white\",\"minorgridcolor\":\"white\",\"startlinecolor\":\"#2a3f5f\"},\"baxis\":{\"endlinecolor\":\"#2a3f5f\",\"gridcolor\":\"white\",\"linecolor\":\"white\",\"minorgridcolor\":\"white\",\"startlinecolor\":\"#2a3f5f\"},\"type\":\"carpet\"}],\"table\":[{\"cells\":{\"fill\":{\"color\":\"#EBF0F8\"},\"line\":{\"color\":\"white\"}},\"header\":{\"fill\":{\"color\":\"#C8D4E3\"},\"line\":{\"color\":\"white\"}},\"type\":\"table\"}],\"barpolar\":[{\"marker\":{\"line\":{\"color\":\"#E5ECF6\",\"width\":0.5},\"pattern\":{\"fillmode\":\"overlay\",\"size\":10,\"solidity\":0.2}},\"type\":\"barpolar\"}],\"pie\":[{\"automargin\":true,\"type\":\"pie\"}]},\"layout\":{\"autotypenumbers\":\"strict\",\"colorway\":[\"#636efa\",\"#EF553B\",\"#00cc96\",\"#ab63fa\",\"#FFA15A\",\"#19d3f3\",\"#FF6692\",\"#B6E880\",\"#FF97FF\",\"#FECB52\"],\"font\":{\"color\":\"#2a3f5f\"},\"hovermode\":\"closest\",\"hoverlabel\":{\"align\":\"left\"},\"paper_bgcolor\":\"white\",\"plot_bgcolor\":\"#E5ECF6\",\"polar\":{\"bgcolor\":\"#E5ECF6\",\"angularaxis\":{\"gridcolor\":\"white\",\"linecolor\":\"white\",\"ticks\":\"\"},\"radialaxis\":{\"gridcolor\":\"white\",\"linecolor\":\"white\",\"ticks\":\"\"}},\"ternary\":{\"bgcolor\":\"#E5ECF6\",\"aaxis\":{\"gridcolor\":\"white\",\"linecolor\":\"white\",\"ticks\":\"\"},\"baxis\":{\"gridcolor\":\"white\",\"linecolor\":\"white\",\"ticks\":\"\"},\"caxis\":{\"gridcolor\":\"white\",\"linecolor\":\"white\",\"ticks\":\"\"}},\"coloraxis\":{\"colorbar\":{\"outlinewidth\":0,\"ticks\":\"\"}},\"colorscale\":{\"sequential\":[[0.0,\"#0d0887\"],[0.1111111111111111,\"#46039f\"],[0.2222222222222222,\"#7201a8\"],[0.3333333333333333,\"#9c179e\"],[0.4444444444444444,\"#bd3786\"],[0.5555555555555556,\"#d8576b\"],[0.6666666666666666,\"#ed7953\"],[0.7777777777777778,\"#fb9f3a\"],[0.8888888888888888,\"#fdca26\"],[1.0,\"#f0f921\"]],\"sequentialminus\":[[0.0,\"#0d0887\"],[0.1111111111111111,\"#46039f\"],[0.2222222222222222,\"#7201a8\"],[0.3333333333333333,\"#9c179e\"],[0.4444444444444444,\"#bd3786\"],[0.5555555555555556,\"#d8576b\"],[0.6666666666666666,\"#ed7953\"],[0.7777777777777778,\"#fb9f3a\"],[0.8888888888888888,\"#fdca26\"],[1.0,\"#f0f921\"]],\"diverging\":[[0,\"#8e0152\"],[0.1,\"#c51b7d\"],[0.2,\"#de77ae\"],[0.3,\"#f1b6da\"],[0.4,\"#fde0ef\"],[0.5,\"#f7f7f7\"],[0.6,\"#e6f5d0\"],[0.7,\"#b8e186\"],[0.8,\"#7fbc41\"],[0.9,\"#4d9221\"],[1,\"#276419\"]]},\"xaxis\":{\"gridcolor\":\"white\",\"linecolor\":\"white\",\"ticks\":\"\",\"title\":{\"standoff\":15},\"zerolinecolor\":\"white\",\"automargin\":true,\"zerolinewidth\":2},\"yaxis\":{\"gridcolor\":\"white\",\"linecolor\":\"white\",\"ticks\":\"\",\"title\":{\"standoff\":15},\"zerolinecolor\":\"white\",\"automargin\":true,\"zerolinewidth\":2},\"scene\":{\"xaxis\":{\"backgroundcolor\":\"#E5ECF6\",\"gridcolor\":\"white\",\"linecolor\":\"white\",\"showbackground\":true,\"ticks\":\"\",\"zerolinecolor\":\"white\",\"gridwidth\":2},\"yaxis\":{\"backgroundcolor\":\"#E5ECF6\",\"gridcolor\":\"white\",\"linecolor\":\"white\",\"showbackground\":true,\"ticks\":\"\",\"zerolinecolor\":\"white\",\"gridwidth\":2},\"zaxis\":{\"backgroundcolor\":\"#E5ECF6\",\"gridcolor\":\"white\",\"linecolor\":\"white\",\"showbackground\":true,\"ticks\":\"\",\"zerolinecolor\":\"white\",\"gridwidth\":2}},\"shapedefaults\":{\"line\":{\"color\":\"#2a3f5f\"}},\"annotationdefaults\":{\"arrowcolor\":\"#2a3f5f\",\"arrowhead\":0,\"arrowwidth\":1},\"geo\":{\"bgcolor\":\"white\",\"landcolor\":\"#E5ECF6\",\"subunitcolor\":\"white\",\"showland\":true,\"showlakes\":true,\"lakecolor\":\"white\"},\"title\":{\"x\":0.05},\"mapbox\":{\"style\":\"light\"}}},\"xaxis\":{\"anchor\":\"y\",\"domain\":[0.0,0.94]},\"yaxis\":{\"anchor\":\"x\",\"domain\":[0.0,1.0],\"title\":{\"text\":\"Average Elos\"},\"range\":[0,2600]},\"yaxis2\":{\"anchor\":\"x\",\"overlaying\":\"y\",\"side\":\"right\",\"title\":{\"text\":\"Number of players\"},\"range\":[0,2600]},\"title\":{\"text\":\"Average elos over time for the Titled Tuesday Editions in the 2022 Double Elimination era\",\"x\":0.5},\"legend\":{\"title\":{\"text\":\"Edition\"}}},                        {\"responsive\": true}                    ).then(function(){\n",
       "                            \n",
       "var gd = document.getElementById('08b2f2c2-5e3c-4c9b-bebd-0f9ea620bdfd');\n",
       "var x = new MutationObserver(function (mutations, observer) {{\n",
       "        var display = window.getComputedStyle(gd).display;\n",
       "        if (!display || display === 'none') {{\n",
       "            console.log([gd, 'removed!']);\n",
       "            Plotly.purge(gd);\n",
       "            observer.disconnect();\n",
       "        }}\n",
       "}});\n",
       "\n",
       "// Listen for the removal of the full notebook cells\n",
       "var notebookContainer = gd.closest('#notebook-container');\n",
       "if (notebookContainer) {{\n",
       "    x.observe(notebookContainer, {childList: true});\n",
       "}}\n",
       "\n",
       "// Listen for the clearing of the current output cell\n",
       "var outputEl = gd.closest('.output');\n",
       "if (outputEl) {{\n",
       "    x.observe(outputEl, {childList: true});\n",
       "}}\n",
       "\n",
       "                        })                };                });            </script>        </div>"
      ]
     },
     "metadata": {},
     "output_type": "display_data"
    }
   ],
   "source": [
    "fig = px.line(\n",
    "    df_average_elos.sort_values(\"Date\", ascending=True),\n",
    "    x=\"Date\",\n",
    "    y=\"avg_elo\",\n",
    "    color=\"Average Elo Edition\",\n",
    ")\n",
    "\n",
    "fig2 = px.line(\n",
    "    df_average_elos.sort_values(\"Date\", ascending=True),\n",
    "    x=\"Date\",\n",
    "    y=\"count\",\n",
    "    color=\"Number of Players Edition\",\n",
    ")\n",
    "\n",
    "fig2.update_traces(yaxis=\"y2\")\n",
    "\n",
    "subfig = make_subplots(specs=[[{\"secondary_y\": True}]])\n",
    "subfig.update_layout(\n",
    "    title_text=\"Average elos over time for the Titled Tuesday Editions in the 2022 Double Elimination era\",\n",
    "    title_x=0.5,\n",
    "    yaxis_title=\"Average Elos\",\n",
    "    yaxis2_title=\"Number of players\",\n",
    "    legend_title=\"Edition\",\n",
    ")\n",
    "\n",
    "subfig.add_traces(fig.data + fig2.data)\n",
    "subfig.update_yaxes(secondary_y=True, range=[0, 3500])\n",
    "subfig.update_yaxes(range=[0, 2600])\n",
    "# recoloring is necessary otherwise lines from fig und fig2 would share each color\n",
    "# e.g. Linear-, Log- = blue; Linear+, Log+ = red... we don't want this\n",
    "subfig.for_each_trace(lambda t: t.update(line=dict(color=t.marker.color)))\n",
    "subfig.show()"
   ]
  },
  {
   "cell_type": "code",
   "execution_count": 19,
   "metadata": {},
   "outputs": [
    {
     "data": {
      "text/plain": [
       "(1500.0, 3000.0)"
      ]
     },
     "execution_count": 19,
     "metadata": {},
     "output_type": "execute_result"
    },
    {
     "data": {
      "image/png": "[encoded data removed]",
      "text/plain": [
       "<Figure size 2000x1000 with 1 Axes>"
      ]
     },
     "metadata": {},
     "output_type": "display_data"
    }
   ],
   "source": [
    "ax = plt.subplots(figsize=(20, 10))[1]\n",
    "\n",
    "sns.lineplot(\n",
    "    data=df_average_elos,\n",
    "    x=\"Date\",\n",
    "    y=\"avg_elo\",\n",
    "    hue=\"Edition\",\n",
    "    ax=ax,\n",
    ")\n",
    "\n",
    "ax.set_ylabel(\"Average Elos\")\n",
    "ax.set_title(\n",
    "    \"\"\"Average elos over time for the Titled Tuesday Editions in the 2022 Double Elimination era separated by late and early Editions\n",
    "             (Y Axis does not start at 0)\"\"\"\n",
    ")\n",
    "ax.set_ylim(1500, 3000)"
   ]
  },
  {
   "cell_type": "markdown",
   "metadata": {},
   "source": [
    "## Notes\n",
    "\n",
    "We see two distinct details here, first there's a spike in the average elo just after Juli 2023.\n",
    "\n",
    "The second is a few very noticeable dips, first around April 2024 and another two dips just before January 2024.\n",
    "\n",
    "Let's inverstigate why this could be.\n"
   ]
  },
  {
   "cell_type": "code",
   "execution_count": 20,
   "metadata": {},
   "outputs": [
    {
     "data": {
      "text/html": [
       "<div>\n",
       "<style scoped>\n",
       "    .dataframe tbody tr th:only-of-type {\n",
       "        vertical-align: middle;\n",
       "    }\n",
       "\n",
       "    .dataframe tbody tr th {\n",
       "        vertical-align: top;\n",
       "    }\n",
       "\n",
       "    .dataframe thead th {\n",
       "        text-align: right;\n",
       "    }\n",
       "</style>\n",
       "<table border=\"1\" class=\"dataframe\">\n",
       "  <thead>\n",
       "    <tr style=\"text-align: right;\">\n",
       "      <th></th>\n",
       "      <th>Event</th>\n",
       "      <th>Date</th>\n",
       "      <th>avg_elo</th>\n",
       "      <th>Edition</th>\n",
       "    </tr>\n",
       "  </thead>\n",
       "  <tbody>\n",
       "    <tr>\n",
       "      <th>222</th>\n",
       "      <td>Titled Tuesday Blitz April 25 Late 2023</td>\n",
       "      <td>2023-04-25</td>\n",
       "      <td>1916.612626</td>\n",
       "      <td>Late</td>\n",
       "    </tr>\n",
       "    <tr>\n",
       "      <th>186</th>\n",
       "      <td>Titled Tuesday Blitz April 11 Late 2023</td>\n",
       "      <td>2023-04-11</td>\n",
       "      <td>1948.746524</td>\n",
       "      <td>Late</td>\n",
       "    </tr>\n",
       "    <tr>\n",
       "      <th>14</th>\n",
       "      <td>Titled Tuesday Blitz May 2 Late 2023</td>\n",
       "      <td>2023-05-02</td>\n",
       "      <td>1986.075374</td>\n",
       "      <td>Late</td>\n",
       "    </tr>\n",
       "    <tr>\n",
       "      <th>28</th>\n",
       "      <td>Titled Tuesday Blitz May 2 Early 2023</td>\n",
       "      <td>2023-05-02</td>\n",
       "      <td>1988.835781</td>\n",
       "      <td>Early</td>\n",
       "    </tr>\n",
       "  </tbody>\n",
       "</table>\n",
       "</div>"
      ],
      "text/plain": [
       "                                       Event       Date      avg_elo Edition\n",
       "222  Titled Tuesday Blitz April 25 Late 2023 2023-04-25  1916.612626    Late\n",
       "186  Titled Tuesday Blitz April 11 Late 2023 2023-04-11  1948.746524    Late\n",
       "14      Titled Tuesday Blitz May 2 Late 2023 2023-05-02  1986.075374    Late\n",
       "28     Titled Tuesday Blitz May 2 Early 2023 2023-05-02  1988.835781   Early"
      ]
     },
     "execution_count": 20,
     "metadata": {},
     "output_type": "execute_result"
    }
   ],
   "source": [
    "df_average_elos[\n",
    "    (df_average_elos[\"Date\"] < \"2023-06-01\") & (df_average_elos[\"avg_elo\"] < 2000)\n",
    "].sort_values(\"avg_elo\", ascending=True).head(10)"
   ]
  },
  {
   "cell_type": "code",
   "execution_count": 21,
   "metadata": {},
   "outputs": [
    {
     "data": {
      "text/html": [
       "<div>\n",
       "<style scoped>\n",
       "    .dataframe tbody tr th:only-of-type {\n",
       "        vertical-align: middle;\n",
       "    }\n",
       "\n",
       "    .dataframe tbody tr th {\n",
       "        vertical-align: top;\n",
       "    }\n",
       "\n",
       "    .dataframe thead th {\n",
       "        text-align: right;\n",
       "    }\n",
       "</style>\n",
       "<table border=\"1\" class=\"dataframe\">\n",
       "  <thead>\n",
       "    <tr style=\"text-align: right;\">\n",
       "      <th></th>\n",
       "      <th>Event</th>\n",
       "      <th>Date</th>\n",
       "      <th>avg_elo</th>\n",
       "      <th>Edition</th>\n",
       "    </tr>\n",
       "  </thead>\n",
       "  <tbody>\n",
       "    <tr>\n",
       "      <th>81</th>\n",
       "      <td>December 19 Early 2023</td>\n",
       "      <td>2023-12-19</td>\n",
       "      <td>2247.210697</td>\n",
       "      <td>Early</td>\n",
       "    </tr>\n",
       "    <tr>\n",
       "      <th>9</th>\n",
       "      <td>December 19 Late 2023</td>\n",
       "      <td>2023-12-19</td>\n",
       "      <td>2260.166567</td>\n",
       "      <td>Late</td>\n",
       "    </tr>\n",
       "    <tr>\n",
       "      <th>35</th>\n",
       "      <td>November 21 Early 2023</td>\n",
       "      <td>2023-11-21</td>\n",
       "      <td>2311.141943</td>\n",
       "      <td>Early</td>\n",
       "    </tr>\n",
       "    <tr>\n",
       "      <th>12</th>\n",
       "      <td>November 21 Late 2023</td>\n",
       "      <td>2023-11-21</td>\n",
       "      <td>2315.015817</td>\n",
       "      <td>Late</td>\n",
       "    </tr>\n",
       "  </tbody>\n",
       "</table>\n",
       "</div>"
      ],
      "text/plain": [
       "                     Event       Date      avg_elo Edition\n",
       "81  December 19 Early 2023 2023-12-19  2247.210697   Early\n",
       "9    December 19 Late 2023 2023-12-19  2260.166567    Late\n",
       "35  November 21 Early 2023 2023-11-21  2311.141943   Early\n",
       "12   November 21 Late 2023 2023-11-21  2315.015817    Late"
      ]
     },
     "execution_count": 21,
     "metadata": {},
     "output_type": "execute_result"
    }
   ],
   "source": [
    "df_average_elos[\n",
    "    (df_average_elos[\"Date\"] > \"2023-11-01\") & (df_average_elos[\"avg_elo\"] < 2500)\n",
    "].sort_values(\"avg_elo\", ascending=True).head(10)"
   ]
  },
  {
   "cell_type": "markdown",
   "metadata": {},
   "source": [
    "The Dates that we need to analyze are:\n",
    "\n",
    "- 2023-04-25\n",
    "- 2023-04-11\n",
    "- 2023-05-02\n",
    "- 2023-11-12\n",
    "- 2023-12-19\n"
   ]
  },
  {
   "cell_type": "markdown",
   "metadata": {},
   "source": [
    "My first hypothesis is that there is a big tournament happening during these days, let's check that.\n"
   ]
  }
 ],
 "metadata": {
  "kernelspec": {
   "display_name": "Python 3 (ipykernel)",
   "language": "python",
   "name": "python3"
  },
  "language_info": {
   "codemirror_mode": {
    "name": "ipython",
    "version": 3
   },
   "file_extension": ".py",
   "mimetype": "text/x-python",
   "name": "python",
   "nbconvert_exporter": "python",
   "pygments_lexer": "ipython3",
   "version": "3.10.13"
  }
 },
 "nbformat": 4,
 "nbformat_minor": 2
}
