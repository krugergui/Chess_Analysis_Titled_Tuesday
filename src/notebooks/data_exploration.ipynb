{
 "cells": [
  {
   "cell_type": "code",
   "execution_count": 3,
   "metadata": {},
   "outputs": [],
   "source": [
    "import os\n",
    "import pymongo\n",
    "import pandas as pd\n",
    "from dotenv import load_dotenv\n",
    "from datetime import datetime\n",
    "\n",
    "load_dotenv()\n",
    "\n",
    "MONGO_DB_USER = os.environ[\"MONGO_DB_USER\"]\n",
    "MONGO_DB_PASSWORD = os.environ[\"MONGO_DB_PASSWORD\"]\n",
    "MONGO_DB_HOST = os.environ[\"MONGO_DB_HOST\"]\n",
    "MONGO_DB_PORT = os.environ[\"MONGO_DB_PORT\"]\n",
    "\n",
    "client = pymongo.MongoClient(\n",
    "    f\"mongodb://{MONGO_DB_USER}:{MONGO_DB_PASSWORD}@{MONGO_DB_HOST}:{MONGO_DB_PORT}/\"\n",
    ")\n",
    "\n",
    "silver_db = client.silver\n",
    "silver_events = silver_db.events\n",
    "silver_games = silver_db.games"
   ]
  },
  {
   "cell_type": "code",
   "execution_count": 214,
   "metadata": {},
   "outputs": [
    {
     "name": "stdout",
     "output_type": "stream",
     "text": [
      "Most recent event in the Database:\n",
      "2023-03-07 00:00:00\n"
     ]
    }
   ],
   "source": [
    "print(\"Most recent event in the Database:\")\n",
    "\n",
    "most_recent_event = silver_events.find_one(sort=[(\"Date\", -1)])\n",
    "\n",
    "print(most_recent_event[\"Date\"])"
   ]
  },
  {
   "cell_type": "markdown",
   "metadata": {},
   "source": [
    "## Biggest Winners\n",
    "\n",
    "We'll be analysing the Double Tournament era here, which stated in 01.02.2024 according to Chess.com.\n",
    "\n",
    "Source: https://www.chess.com/article/view/titled-tuesday"
   ]
  },
  {
   "cell_type": "code",
   "execution_count": 319,
   "metadata": {},
   "outputs": [
    {
     "name": "stdout",
     "output_type": "stream",
     "text": [
      "Number of Events: 244\n",
      "\n",
      "Players with most wins\n",
      "      Nakamura, Hikaru: 39\n",
      "                Hikaru: 16\n",
      "     Andreikin, Dmitry: 13\n",
      "       Carlsen, Magnus: 12\n",
      "         Dubov, Daniil: 11\n",
      "    Fedoseev, Vladimir: 6\n",
      "     Bortnyk, Olexandr: 6\n",
      "        Xiong, Jeffery: 5\n",
      "     Firouzja, Alireza: 5\n",
      "   Duda, Jan-Krzysztof: 5\n"
     ]
    }
   ],
   "source": [
    "match_double_elimination_era = {\n",
    "    \"$match\": {\n",
    "        \"Date\": {\"$gte\": datetime(2022, 1, 31)},\n",
    "    }\n",
    "}\n",
    "\n",
    "winners = silver_events.aggregate(\n",
    "    [\n",
    "        match_double_elimination_era,\n",
    "        {\n",
    "            \"$project\": {\n",
    "                \"results\": {\n",
    "                    \"$filter\": {\n",
    "                        \"input\": \"$results\",\n",
    "                        \"as\": \"r\",\n",
    "                        \"cond\": {\"$eq\": [\"$$r.position\", 1]},\n",
    "                    }\n",
    "                },\n",
    "                \"Date\": 1,\n",
    "            }\n",
    "        },\n",
    "    ]\n",
    ")\n",
    "\n",
    "dict_winners = {}\n",
    "\n",
    "for i in winners:\n",
    "    for winner in i[\"results\"]:\n",
    "        dict_winners.setdefault(winner[\"player\"], 0)\n",
    "        dict_winners[winner[\"player\"]] += 1\n",
    "\n",
    "print(f\"Number of Events: {sum(dict_winners.values())}\\n\")\n",
    "\n",
    "print(f\"Players with most wins\")\n",
    "for key, value in sorted(dict_winners.items(), key=lambda item: item[1], reverse=True)[:10]:\n",
    "    print(f\"{key:>22}: {value}\")"
   ]
  },
  {
   "cell_type": "markdown",
   "metadata": {},
   "source": [
    "#### Notes\n",
    "\n",
    "The following players have multiple accounts in the winners list and will be summed together:\n",
    "\n",
    "- Hikaru Nakamura\n",
    "- Magnus Carlsen\n",
    "- Alireza Firouzja\n",
    "- Aleksei Sarana\n",
    "- Andreikin, Dmitry\n",
    "\n"
   ]
  },
  {
   "cell_type": "code",
   "execution_count": 320,
   "metadata": {},
   "outputs": [
    {
     "name": "stdout",
     "output_type": "stream",
     "text": [
      "Players with most wins\n",
      "      Nakamura, Hikaru: 55\n",
      "     Andreikin, Dmitry: 16\n",
      "       Carlsen, Magnus: 16\n",
      "         Dubov, Daniil: 11\n",
      "     Firouzja, Alireza: 9\n",
      "        Sarana, Alexey: 8\n",
      "   Duda, Jan-Krzysztof: 8\n",
      "    Fedoseev, Vladimir: 6\n",
      "     Bortnyk, Olexandr: 6\n",
      "        Xiong, Jeffery: 5\n"
     ]
    }
   ],
   "source": [
    "dict_multiple_accounts = {\n",
    "    \"Nakamura, Hikaru\": \"Hikaru\",\n",
    "    \"Carlsen, Magnus\": \"MagnusCarlsen\",\n",
    "    \"Firouzja, Alireza\": \"Firouzja2003\",\n",
    "    \"Sarana, Alexey\": \"mishanick\",\n",
    "    \"Andreikin, Dmitry\": \"FairChess_on_YouTube\",\n",
    "    \"Duda, Jan-Krzysztof\": \"Polish_fighter3000\",\n",
    "}\n",
    "\n",
    "for key, value in dict_multiple_accounts.items():\n",
    "    dict_winners[key] += dict_winners[value]\n",
    "    del dict_winners[value]\n",
    "\n",
    "print(f\"Players with most wins\")\n",
    "for key, value in sorted(dict_winners.items(), key=lambda item: item[1], reverse=True)[:10]:\n",
    "    print(f\"{key:>22}: {value}\")"
   ]
  },
  {
   "cell_type": "markdown",
   "metadata": {},
   "source": [
    "## Biggest upsets\n",
    "\n",
    "An upset is when one player's rating is lower than the other player's.\n",
    "\n",
    "Here we'll be looking into which were the biggest upsets in the Double-Tournament Era."
   ]
  },
  {
   "cell_type": "code",
   "execution_count": 219,
   "metadata": {},
   "outputs": [
    {
     "data": {
      "text/html": [
       "<style type=\"text/css\">\n",
       "</style>\n",
       "<table id=\"T_978d9\">\n",
       "  <thead>\n",
       "    <tr>\n",
       "      <th class=\"blank level0\" >&nbsp;</th>\n",
       "      <th id=\"T_978d9_level0_col0\" class=\"col_heading level0 col0\" >Event</th>\n",
       "      <th id=\"T_978d9_level0_col1\" class=\"col_heading level0 col1\" >Upset</th>\n",
       "      <th id=\"T_978d9_level0_col2\" class=\"col_heading level0 col2\" >White</th>\n",
       "      <th id=\"T_978d9_level0_col3\" class=\"col_heading level0 col3\" >WhiteElo</th>\n",
       "      <th id=\"T_978d9_level0_col4\" class=\"col_heading level0 col4\" >Black</th>\n",
       "      <th id=\"T_978d9_level0_col5\" class=\"col_heading level0 col5\" >BlackElo</th>\n",
       "      <th id=\"T_978d9_level0_col6\" class=\"col_heading level0 col6\" >Chances of Upset %</th>\n",
       "    </tr>\n",
       "  </thead>\n",
       "  <tbody>\n",
       "    <tr>\n",
       "      <th id=\"T_978d9_level0_row0\" class=\"row_heading level0 row0\" >0</th>\n",
       "      <td id=\"T_978d9_row0_col0\" class=\"data row0 col0\" >Titled Tuesday Blitz December 20 Early 2022</td>\n",
       "      <td id=\"T_978d9_row0_col1\" class=\"data row0 col1\" >-1619</td>\n",
       "      <td id=\"T_978d9_row0_col2\" class=\"data row0 col2\" >Susal_De_Silva</td>\n",
       "      <td id=\"T_978d9_row0_col3\" class=\"data row0 col3\" >2808</td>\n",
       "      <td id=\"T_978d9_row0_col4\" class=\"data row0 col4\" >Kazgildy, Fariza</td>\n",
       "      <td id=\"T_978d9_row0_col5\" class=\"data row0 col5\" >1189</td>\n",
       "      <td id=\"T_978d9_row0_col6\" class=\"data row0 col6\" >0.0090%</td>\n",
       "    </tr>\n",
       "    <tr>\n",
       "      <th id=\"T_978d9_level0_row1\" class=\"row_heading level0 row1\" >1</th>\n",
       "      <td id=\"T_978d9_row1_col0\" class=\"data row1 col0\" >Titled Tuesday Blitz October 18 Late 2022</td>\n",
       "      <td id=\"T_978d9_row1_col1\" class=\"data row1 col1\" >-1546</td>\n",
       "      <td id=\"T_978d9_row1_col2\" class=\"data row1 col2\" >Eisa Mohmood, Alkhoori</td>\n",
       "      <td id=\"T_978d9_row1_col3\" class=\"data row1 col3\" >1245</td>\n",
       "      <td id=\"T_978d9_row1_col4\" class=\"data row1 col4\" >Bordi, Kevin</td>\n",
       "      <td id=\"T_978d9_row1_col5\" class=\"data row1 col5\" >2791</td>\n",
       "      <td id=\"T_978d9_row1_col6\" class=\"data row1 col6\" >0.0136%</td>\n",
       "    </tr>\n",
       "    <tr>\n",
       "      <th id=\"T_978d9_level0_row2\" class=\"row_heading level0 row2\" >2</th>\n",
       "      <td id=\"T_978d9_row2_col0\" class=\"data row2 col0\" >Titled Tuesday Blitz December 20 Early 2022</td>\n",
       "      <td id=\"T_978d9_row2_col1\" class=\"data row2 col1\" >-1536</td>\n",
       "      <td id=\"T_978d9_row2_col2\" class=\"data row2 col2\" >Kopylov_Alex</td>\n",
       "      <td id=\"T_978d9_row2_col3\" class=\"data row2 col3\" >2790</td>\n",
       "      <td id=\"T_978d9_row2_col4\" class=\"data row2 col4\" >Mone, Ved</td>\n",
       "      <td id=\"T_978d9_row2_col5\" class=\"data row2 col5\" >1254</td>\n",
       "      <td id=\"T_978d9_row2_col6\" class=\"data row2 col6\" >0.0145%</td>\n",
       "    </tr>\n",
       "    <tr>\n",
       "      <th id=\"T_978d9_level0_row3\" class=\"row_heading level0 row3\" >3</th>\n",
       "      <td id=\"T_978d9_row3_col0\" class=\"data row3 col0\" >Titled Tuesday Blitz December 20 Early 2022</td>\n",
       "      <td id=\"T_978d9_row3_col1\" class=\"data row3 col1\" >-1463</td>\n",
       "      <td id=\"T_978d9_row3_col2\" class=\"data row3 col2\" >The_Machine04</td>\n",
       "      <td id=\"T_978d9_row3_col3\" class=\"data row3 col3\" >2652</td>\n",
       "      <td id=\"T_978d9_row3_col4\" class=\"data row3 col4\" >Kazgildy, Fariza</td>\n",
       "      <td id=\"T_978d9_row3_col5\" class=\"data row3 col5\" >1189</td>\n",
       "      <td id=\"T_978d9_row3_col6\" class=\"data row3 col6\" >0.0220%</td>\n",
       "    </tr>\n",
       "    <tr>\n",
       "      <th id=\"T_978d9_level0_row4\" class=\"row_heading level0 row4\" >4</th>\n",
       "      <td id=\"T_978d9_row4_col0\" class=\"data row4 col0\" >Titled Tuesday Blitz April 26 Early 2022</td>\n",
       "      <td id=\"T_978d9_row4_col1\" class=\"data row4 col1\" >-1414</td>\n",
       "      <td id=\"T_978d9_row4_col2\" class=\"data row4 col2\" >Bashirli, Saadat</td>\n",
       "      <td id=\"T_978d9_row4_col3\" class=\"data row4 col3\" >1173</td>\n",
       "      <td id=\"T_978d9_row4_col4\" class=\"data row4 col4\" >Bachmann, Axel</td>\n",
       "      <td id=\"T_978d9_row4_col5\" class=\"data row4 col5\" >2587</td>\n",
       "      <td id=\"T_978d9_row4_col6\" class=\"data row4 col6\" >0.0292%</td>\n",
       "    </tr>\n",
       "    <tr>\n",
       "      <th id=\"T_978d9_level0_row5\" class=\"row_heading level0 row5\" >5</th>\n",
       "      <td id=\"T_978d9_row5_col0\" class=\"data row5 col0\" >Titled Tuesday Blitz December 20 Early 2022</td>\n",
       "      <td id=\"T_978d9_row5_col1\" class=\"data row5 col1\" >-1393</td>\n",
       "      <td id=\"T_978d9_row5_col2\" class=\"data row5 col2\" >Benamar, Benious</td>\n",
       "      <td id=\"T_978d9_row5_col3\" class=\"data row5 col3\" >1136</td>\n",
       "      <td id=\"T_978d9_row5_col4\" class=\"data row5 col4\" >lemayvega</td>\n",
       "      <td id=\"T_978d9_row5_col5\" class=\"data row5 col5\" >2529</td>\n",
       "      <td id=\"T_978d9_row5_col6\" class=\"data row5 col6\" >0.0329%</td>\n",
       "    </tr>\n",
       "    <tr>\n",
       "      <th id=\"T_978d9_level0_row6\" class=\"row_heading level0 row6\" >6</th>\n",
       "      <td id=\"T_978d9_row6_col0\" class=\"data row6 col0\" >Titled Tuesday Blitz December 20 Early 2022</td>\n",
       "      <td id=\"T_978d9_row6_col1\" class=\"data row6 col1\" >-1350</td>\n",
       "      <td id=\"T_978d9_row6_col2\" class=\"data row6 col2\" >CDOEspiao</td>\n",
       "      <td id=\"T_978d9_row6_col3\" class=\"data row6 col3\" >2486</td>\n",
       "      <td id=\"T_978d9_row6_col4\" class=\"data row6 col4\" >Benamar, Benious</td>\n",
       "      <td id=\"T_978d9_row6_col5\" class=\"data row6 col5\" >1136</td>\n",
       "      <td id=\"T_978d9_row6_col6\" class=\"data row6 col6\" >0.0422%</td>\n",
       "    </tr>\n",
       "    <tr>\n",
       "      <th id=\"T_978d9_level0_row7\" class=\"row_heading level0 row7\" >7</th>\n",
       "      <td id=\"T_978d9_row7_col0\" class=\"data row7 col0\" >Titled Tuesday Blitz December 20 Early 2022</td>\n",
       "      <td id=\"T_978d9_row7_col1\" class=\"data row7 col1\" >-1328</td>\n",
       "      <td id=\"T_978d9_row7_col2\" class=\"data row7 col2\" >Castro Andrade, Seirbert Cristian</td>\n",
       "      <td id=\"T_978d9_row7_col3\" class=\"data row7 col3\" >1364</td>\n",
       "      <td id=\"T_978d9_row7_col4\" class=\"data row7 col4\" >Xiong, Jeffery</td>\n",
       "      <td id=\"T_978d9_row7_col5\" class=\"data row7 col5\" >2692</td>\n",
       "      <td id=\"T_978d9_row7_col6\" class=\"data row7 col6\" >0.0478%</td>\n",
       "    </tr>\n",
       "    <tr>\n",
       "      <th id=\"T_978d9_level0_row8\" class=\"row_heading level0 row8\" >8</th>\n",
       "      <td id=\"T_978d9_row8_col0\" class=\"data row8 col0\" >Titled Tuesday Blitz December 20 Early 2022</td>\n",
       "      <td id=\"T_978d9_row8_col1\" class=\"data row8 col1\" >-1311</td>\n",
       "      <td id=\"T_978d9_row8_col2\" class=\"data row8 col2\" >Yildiz, Ayse Emek</td>\n",
       "      <td id=\"T_978d9_row8_col3\" class=\"data row8 col3\" >1702</td>\n",
       "      <td id=\"T_978d9_row8_col4\" class=\"data row8 col4\" >OparinGrigoriy</td>\n",
       "      <td id=\"T_978d9_row8_col5\" class=\"data row8 col5\" >3013</td>\n",
       "      <td id=\"T_978d9_row8_col6\" class=\"data row8 col6\" >0.0528%</td>\n",
       "    </tr>\n",
       "    <tr>\n",
       "      <th id=\"T_978d9_level0_row9\" class=\"row_heading level0 row9\" >9</th>\n",
       "      <td id=\"T_978d9_row9_col0\" class=\"data row9 col0\" >Titled Tuesday Blitz January 03 Late 2023</td>\n",
       "      <td id=\"T_978d9_row9_col1\" class=\"data row9 col1\" >-1309</td>\n",
       "      <td id=\"T_978d9_row9_col2\" class=\"data row9 col2\" >Gaehwiler, Gabriel</td>\n",
       "      <td id=\"T_978d9_row9_col3\" class=\"data row9 col3\" >2404</td>\n",
       "      <td id=\"T_978d9_row9_col4\" class=\"data row9 col4\" >Eisa Mohmood, Alkhoori</td>\n",
       "      <td id=\"T_978d9_row9_col5\" class=\"data row9 col5\" >1095</td>\n",
       "      <td id=\"T_978d9_row9_col6\" class=\"data row9 col6\" >0.0534%</td>\n",
       "    </tr>\n",
       "  </tbody>\n",
       "</table>\n"
      ],
      "text/plain": [
       "<pandas.io.formats.style.Styler at 0x7a0c68161e70>"
      ]
     },
     "execution_count": 219,
     "metadata": {},
     "output_type": "execute_result"
    }
   ],
   "source": [
    "upsets = (\n",
    "    silver_games.find(\n",
    "        {\n",
    "            \"WhiteElo\": {\"$gt\": 1000},\n",
    "            \"BlackElo\": {\"$gt\": 1000},\n",
    "            \"Date\": {\"$gte\": datetime(2022, 1, 1)},\n",
    "        }\n",
    "    )\n",
    "    .limit(10)\n",
    "    .sort({\"Upset\": 1})\n",
    ")\n",
    "\n",
    "upsets = pd.DataFrame(upsets)[[\"Event\", \"Upset\", \"White\", \"WhiteElo\", \"Black\", \"BlackElo\"]]\n",
    "\n",
    "upsets.loc[:, \"Chances of Upset %\"] = 1 / (1 + 10 ** (-upsets[\"Upset\"] / 400))\n",
    "\n",
    "upsets.style.format({\"Chances of Upset %\": \"{:.4%}\", \"Upset\": \"{:.0f}\"})"
   ]
  },
  {
   "cell_type": "markdown",
   "metadata": {},
   "source": [
    "### Notes\n",
    "\n",
    "In the tables above we can see that the biggest upset in this tournament had an elo difference of 1619, this had a chance of happening of just 0.009% ([Source](https://fivethirtyeight.com/features/introducing-nfl-elo-ratings/))."
   ]
  },
  {
   "cell_type": "markdown",
   "metadata": {},
   "source": [
    "### Carlsen and Nakamura Upsets"
   ]
  },
  {
   "cell_type": "code",
   "execution_count": 220,
   "metadata": {},
   "outputs": [
    {
     "name": "stdout",
     "output_type": "stream",
     "text": [
      "Number of games player by Carlsen: 361\n"
     ]
    },
    {
     "data": {
      "text/html": [
       "<style type=\"text/css\">\n",
       "</style>\n",
       "<table id=\"T_5590c\">\n",
       "  <thead>\n",
       "    <tr>\n",
       "      <th class=\"blank level0\" >&nbsp;</th>\n",
       "      <th id=\"T_5590c_level0_col0\" class=\"col_heading level0 col0\" >Event</th>\n",
       "      <th id=\"T_5590c_level0_col1\" class=\"col_heading level0 col1\" >Upset</th>\n",
       "      <th id=\"T_5590c_level0_col2\" class=\"col_heading level0 col2\" >White</th>\n",
       "      <th id=\"T_5590c_level0_col3\" class=\"col_heading level0 col3\" >WhiteElo</th>\n",
       "      <th id=\"T_5590c_level0_col4\" class=\"col_heading level0 col4\" >Black</th>\n",
       "      <th id=\"T_5590c_level0_col5\" class=\"col_heading level0 col5\" >BlackElo</th>\n",
       "      <th id=\"T_5590c_level0_col6\" class=\"col_heading level0 col6\" >Chances of Upset %</th>\n",
       "    </tr>\n",
       "  </thead>\n",
       "  <tbody>\n",
       "    <tr>\n",
       "      <th id=\"T_5590c_level0_row0\" class=\"row_heading level0 row0\" >0</th>\n",
       "      <td id=\"T_5590c_row0_col0\" class=\"data row0 col0\" >Titled Tuesday Blitz March 21 Early 2023</td>\n",
       "      <td id=\"T_5590c_row0_col1\" class=\"data row0 col1\" >-475</td>\n",
       "      <td id=\"T_5590c_row0_col2\" class=\"data row0 col2\" >Carlsen, Magnus</td>\n",
       "      <td id=\"T_5590c_row0_col3\" class=\"data row0 col3\" >2852</td>\n",
       "      <td id=\"T_5590c_row0_col4\" class=\"data row0 col4\" >Tillyaev, Ulugbek</td>\n",
       "      <td id=\"T_5590c_row0_col5\" class=\"data row0 col5\" >2377</td>\n",
       "      <td id=\"T_5590c_row0_col6\" class=\"data row0 col6\" >6.0978%</td>\n",
       "    </tr>\n",
       "    <tr>\n",
       "      <th id=\"T_5590c_level0_row1\" class=\"row_heading level0 row1\" >1</th>\n",
       "      <td id=\"T_5590c_row1_col0\" class=\"data row1 col0\" >Titled Tuesday Blitz January 31 Late 2023</td>\n",
       "      <td id=\"T_5590c_row1_col1\" class=\"data row1 col1\" >-440</td>\n",
       "      <td id=\"T_5590c_row1_col2\" class=\"data row1 col2\" >Erdogdu, Mert</td>\n",
       "      <td id=\"T_5590c_row1_col3\" class=\"data row1 col3\" >2413</td>\n",
       "      <td id=\"T_5590c_row1_col4\" class=\"data row1 col4\" >Carlsen, Magnus</td>\n",
       "      <td id=\"T_5590c_row1_col5\" class=\"data row1 col5\" >2853</td>\n",
       "      <td id=\"T_5590c_row1_col6\" class=\"data row1 col6\" >7.3588%</td>\n",
       "    </tr>\n",
       "    <tr>\n",
       "      <th id=\"T_5590c_level0_row2\" class=\"row_heading level0 row2\" >2</th>\n",
       "      <td id=\"T_5590c_row2_col0\" class=\"data row2 col0\" >Titled Tuesday Blitz May 9 Late 2023</td>\n",
       "      <td id=\"T_5590c_row2_col1\" class=\"data row2 col1\" >-391</td>\n",
       "      <td id=\"T_5590c_row2_col2\" class=\"data row2 col2\" >Carlsen, Magnus</td>\n",
       "      <td id=\"T_5590c_row2_col3\" class=\"data row2 col3\" >2852</td>\n",
       "      <td id=\"T_5590c_row2_col4\" class=\"data row2 col4\" >Makarian, Rudik</td>\n",
       "      <td id=\"T_5590c_row2_col5\" class=\"data row2 col5\" >2461</td>\n",
       "      <td id=\"T_5590c_row2_col6\" class=\"data row2 col6\" >9.5282%</td>\n",
       "    </tr>\n",
       "    <tr>\n",
       "      <th id=\"T_5590c_level0_row3\" class=\"row_heading level0 row3\" >3</th>\n",
       "      <td id=\"T_5590c_row3_col0\" class=\"data row3 col0\" >Titled Tuesday Blitz July 25 Late 2023</td>\n",
       "      <td id=\"T_5590c_row3_col1\" class=\"data row3 col1\" >-355</td>\n",
       "      <td id=\"T_5590c_row3_col2\" class=\"data row3 col2\" >Carlsen, Magnus</td>\n",
       "      <td id=\"T_5590c_row3_col3\" class=\"data row3 col3\" >3256</td>\n",
       "      <td id=\"T_5590c_row3_col4\" class=\"data row3 col4\" >Dardha, Daniel</td>\n",
       "      <td id=\"T_5590c_row3_col5\" class=\"data row3 col5\" >2901</td>\n",
       "      <td id=\"T_5590c_row3_col6\" class=\"data row3 col6\" >11.4706%</td>\n",
       "    </tr>\n",
       "    <tr>\n",
       "      <th id=\"T_5590c_level0_row4\" class=\"row_heading level0 row4\" >4</th>\n",
       "      <td id=\"T_5590c_row4_col0\" class=\"data row4 col0\" >Titled Tuesday Blitz February 28 Late 2023</td>\n",
       "      <td id=\"T_5590c_row4_col1\" class=\"data row4 col1\" >-352</td>\n",
       "      <td id=\"T_5590c_row4_col2\" class=\"data row4 col2\" >Pranav, V</td>\n",
       "      <td id=\"T_5590c_row4_col3\" class=\"data row4 col3\" >2500</td>\n",
       "      <td id=\"T_5590c_row4_col4\" class=\"data row4 col4\" >Carlsen, Magnus</td>\n",
       "      <td id=\"T_5590c_row4_col5\" class=\"data row4 col5\" >2852</td>\n",
       "      <td id=\"T_5590c_row4_col6\" class=\"data row4 col6\" >11.6472%</td>\n",
       "    </tr>\n",
       "  </tbody>\n",
       "</table>\n"
      ],
      "text/plain": [
       "<pandas.io.formats.style.Styler at 0x7a0bdc1fc640>"
      ]
     },
     "execution_count": 220,
     "metadata": {},
     "output_type": "execute_result"
    }
   ],
   "source": [
    "print(\n",
    "    f\"Number of games player by Carlsen: {silver_games.count_documents({'$or': [{'White': 'Carlsen, Magnus'}, {'Black': 'Carlsen, Magnus'}]})}\"\n",
    ")\n",
    "\n",
    "upsets = (\n",
    "    silver_games.find(\n",
    "        {\n",
    "            \"$or\": [\n",
    "                {\"White\": {\"$in\": [\"Carlsen, Magnus\"]}},\n",
    "                {\"Black\": {\"$in\": [\"Carlsen, Magnus\"]}},\n",
    "            ],\n",
    "            \"WhiteElo\": {\"$gt\": 1000},\n",
    "            \"BlackElo\": {\"$gt\": 1000},\n",
    "        }\n",
    "    )\n",
    "    .limit(5)\n",
    "    .sort({\"Upset\": 1})\n",
    ")\n",
    "\n",
    "carlsen_upsets = pd.DataFrame(upsets)[[\"Event\", \"Upset\", \"White\", \"WhiteElo\", \"Black\", \"BlackElo\"]]\n",
    "\n",
    "carlsen_upsets.loc[:, \"Chances of Upset %\"] = 1 / (1 + 10 ** (-carlsen_upsets[\"Upset\"] / 400))\n",
    "\n",
    "carlsen_upsets.style.format({\"Chances of Upset %\": \"{:.4%}\", \"Upset\": \"{:.0f}\"})"
   ]
  },
  {
   "cell_type": "code",
   "execution_count": 221,
   "metadata": {},
   "outputs": [
    {
     "name": "stdout",
     "output_type": "stream",
     "text": [
      "Number of games player by Nakamura: 1521\n"
     ]
    },
    {
     "data": {
      "text/html": [
       "<style type=\"text/css\">\n",
       "</style>\n",
       "<table id=\"T_fe8d4\">\n",
       "  <thead>\n",
       "    <tr>\n",
       "      <th class=\"blank level0\" >&nbsp;</th>\n",
       "      <th id=\"T_fe8d4_level0_col0\" class=\"col_heading level0 col0\" >Event</th>\n",
       "      <th id=\"T_fe8d4_level0_col1\" class=\"col_heading level0 col1\" >Upset</th>\n",
       "      <th id=\"T_fe8d4_level0_col2\" class=\"col_heading level0 col2\" >White</th>\n",
       "      <th id=\"T_fe8d4_level0_col3\" class=\"col_heading level0 col3\" >WhiteElo</th>\n",
       "      <th id=\"T_fe8d4_level0_col4\" class=\"col_heading level0 col4\" >Black</th>\n",
       "      <th id=\"T_fe8d4_level0_col5\" class=\"col_heading level0 col5\" >BlackElo</th>\n",
       "      <th id=\"T_fe8d4_level0_col6\" class=\"col_heading level0 col6\" >Chances of Upset %</th>\n",
       "    </tr>\n",
       "  </thead>\n",
       "  <tbody>\n",
       "    <tr>\n",
       "      <th id=\"T_fe8d4_level0_row0\" class=\"row_heading level0 row0\" >0</th>\n",
       "      <td id=\"T_fe8d4_row0_col0\" class=\"data row0 col0\" >Titled Tuesday Blitz August 15 Early 2023</td>\n",
       "      <td id=\"T_fe8d4_row0_col1\" class=\"data row0 col1\" >-1180</td>\n",
       "      <td id=\"T_fe8d4_row0_col2\" class=\"data row0 col2\" >Nakamura, Hikaru</td>\n",
       "      <td id=\"T_fe8d4_row0_col3\" class=\"data row0 col3\" >3255</td>\n",
       "      <td id=\"T_fe8d4_row0_col4\" class=\"data row0 col4\" >Nugumanov, Bakhtiyar</td>\n",
       "      <td id=\"T_fe8d4_row0_col5\" class=\"data row0 col5\" >2075</td>\n",
       "      <td id=\"T_fe8d4_row0_col6\" class=\"data row0 col6\" >0.1121%</td>\n",
       "    </tr>\n",
       "    <tr>\n",
       "      <th id=\"T_fe8d4_level0_row1\" class=\"row_heading level0 row1\" >1</th>\n",
       "      <td id=\"T_fe8d4_row1_col0\" class=\"data row1 col0\" >Titled Tuesday Blitz May 10 Early 2022</td>\n",
       "      <td id=\"T_fe8d4_row1_col1\" class=\"data row1 col1\" >-1054</td>\n",
       "      <td id=\"T_fe8d4_row1_col2\" class=\"data row1 col2\" >Nakamura, Hikaru</td>\n",
       "      <td id=\"T_fe8d4_row1_col3\" class=\"data row1 col3\" >2850</td>\n",
       "      <td id=\"T_fe8d4_row1_col4\" class=\"data row1 col4\" >Aslanov, Umid</td>\n",
       "      <td id=\"T_fe8d4_row1_col5\" class=\"data row1 col5\" >1796</td>\n",
       "      <td id=\"T_fe8d4_row1_col6\" class=\"data row1 col6\" >0.2312%</td>\n",
       "    </tr>\n",
       "    <tr>\n",
       "      <th id=\"T_fe8d4_level0_row2\" class=\"row_heading level0 row2\" >2</th>\n",
       "      <td id=\"T_fe8d4_row2_col0\" class=\"data row2 col0\" >Titled Tuesday Blitz August 15 Early 2023</td>\n",
       "      <td id=\"T_fe8d4_row2_col1\" class=\"data row2 col1\" >-761</td>\n",
       "      <td id=\"T_fe8d4_row2_col2\" class=\"data row2 col2\" >Benedetti, Julio</td>\n",
       "      <td id=\"T_fe8d4_row2_col3\" class=\"data row2 col3\" >2510</td>\n",
       "      <td id=\"T_fe8d4_row2_col4\" class=\"data row2 col4\" >Nakamura, Hikaru</td>\n",
       "      <td id=\"T_fe8d4_row2_col5\" class=\"data row2 col5\" >3271</td>\n",
       "      <td id=\"T_fe8d4_row2_col6\" class=\"data row2 col6\" >1.2362%</td>\n",
       "    </tr>\n",
       "    <tr>\n",
       "      <th id=\"T_fe8d4_level0_row3\" class=\"row_heading level0 row3\" >3</th>\n",
       "      <td id=\"T_fe8d4_row3_col0\" class=\"data row3 col0\" >Titled Tuesday Blitz June 6 Late 2023</td>\n",
       "      <td id=\"T_fe8d4_row3_col1\" class=\"data row3 col1\" >-759</td>\n",
       "      <td id=\"T_fe8d4_row3_col2\" class=\"data row3 col2\" >Nakamura, Hikaru</td>\n",
       "      <td id=\"T_fe8d4_row3_col3\" class=\"data row3 col3\" >2874</td>\n",
       "      <td id=\"T_fe8d4_row3_col4\" class=\"data row3 col4\" >Hajiyev, Kanan</td>\n",
       "      <td id=\"T_fe8d4_row3_col5\" class=\"data row3 col5\" >2115</td>\n",
       "      <td id=\"T_fe8d4_row3_col6\" class=\"data row3 col6\" >1.2504%</td>\n",
       "    </tr>\n",
       "    <tr>\n",
       "      <th id=\"T_fe8d4_level0_row4\" class=\"row_heading level0 row4\" >4</th>\n",
       "      <td id=\"T_fe8d4_row4_col0\" class=\"data row4 col0\" >Titled Tuesday Blitz May 10 Early 2022</td>\n",
       "      <td id=\"T_fe8d4_row4_col1\" class=\"data row4 col1\" >-656</td>\n",
       "      <td id=\"T_fe8d4_row4_col2\" class=\"data row4 col2\" >Stoleriu, George</td>\n",
       "      <td id=\"T_fe8d4_row4_col3\" class=\"data row4 col3\" >2194</td>\n",
       "      <td id=\"T_fe8d4_row4_col4\" class=\"data row4 col4\" >Nakamura, Hikaru</td>\n",
       "      <td id=\"T_fe8d4_row4_col5\" class=\"data row4 col5\" >2850</td>\n",
       "      <td id=\"T_fe8d4_row4_col6\" class=\"data row4 col6\" >2.2396%</td>\n",
       "    </tr>\n",
       "  </tbody>\n",
       "</table>\n"
      ],
      "text/plain": [
       "<pandas.io.formats.style.Styler at 0x7a0c6bf594b0>"
      ]
     },
     "execution_count": 221,
     "metadata": {},
     "output_type": "execute_result"
    }
   ],
   "source": [
    "print(\n",
    "    f\"Number of games player by Nakamura: {silver_games.count_documents({'$or': [{'White': 'Nakamura, Hikaru'}, {'Black': 'Nakamura, Hikaru'}]})}\"\n",
    ")\n",
    "\n",
    "upsets = (\n",
    "    silver_games.find(\n",
    "        {\n",
    "            \"$or\": [\n",
    "                {\"White\": {\"$in\": [\"Nakamura, Hikaru\"]}},\n",
    "                {\"Black\": {\"$in\": [\"Nakamura, Hikaru\"]}},\n",
    "            ],\n",
    "            \"WhiteElo\": {\"$gt\": 1000},\n",
    "            \"BlackElo\": {\"$gt\": 1000},\n",
    "        }\n",
    "    )\n",
    "    .limit(5)\n",
    "    .sort({\"Upset\": 1})\n",
    ")\n",
    "\n",
    "nakamura_upsets = pd.DataFrame(upsets)[[\"Event\", \"Upset\", \"White\", \"WhiteElo\", \"Black\", \"BlackElo\"]]\n",
    "\n",
    "nakamura_upsets.loc[:, \"Chances of Upset %\"] = 1 / (1 + 10 ** (-nakamura_upsets[\"Upset\"] / 400))\n",
    "\n",
    "nakamura_upsets.style.format({\"Chances of Upset %\": \"{:.4%}\", \"Upset\": \"{:.0f}\"})"
   ]
  },
  {
   "cell_type": "markdown",
   "metadata": {},
   "source": [
    "### Notes on Nakamura and Carlsen Upsets\n",
    "\n",
    "Magnus Carlsen never had a huge upset, having lost to someone with a rating difference of 475 and a chance of upset of 6%.\n",
    "\n",
    "Hikaru Nakamura had more upsets, losing many times to players with over 500 difference in rating and a couple of times with chances of upsets below 1%."
   ]
  },
  {
   "cell_type": "markdown",
   "metadata": {},
   "source": [
    "## Who played the most editions and most games"
   ]
  },
  {
   "cell_type": "code",
   "execution_count": 227,
   "metadata": {},
   "outputs": [
    {
     "name": "stdout",
     "output_type": "stream",
     "text": [
      "Number of games played in the 2022 Double Elimination era: 374484\n"
     ]
    }
   ],
   "source": [
    "total_games = silver_games.aggregate([match_double_elimination_era, {\"$count\": \"total_games\"}])\n",
    "\n",
    "print(\n",
    "    \"Number of games played in the 2022 Double Elimination era:\", total_games.next()[\"total_games\"]\n",
    ")"
   ]
  },
  {
   "cell_type": "code",
   "execution_count": 229,
   "metadata": {},
   "outputs": [],
   "source": [
    "total_games_per_player = silver_games.aggregate(\n",
    "    [\n",
    "        match_double_elimination_era,\n",
    "        {\n",
    "            \"$group\": {\n",
    "                \"_id\": \"$White\",\n",
    "                \"total_games\": {\"$sum\": 1},\n",
    "            }\n",
    "        },\n",
    "    ]\n",
    ")"
   ]
  },
  {
   "cell_type": "code",
   "execution_count": 335,
   "metadata": {},
   "outputs": [
    {
     "name": "stdout",
     "output_type": "stream",
     "text": [
      "Games: 1686 - Player: Zhigalko, Sergei\n",
      "Games: 1655 - Player: Kamsky, Gata\n",
      "Games: 1580 - Player: Bortnyk, Olexandr\n",
      "Games: 1565 - Player: Andreikin, Dmitry\n",
      "Games: 1503 - Player: Martinez Alcantara, Jose Eduardo\n",
      "Games: 1456 - Player: Rustemov, Alexander\n",
      "Games: 1445 - Player: Paravyan, David\n",
      "Games: 1438 - Player: Vlassov, Nikolai\n",
      "Games: 1428 - Player: Janaszak, Dawid\n",
      "Games: 1403 - Player: Sarana, Alexey\n",
      "Games: 1345 - Player: Nakamura, Hikaru\n",
      "Games: 1335 - Player: Pakleza, Zbigniew\n",
      "Games: 1292 - Player: Ibarra Jerez, Jose Carlos\n",
      "Games: 1282 - Player: Bluebaum, Matthias\n",
      "Games: 1249 - Player: Reprintsev, Alexander\n",
      "Games: 1244 - Player: Estrada Nieto, Julian\n",
      "Games: 1241 - Player: Korchmar, Vasiliy\n",
      "Games: 1235 - Player: KorolDimitriy75\n",
      "Games: 1234 - Player: Przybylski, Wojciech\n",
      "Games: 1219 - Player: Hoffmann, Asa\n"
     ]
    }
   ],
   "source": [
    "total_games_per_player = silver_games.aggregate(\n",
    "    [\n",
    "        match_double_elimination_era,\n",
    "        {\"$project\": {\"White\": 1, \"Black\": 1, \"_id\": 0}},\n",
    "        {\"$project\": {\"values\": {\"$objectToArray\": \"$$ROOT\"}}},\n",
    "        {\"$unwind\": \"$values\"},\n",
    "        {\"$group\": {\"_id\": \"$values.v\", \"count\": {\"$sum\": 1}}},\n",
    "        {\"$sort\": {\"count\": -1}},\n",
    "    ]\n",
    ")\n",
    "\n",
    "for i in total_games_per_player:\n",
    "    print(f\"Games: {i['count']} - Player: {i['_id']}\")"
   ]
  }
 ],
 "metadata": {
  "kernelspec": {
   "display_name": "Python 3 (ipykernel)",
   "language": "python",
   "name": "python3"
  },
  "language_info": {
   "codemirror_mode": {
    "name": "ipython",
    "version": 3
   },
   "file_extension": ".py",
   "mimetype": "text/x-python",
   "name": "python",
   "nbconvert_exporter": "python",
   "pygments_lexer": "ipython3",
   "version": "3.10.13"
  }
 },
 "nbformat": 4,
 "nbformat_minor": 2
}
